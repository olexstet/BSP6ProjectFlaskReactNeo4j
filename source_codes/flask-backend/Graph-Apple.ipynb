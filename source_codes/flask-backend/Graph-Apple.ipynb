{
 "cells": [
  {
   "cell_type": "code",
   "execution_count": 1,
   "metadata": {},
   "outputs": [],
   "source": [
    "import sys\n",
    "sys.path.append('../flask-backend/')"
   ]
  },
  {
   "cell_type": "code",
   "execution_count": 2,
   "metadata": {},
   "outputs": [],
   "source": [
    "import neo4jupyter\n",
    "from graphCreation.graphSetups.commands import *"
   ]
  },
  {
   "cell_type": "code",
   "execution_count": 3,
   "metadata": {
    "scrolled": true
   },
   "outputs": [],
   "source": [
    "from graphCreation.graphCreate import generateGraph\n",
    "generateGraph(\"apple\",[[1,2],[2,2],[3,2]], [[1,3],[2,2]], [[0,2],[1,2],[-2,2]])   "
   ]
  },
  {
   "cell_type": "code",
   "execution_count": 4,
   "metadata": {
    "scrolled": false
   },
   "outputs": [
    {
     "data": {
      "application/javascript": [
       "var link = document.createElement(\"link\");\n",
       "\tlink.ref = \"stylesheet\";\n",
       "\tlink.type = \"text/css\";\n",
       "\tlink.href = \"https://cdnjs.cloudflare.com/ajax/libs/vis/4.8.2/vis.css\";\n",
       "\tdocument.head.appendChild(link);\n",
       "require.config({     paths: {         vis: '//cdnjs.cloudflare.com/ajax/libs/vis/4.8.2/vis.min'     } }); require(['vis'], function(vis) {  window.vis = vis; }); "
      ],
      "text/plain": [
       "<IPython.core.display.Javascript object>"
      ]
     },
     "metadata": {},
     "output_type": "display_data"
    },
    {
     "data": {
      "text/html": [
       "<div id=\"7648dc16-ebfe-4d95-ac34-16e529796bb6\" style=\"height: 400px;\"></div>\n",
       "\n",
       "<script type=\"text/javascript\">\n",
       "\n",
       "    var nodes = [{\"id\": 1388, \"label\": \"feijoa::Name\", \"group\": \"Term\", \"title\": \"(_1388:Term {definition: 'South American shrub having edible greenish plumlike fruit', label: 'feijoa::Name', name: 'feijoa', type: 'Name'})\"}, {\"id\": 1280, \"label\": \"apple::Name\", \"group\": \"Term\", \"title\": \"(_1280:Term {definition: 'fruit with red or yellow or green skin and sweet to tart crisp whitish flesh', label: 'apple::Name', name: 'apple', type: 'Name'})\"}, {\"id\": 1355, \"label\": \"edible_fruit::Name\", \"group\": \"Term\", \"title\": \"(_1355:Term {definition: 'edible reproductive body of a seed plant especially one having sweet flesh', label: 'edible_fruit::Name', name: 'edible_fruit', type: 'Name'})\"}, {\"id\": 1358, \"label\": \"produce::Name\", \"group\": \"Term\", \"title\": \"(_1358:Term {definition: 'fresh fruits and vegetable grown for the market', label: 'produce::Name', name: 'produce', type: 'Name'})\"}, {\"id\": 1379, \"label\": \"food::Name\", \"group\": \"Term\", \"title\": \"(_1379:Term {definition: 'any substance that can be metabolized by an animal to give energy and build tissue', label: 'food::Name', name: 'food', type: 'Name'})\"}, {\"id\": 1384, \"label\": \"lane's_prince_albert::Name\", \"group\": \"Term\", \"title\": \"(_1384:Term {definition: 'apple used primarily in cooking', label: \\\"lane's_prince_albert::Name\\\", name: \\\"lane's_prince_albert\\\", type: 'Name'})\"}, {\"id\": 1394, \"label\": \"rome_beauty::Name\", \"group\": \"Term\", \"title\": \"(_1394:Term {definition: 'large red apple used primarily for baking', label: 'rome_beauty::Name', name: 'rome_beauty', type: 'Name'})\"}, {\"id\": 1393, \"label\": \"newtown_wonder::Name\", \"group\": \"Term\", \"title\": \"(_1393:Term {definition: 'apple used primarily in cooking', label: 'newtown_wonder::Name', name: 'newtown_wonder', type: 'Name'})\"}, {\"id\": 1380, \"label\": \"cooking_apple::Name\", \"group\": \"Term\", \"title\": \"(_1380:Term {definition: 'an apple used primarily in cooking for pies and applesauce etc', label: 'cooking_apple::Name', name: 'cooking_apple', type: 'Name'})\"}, {\"id\": 1405, \"label\": \"northern_spy::Name\", \"group\": \"Term\", \"title\": \"(_1405:Term {definition: 'large late-ripening apple with skin striped with yellow and red', label: 'northern_spy::Name', name: 'northern_spy', type: 'Name'})\"}, {\"id\": 1386, \"label\": \"cortland::Name\", \"group\": \"Term\", \"title\": \"(_1386:Term {definition: 'large apple with a red skin', label: 'cortland::Name', name: 'cortland', type: 'Name'})\"}, {\"id\": 1382, \"label\": \"eating_apple::Name\", \"group\": \"Term\", \"title\": \"(_1382:Term {definition: 'an apple used primarily for eating raw without cooking', label: 'eating_apple::Name', name: 'eating_apple', type: 'Name'})\"}, {\"id\": 1390, \"label\": \"schizocarp::Name\", \"group\": \"Term\", \"title\": \"(_1390:Term {definition: 'a dry dehiscent fruit that at maturity splits into two or more parts each with a single seed', label: 'schizocarp::Name', name: 'schizocarp', type: 'Name'})\"}, {\"id\": 1356, \"label\": \"pome::Name\", \"group\": \"Term\", \"title\": \"(_1356:Term {definition: 'a fleshy fruit (apple or pear or related fruits) having seed chambers and an outer fleshy part', label: 'pome::Name', name: 'pome', type: 'Name'})\"}, {\"id\": 1357, \"label\": \"fruit::Name\", \"group\": \"Term\", \"title\": \"(_1357:Term {definition: 'the ripened reproductive body of a seed plant', label: 'fruit::Name', name: 'fruit', type: 'Name'})\"}, {\"id\": 1381, \"label\": \"crab_apple::Name\", \"group\": \"Term\", \"title\": \"(_1381:Term {definition: 'any of numerous varieties of crab apples cultivated for their small acidic (usually bright red) fruit used for preserves or as ornamentals for their blossoms', label: 'crab_apple::Name', name: 'crab_apple', type: 'Name'})\"}, {\"id\": 1406, \"label\": \"granny_smith::Name\", \"group\": \"Term\", \"title\": \"(_1406:Term {definition: 'apple with a green skin and hard tart flesh', label: 'granny_smith::Name', name: 'granny_smith', type: 'Name'})\"}, {\"id\": 1391, \"label\": \"gourd::Name\", \"group\": \"Term\", \"title\": \"(_1391:Term {definition: 'bottle made from the dried shell of a bottle gourd', label: 'gourd::Name', name: 'gourd', type: 'Name'})\"}, {\"id\": 1387, \"label\": \"durian::Name\", \"group\": \"Term\", \"title\": \"(_1387:Term {definition: 'tree of southeastern Asia having edible oval fruit with a hard spiny rind', label: 'durian::Name', name: 'durian', type: 'Name'})\"}, {\"id\": 1359, \"label\": \"reproductive_structure::Name\", \"group\": \"Term\", \"title\": \"(_1359:Term {definition: 'the parts of a plant involved in its reproduction', label: 'reproductive_structure::Name', name: 'reproductive_structure', type: 'Name'})\"}, {\"id\": 1389, \"label\": \"pod::Name\", \"group\": \"Term\", \"title\": \"(_1389:Term {definition: 'the vessel that contains the seeds of a plant (not the seeds themselves)', label: 'pod::Name', name: 'pod', type: 'Name'})\"}, {\"id\": 1385, \"label\": \"baldwin::Name\", \"group\": \"Term\", \"title\": \"(_1385:Term {definition: 'United States author who was an outspoken critic of racism (1924-1987)', label: 'baldwin::Name', name: 'baldwin', type: 'Name'})\"}, {\"id\": 1383, \"label\": \"bramley's_seedling::Name\", \"group\": \"Term\", \"title\": \"(_1383:Term {definition: 'very large cooking apple', label: \\\"bramley's_seedling::Name\\\", name: \\\"bramley's_seedling\\\", type: 'Name'})\"}];\n",
       "    var edges = [{\"from\": 1388, \"to\": 1280, \"label\": \"SAME\"}, {\"from\": 1388, \"to\": 1355, \"label\": \"ISA\"}, {\"from\": 1358, \"to\": 1379, \"label\": \"ISA\"}, {\"from\": 1384, \"to\": 1394, \"label\": \"SAME\"}, {\"from\": 1384, \"to\": 1393, \"label\": \"SAME\"}, {\"from\": 1384, \"to\": 1380, \"label\": \"ISA\"}, {\"from\": 1405, \"to\": 1386, \"label\": \"SAME\"}, {\"from\": 1405, \"to\": 1382, \"label\": \"ISA\"}, {\"from\": 1390, \"to\": 1356, \"label\": \"SAME\"}, {\"from\": 1390, \"to\": 1355, \"label\": \"SAME\"}, {\"from\": 1390, \"to\": 1357, \"label\": \"ISA\"}, {\"from\": 1381, \"to\": 1280, \"label\": \"ISA\"}, {\"from\": 1386, \"to\": 1406, \"label\": \"SAME\"}, {\"from\": 1386, \"to\": 1405, \"label\": \"SAME\"}, {\"from\": 1386, \"to\": 1382, \"label\": \"ISA\"}, {\"from\": 1391, \"to\": 1356, \"label\": \"SAME\"}, {\"from\": 1391, \"to\": 1357, \"label\": \"ISA\"}, {\"from\": 1382, \"to\": 1280, \"label\": \"ISA\"}, {\"from\": 1387, \"to\": 1280, \"label\": \"SAME\"}, {\"from\": 1387, \"to\": 1355, \"label\": \"ISA\"}, {\"from\": 1406, \"to\": 1386, \"label\": \"SAME\"}, {\"from\": 1406, \"to\": 1382, \"label\": \"ISA\"}, {\"from\": 1380, \"to\": 1280, \"label\": \"ISA\"}, {\"from\": 1357, \"to\": 1359, \"label\": \"ISA\"}, {\"from\": 1389, \"to\": 1355, \"label\": \"SAME\"}, {\"from\": 1389, \"to\": 1357, \"label\": \"ISA\"}, {\"from\": 1356, \"to\": 1391, \"label\": \"SAME\"}, {\"from\": 1356, \"to\": 1390, \"label\": \"SAME\"}, {\"from\": 1356, \"to\": 1357, \"label\": \"ISA\"}, {\"from\": 1385, \"to\": 1382, \"label\": \"ISA\"}, {\"from\": 1280, \"to\": 1388, \"label\": \"SAME\"}, {\"from\": 1280, \"to\": 1387, \"label\": \"SAME\"}, {\"from\": 1280, \"to\": 1356, \"label\": \"ISA\"}, {\"from\": 1280, \"to\": 1355, \"label\": \"ISA\"}, {\"from\": 1355, \"to\": 1390, \"label\": \"SAME\"}, {\"from\": 1355, \"to\": 1389, \"label\": \"SAME\"}, {\"from\": 1355, \"to\": 1358, \"label\": \"ISA\"}, {\"from\": 1355, \"to\": 1357, \"label\": \"ISA\"}, {\"from\": 1394, \"to\": 1384, \"label\": \"SAME\"}, {\"from\": 1394, \"to\": 1383, \"label\": \"SAME\"}, {\"from\": 1394, \"to\": 1380, \"label\": \"ISA\"}, {\"from\": 1383, \"to\": 1394, \"label\": \"SAME\"}, {\"from\": 1383, \"to\": 1393, \"label\": \"SAME\"}, {\"from\": 1383, \"to\": 1380, \"label\": \"ISA\"}, {\"from\": 1393, \"to\": 1384, \"label\": \"SAME\"}, {\"from\": 1393, \"to\": 1383, \"label\": \"SAME\"}, {\"from\": 1393, \"to\": 1380, \"label\": \"ISA\"}];\n",
       "\n",
       "    var container = document.getElementById(\"7648dc16-ebfe-4d95-ac34-16e529796bb6\");\n",
       "\n",
       "    var data = {\n",
       "        nodes: nodes,\n",
       "        edges: edges\n",
       "    };\n",
       "\n",
       "    var options = {\n",
       "    nodes: {\n",
       "        shape: 'dot',\n",
       "        size: 25,\n",
       "        font: {\n",
       "            size: 14\n",
       "        }\n",
       "    },\n",
       "    edges: {\n",
       "        font: {\n",
       "            size: 14,\n",
       "            align: 'middle'\n",
       "        },\n",
       "        color: 'gray',\n",
       "        arrows: {\n",
       "            to: {\n",
       "                enabled: true,\n",
       "                scaleFactor: 0.5\n",
       "            }\n",
       "        },\n",
       "        smooth: {\n",
       "            enabled: false\n",
       "        }\n",
       "    },\n",
       "    physics: {\n",
       "        enabled: true\n",
       "        }\n",
       "    };\n",
       "\n",
       "    var network = new vis.Network(container, data, options);\n",
       "\n",
       "</script>\n"
      ],
      "text/plain": [
       "<IPython.core.display.HTML object>"
      ]
     },
     "execution_count": 4,
     "metadata": {},
     "output_type": "execute_result"
    }
   ],
   "source": [
    "import neo4jupyter\n",
    "neo4jupyter.init_notebook_mode()\n",
    "neo4jupyter.draw(connect(), {\"Term\": \"label\"})"
   ]
  },
  {
   "cell_type": "code",
   "execution_count": 5,
   "metadata": {},
   "outputs": [
    {
     "data": {
      "text/plain": [
       "{(0, 0): [Synset('apple.n.01')],\n",
       " (1, 2): [Synset('edible_fruit.n.01'), Synset('pome.n.01')],\n",
       " (2, 2): [Synset('fruit.n.01'), Synset('produce.n.01')],\n",
       " (3, 2): [Synset('reproductive_structure.n.01'), Synset('food.n.02')]}"
      ]
     },
     "execution_count": 5,
     "metadata": {},
     "output_type": "execute_result"
    }
   ],
   "source": [
    "from graphCreation.hypernymsCreation.generateHypernyms import *\n",
    "deleteAll(connect())\n",
    "generateHypernyms([[1,2],[2,2],[3,2]], \"apple\", connect())"
   ]
  },
  {
   "cell_type": "code",
   "execution_count": 6,
   "metadata": {},
   "outputs": [
    {
     "data": {
      "text/html": [
       "<div id=\"2d5769a7-ca1d-4875-883c-84de4acf726b\" style=\"height: 400px;\"></div>\n",
       "\n",
       "<script type=\"text/javascript\">\n",
       "\n",
       "    var nodes = [{\"id\": 1408, \"label\": \"edible_fruit\", \"group\": \"Term\", \"title\": \"(_1408:Term {definition: 'edible reproductive body of a seed plant especially one having sweet flesh', label: 'edible_fruit::Name', name: 'edible_fruit', type: 'Name'})\"}, {\"id\": 1411, \"label\": \"produce\", \"group\": \"Term\", \"title\": \"(_1411:Term {definition: 'fresh fruits and vegetable grown for the market', label: 'produce::Name', name: 'produce', type: 'Name'})\"}, {\"id\": 1410, \"label\": \"fruit\", \"group\": \"Term\", \"title\": \"(_1410:Term {definition: 'the ripened reproductive body of a seed plant', label: 'fruit::Name', name: 'fruit', type: 'Name'})\"}, {\"id\": 1412, \"label\": \"reproductive_structure\", \"group\": \"Term\", \"title\": \"(_1412:Term {definition: 'the parts of a plant involved in its reproduction', label: 'reproductive_structure::Name', name: 'reproductive_structure', type: 'Name'})\"}, {\"id\": 1409, \"label\": \"pome\", \"group\": \"Term\", \"title\": \"(_1409:Term {definition: 'a fleshy fruit (apple or pear or related fruits) having seed chambers and an outer fleshy part', label: 'pome::Name', name: 'pome', type: 'Name'})\"}, {\"id\": 1413, \"label\": \"food\", \"group\": \"Term\", \"title\": \"(_1413:Term {definition: 'any substance that can be metabolized by an animal to give energy and build tissue', label: 'food::Name', name: 'food', type: 'Name'})\"}, {\"id\": 1407, \"label\": \"apple\", \"group\": \"Term\", \"title\": \"(_1407:Term {definition: 'fruit with red or yellow or green skin and sweet to tart crisp whitish flesh', label: 'apple::Name', name: 'apple', type: 'Name'})\"}];\n",
       "    var edges = [{\"from\": 1408, \"to\": 1411, \"label\": \"ISA\"}, {\"from\": 1408, \"to\": 1410, \"label\": \"ISA\"}, {\"from\": 1410, \"to\": 1412, \"label\": \"ISA\"}, {\"from\": 1409, \"to\": 1410, \"label\": \"ISA\"}, {\"from\": 1411, \"to\": 1413, \"label\": \"ISA\"}, {\"from\": 1407, \"to\": 1409, \"label\": \"ISA\"}, {\"from\": 1407, \"to\": 1408, \"label\": \"ISA\"}];\n",
       "\n",
       "    var container = document.getElementById(\"2d5769a7-ca1d-4875-883c-84de4acf726b\");\n",
       "\n",
       "    var data = {\n",
       "        nodes: nodes,\n",
       "        edges: edges\n",
       "    };\n",
       "\n",
       "    var options = {\n",
       "    nodes: {\n",
       "        shape: 'dot',\n",
       "        size: 25,\n",
       "        font: {\n",
       "            size: 14\n",
       "        }\n",
       "    },\n",
       "    edges: {\n",
       "        font: {\n",
       "            size: 14,\n",
       "            align: 'middle'\n",
       "        },\n",
       "        color: 'gray',\n",
       "        arrows: {\n",
       "            to: {\n",
       "                enabled: true,\n",
       "                scaleFactor: 0.5\n",
       "            }\n",
       "        },\n",
       "        smooth: {\n",
       "            enabled: false\n",
       "        }\n",
       "    },\n",
       "    physics: {\n",
       "        enabled: true\n",
       "        }\n",
       "    };\n",
       "\n",
       "    var network = new vis.Network(container, data, options);\n",
       "\n",
       "</script>\n"
      ],
      "text/plain": [
       "<IPython.core.display.HTML object>"
      ]
     },
     "execution_count": 6,
     "metadata": {},
     "output_type": "execute_result"
    }
   ],
   "source": [
    "neo4jupyter.draw(connect(), {\"Term\": \"name\"})"
   ]
  },
  {
   "cell_type": "code",
   "execution_count": 7,
   "metadata": {},
   "outputs": [
    {
     "data": {
      "text/plain": [
       "{(0, 0): [Synset('apple.n.01')],\n",
       " (1, 3): [Synset('cooking_apple.n.01'),\n",
       "  Synset('crab_apple.n.03'),\n",
       "  Synset('eating_apple.n.01')],\n",
       " (2, 3): [Synset('bramley's_seedling.n.01'),\n",
       "  Synset('lane's_prince_albert.n.01'),\n",
       "  Synset('newtown_wonder.n.01'),\n",
       "  Synset('baldwin.n.03'),\n",
       "  Synset('cortland.n.01'),\n",
       "  Synset('delicious.n.01')]}"
      ]
     },
     "execution_count": 7,
     "metadata": {},
     "output_type": "execute_result"
    }
   ],
   "source": [
    "from graphCreation.hyponymsCreation.generateHyponyms import *\n",
    "#deleteAll(connect())\n",
    "generateHyponyms( [[1,3],[2,3]], \"apple\", connect())"
   ]
  },
  {
   "cell_type": "code",
   "execution_count": 8,
   "metadata": {},
   "outputs": [
    {
     "data": {
      "text/html": [
       "<div id=\"20e73a37-838f-4ff4-a8d2-7b0d15561f99\" style=\"height: 400px;\"></div>\n",
       "\n",
       "<script type=\"text/javascript\">\n",
       "\n",
       "    var nodes = [{\"id\": 1418, \"label\": \"lane's_prince_albert\", \"group\": \"Term\", \"title\": \"(_1418:Term {definition: 'apple used primarily in cooking', label: \\\"lane's_prince_albert::Name\\\", name: \\\"lane's_prince_albert\\\", type: 'Name'})\"}, {\"id\": 1414, \"label\": \"cooking_apple\", \"group\": \"Term\", \"title\": \"(_1414:Term {definition: 'an apple used primarily in cooking for pies and applesauce etc', label: 'cooking_apple::Name', name: 'cooking_apple', type: 'Name'})\"}, {\"id\": 1412, \"label\": \"reproductive_structure\", \"group\": \"Term\", \"title\": \"(_1412:Term {definition: 'the parts of a plant involved in its reproduction', label: 'reproductive_structure::Name', name: 'reproductive_structure', type: 'Name'})\"}, {\"id\": 1408, \"label\": \"edible_fruit\", \"group\": \"Term\", \"title\": \"(_1408:Term {definition: 'edible reproductive body of a seed plant especially one having sweet flesh', label: 'edible_fruit::Name', name: 'edible_fruit', type: 'Name'})\"}, {\"id\": 1411, \"label\": \"produce\", \"group\": \"Term\", \"title\": \"(_1411:Term {definition: 'fresh fruits and vegetable grown for the market', label: 'produce::Name', name: 'produce', type: 'Name'})\"}, {\"id\": 1410, \"label\": \"fruit\", \"group\": \"Term\", \"title\": \"(_1410:Term {definition: 'the ripened reproductive body of a seed plant', label: 'fruit::Name', name: 'fruit', type: 'Name'})\"}, {\"id\": 1413, \"label\": \"food\", \"group\": \"Term\", \"title\": \"(_1413:Term {definition: 'any substance that can be metabolized by an animal to give energy and build tissue', label: 'food::Name', name: 'food', type: 'Name'})\"}, {\"id\": 1419, \"label\": \"newtown_wonder\", \"group\": \"Term\", \"title\": \"(_1419:Term {definition: 'apple used primarily in cooking', label: 'newtown_wonder::Name', name: 'newtown_wonder', type: 'Name'})\"}, {\"id\": 1415, \"label\": \"crab_apple\", \"group\": \"Term\", \"title\": \"(_1415:Term {definition: 'any of numerous varieties of crab apples cultivated for their small acidic (usually bright red) fruit used for preserves or as ornamentals for their blossoms', label: 'crab_apple::Name', name: 'crab_apple', type: 'Name'})\"}, {\"id\": 1407, \"label\": \"apple\", \"group\": \"Term\", \"title\": \"(_1407:Term {definition: 'fruit with red or yellow or green skin and sweet to tart crisp whitish flesh', label: 'apple::Name', name: 'apple', type: 'Name'})\"}, {\"id\": 1409, \"label\": \"pome\", \"group\": \"Term\", \"title\": \"(_1409:Term {definition: 'a fleshy fruit (apple or pear or related fruits) having seed chambers and an outer fleshy part', label: 'pome::Name', name: 'pome', type: 'Name'})\"}, {\"id\": 1422, \"label\": \"delicious\", \"group\": \"Term\", \"title\": \"(_1422:Term {definition: 'variety of sweet eating apples', label: 'delicious::Name', name: 'delicious', type: 'Name'})\"}, {\"id\": 1416, \"label\": \"eating_apple\", \"group\": \"Term\", \"title\": \"(_1416:Term {definition: 'an apple used primarily for eating raw without cooking', label: 'eating_apple::Name', name: 'eating_apple', type: 'Name'})\"}, {\"id\": 1417, \"label\": \"bramley's_seedling\", \"group\": \"Term\", \"title\": \"(_1417:Term {definition: 'very large cooking apple', label: \\\"bramley's_seedling::Name\\\", name: \\\"bramley's_seedling\\\", type: 'Name'})\"}, {\"id\": 1420, \"label\": \"baldwin\", \"group\": \"Term\", \"title\": \"(_1420:Term {definition: 'United States author who was an outspoken critic of racism (1924-1987)', label: 'baldwin::Name', name: 'baldwin', type: 'Name'})\"}, {\"id\": 1421, \"label\": \"cortland\", \"group\": \"Term\", \"title\": \"(_1421:Term {definition: 'large apple with a red skin', label: 'cortland::Name', name: 'cortland', type: 'Name'})\"}];\n",
       "    var edges = [{\"from\": 1418, \"to\": 1414, \"label\": \"ISA\"}, {\"from\": 1408, \"to\": 1411, \"label\": \"ISA\"}, {\"from\": 1408, \"to\": 1410, \"label\": \"ISA\"}, {\"from\": 1411, \"to\": 1413, \"label\": \"ISA\"}, {\"from\": 1419, \"to\": 1414, \"label\": \"ISA\"}, {\"from\": 1410, \"to\": 1412, \"label\": \"ISA\"}, {\"from\": 1415, \"to\": 1407, \"label\": \"ISA\"}, {\"from\": 1409, \"to\": 1410, \"label\": \"ISA\"}, {\"from\": 1422, \"to\": 1416, \"label\": \"ISA\"}, {\"from\": 1416, \"to\": 1407, \"label\": \"ISA\"}, {\"from\": 1407, \"to\": 1409, \"label\": \"ISA\"}, {\"from\": 1407, \"to\": 1408, \"label\": \"ISA\"}, {\"from\": 1417, \"to\": 1414, \"label\": \"ISA\"}, {\"from\": 1420, \"to\": 1416, \"label\": \"ISA\"}, {\"from\": 1421, \"to\": 1416, \"label\": \"ISA\"}, {\"from\": 1414, \"to\": 1407, \"label\": \"ISA\"}];\n",
       "\n",
       "    var container = document.getElementById(\"20e73a37-838f-4ff4-a8d2-7b0d15561f99\");\n",
       "\n",
       "    var data = {\n",
       "        nodes: nodes,\n",
       "        edges: edges\n",
       "    };\n",
       "\n",
       "    var options = {\n",
       "    nodes: {\n",
       "        shape: 'dot',\n",
       "        size: 25,\n",
       "        font: {\n",
       "            size: 14\n",
       "        }\n",
       "    },\n",
       "    edges: {\n",
       "        font: {\n",
       "            size: 14,\n",
       "            align: 'middle'\n",
       "        },\n",
       "        color: 'gray',\n",
       "        arrows: {\n",
       "            to: {\n",
       "                enabled: true,\n",
       "                scaleFactor: 0.5\n",
       "            }\n",
       "        },\n",
       "        smooth: {\n",
       "            enabled: false\n",
       "        }\n",
       "    },\n",
       "    physics: {\n",
       "        enabled: true\n",
       "        }\n",
       "    };\n",
       "\n",
       "    var network = new vis.Network(container, data, options);\n",
       "\n",
       "</script>\n"
      ],
      "text/plain": [
       "<IPython.core.display.HTML object>"
      ]
     },
     "execution_count": 8,
     "metadata": {},
     "output_type": "execute_result"
    }
   ],
   "source": [
    "neo4jupyter.draw(connect(), {\"Term\": \"name\"})"
   ]
  },
  {
   "cell_type": "code",
   "execution_count": 9,
   "metadata": {},
   "outputs": [],
   "source": [
    "from graphCreation.sameCreation.generateSame import *\n",
    "deleteAll(connect())\n",
    "generateHypernyms([[1,5],[2,3]], \"apple\", connect())\n",
    "generateHyponyms([[1,4],[2,2]], \"apple\", connect())\n",
    "generateSame(\"apple\", [[1,2],[-2,2]], connect())\n"
   ]
  },
  {
   "cell_type": "code",
   "execution_count": 11,
   "metadata": {},
   "outputs": [
    {
     "data": {
      "text/html": [
       "<div id=\"5dc219a4-28b3-477c-91f7-4f53ca478f8f\" style=\"height: 400px;\"></div>\n",
       "\n",
       "<script type=\"text/javascript\">\n",
       "\n",
       "    var nodes = [{\"id\": 1439, \"label\": \"rome_beauty\", \"group\": \"Term\", \"title\": \"(_1439:Term {definition: 'large red apple used primarily for baking', label: 'rome_beauty::Name', name: 'rome_beauty', type: 'Name'})\"}, {\"id\": 1432, \"label\": \"lane's_prince_albert\", \"group\": \"Term\", \"title\": \"(_1432:Term {definition: 'apple used primarily in cooking', label: \\\"lane's_prince_albert::Name\\\", name: \\\"lane's_prince_albert\\\", type: 'Name'})\"}, {\"id\": 1428, \"label\": \"cooking_apple\", \"group\": \"Term\", \"title\": \"(_1428:Term {definition: 'an apple used primarily in cooking for pies and applesauce etc', label: 'cooking_apple::Name', name: 'cooking_apple', type: 'Name'})\"}, {\"id\": 1423, \"label\": \"apple\", \"group\": \"Term\", \"title\": \"(_1423:Term {definition: 'fruit with red or yellow or green skin and sweet to tart crisp whitish flesh', label: 'apple::Name', name: 'apple', type: 'Name'})\"}, {\"id\": 1425, \"label\": \"pome\", \"group\": \"Term\", \"title\": \"(_1425:Term {definition: 'a fleshy fruit (apple or pear or related fruits) having seed chambers and an outer fleshy part', label: 'pome::Name', name: 'pome', type: 'Name'})\"}, {\"id\": 1424, \"label\": \"edible_fruit\", \"group\": \"Term\", \"title\": \"(_1424:Term {definition: 'edible reproductive body of a seed plant especially one having sweet flesh', label: 'edible_fruit::Name', name: 'edible_fruit', type: 'Name'})\"}, {\"id\": 1436, \"label\": \"fruitlet\", \"group\": \"Term\", \"title\": \"(_1436:Term {definition: 'a diminutive fruit, especially one that is part of a multiple fruit', label: 'fruitlet::Name', name: 'fruitlet', type: 'Name'})\"}, {\"id\": 1435, \"label\": \"pyxidium\", \"group\": \"Term\", \"title\": \"(_1435:Term {definition: 'fruit of such plants as the plantain; a capsule whose upper part falls off when the seeds are released', label: 'pyxidium::Name', name: 'pyxidium', type: 'Name'})\"}, {\"id\": 1427, \"label\": \"produce\", \"group\": \"Term\", \"title\": \"(_1427:Term {definition: 'fresh fruits and vegetable grown for the market', label: 'produce::Name', name: 'produce', type: 'Name'})\"}, {\"id\": 1426, \"label\": \"fruit\", \"group\": \"Term\", \"title\": \"(_1426:Term {definition: 'the ripened reproductive body of a seed plant', label: 'fruit::Name', name: 'fruit', type: 'Name'})\"}, {\"id\": 1437, \"label\": \"achene\", \"group\": \"Term\", \"title\": \"(_1437:Term {definition: 'small dry indehiscent fruit with the seed distinct from the fruit wall', label: 'achene::Name', name: 'achene', type: 'Name'})\"}, {\"id\": 1440, \"label\": \"winesap\", \"group\": \"Term\", \"title\": \"(_1440:Term {definition: 'crisp apple with dark red skin', label: 'winesap::Name', name: 'winesap', type: 'Name'})\"}, {\"id\": 1434, \"label\": \"cortland\", \"group\": \"Term\", \"title\": \"(_1434:Term {definition: 'large apple with a red skin', label: 'cortland::Name', name: 'cortland', type: 'Name'})\"}, {\"id\": 1430, \"label\": \"eating_apple\", \"group\": \"Term\", \"title\": \"(_1430:Term {definition: 'an apple used primarily for eating raw without cooking', label: 'eating_apple::Name', name: 'eating_apple', type: 'Name'})\"}, {\"id\": 1433, \"label\": \"baldwin\", \"group\": \"Term\", \"title\": \"(_1433:Term {definition: 'United States author who was an outspoken critic of racism (1924-1987)', label: 'baldwin::Name', name: 'baldwin', type: 'Name'})\"}, {\"id\": 1429, \"label\": \"crab_apple\", \"group\": \"Term\", \"title\": \"(_1429:Term {definition: 'any of numerous varieties of crab apples cultivated for their small acidic (usually bright red) fruit used for preserves or as ornamentals for their blossoms', label: 'crab_apple::Name', name: 'crab_apple', type: 'Name'})\"}, {\"id\": 1438, \"label\": \"newtown_wonder\", \"group\": \"Term\", \"title\": \"(_1438:Term {definition: 'apple used primarily in cooking', label: 'newtown_wonder::Name', name: 'newtown_wonder', type: 'Name'})\"}, {\"id\": 1431, \"label\": \"bramley's_seedling\", \"group\": \"Term\", \"title\": \"(_1431:Term {definition: 'very large cooking apple', label: \\\"bramley's_seedling::Name\\\", name: \\\"bramley's_seedling\\\", type: 'Name'})\"}];\n",
       "    var edges = [{\"from\": 1439, \"to\": 1432, \"label\": \"SAME\"}, {\"from\": 1439, \"to\": 1428, \"label\": \"ISA\"}, {\"from\": 1423, \"to\": 1425, \"label\": \"ISA\"}, {\"from\": 1423, \"to\": 1424, \"label\": \"ISA\"}, {\"from\": 1424, \"to\": 1436, \"label\": \"SAME\"}, {\"from\": 1424, \"to\": 1435, \"label\": \"SAME\"}, {\"from\": 1424, \"to\": 1427, \"label\": \"ISA\"}, {\"from\": 1424, \"to\": 1426, \"label\": \"ISA\"}, {\"from\": 1425, \"to\": 1437, \"label\": \"SAME\"}, {\"from\": 1425, \"to\": 1436, \"label\": \"SAME\"}, {\"from\": 1425, \"to\": 1426, \"label\": \"ISA\"}, {\"from\": 1440, \"to\": 1434, \"label\": \"SAME\"}, {\"from\": 1440, \"to\": 1430, \"label\": \"ISA\"}, {\"from\": 1428, \"to\": 1423, \"label\": \"ISA\"}, {\"from\": 1430, \"to\": 1423, \"label\": \"ISA\"}, {\"from\": 1434, \"to\": 1440, \"label\": \"SAME\"}, {\"from\": 1434, \"to\": 1433, \"label\": \"SAME\"}, {\"from\": 1434, \"to\": 1430, \"label\": \"ISA\"}, {\"from\": 1435, \"to\": 1424, \"label\": \"SAME\"}, {\"from\": 1435, \"to\": 1426, \"label\": \"ISA\"}, {\"from\": 1429, \"to\": 1423, \"label\": \"ISA\"}, {\"from\": 1437, \"to\": 1425, \"label\": \"SAME\"}, {\"from\": 1437, \"to\": 1426, \"label\": \"ISA\"}, {\"from\": 1433, \"to\": 1434, \"label\": \"SAME\"}, {\"from\": 1433, \"to\": 1430, \"label\": \"ISA\"}, {\"from\": 1438, \"to\": 1432, \"label\": \"SAME\"}, {\"from\": 1438, \"to\": 1431, \"label\": \"SAME\"}, {\"from\": 1438, \"to\": 1428, \"label\": \"ISA\"}, {\"from\": 1432, \"to\": 1439, \"label\": \"SAME\"}, {\"from\": 1432, \"to\": 1438, \"label\": \"SAME\"}, {\"from\": 1432, \"to\": 1431, \"label\": \"SAME\"}, {\"from\": 1432, \"to\": 1428, \"label\": \"ISA\"}, {\"from\": 1436, \"to\": 1425, \"label\": \"SAME\"}, {\"from\": 1436, \"to\": 1424, \"label\": \"SAME\"}, {\"from\": 1436, \"to\": 1426, \"label\": \"ISA\"}, {\"from\": 1431, \"to\": 1438, \"label\": \"SAME\"}, {\"from\": 1431, \"to\": 1432, \"label\": \"SAME\"}, {\"from\": 1431, \"to\": 1428, \"label\": \"ISA\"}];\n",
       "\n",
       "    var container = document.getElementById(\"5dc219a4-28b3-477c-91f7-4f53ca478f8f\");\n",
       "\n",
       "    var data = {\n",
       "        nodes: nodes,\n",
       "        edges: edges\n",
       "    };\n",
       "\n",
       "    var options = {\n",
       "    nodes: {\n",
       "        shape: 'dot',\n",
       "        size: 25,\n",
       "        font: {\n",
       "            size: 14\n",
       "        }\n",
       "    },\n",
       "    edges: {\n",
       "        font: {\n",
       "            size: 14,\n",
       "            align: 'middle'\n",
       "        },\n",
       "        color: 'gray',\n",
       "        arrows: {\n",
       "            to: {\n",
       "                enabled: true,\n",
       "                scaleFactor: 0.5\n",
       "            }\n",
       "        },\n",
       "        smooth: {\n",
       "            enabled: false\n",
       "        }\n",
       "    },\n",
       "    physics: {\n",
       "        enabled: true\n",
       "        }\n",
       "    };\n",
       "\n",
       "    var network = new vis.Network(container, data, options);\n",
       "\n",
       "</script>\n"
      ],
      "text/plain": [
       "<IPython.core.display.HTML object>"
      ]
     },
     "execution_count": 11,
     "metadata": {},
     "output_type": "execute_result"
    }
   ],
   "source": [
    "neo4jupyter.draw(connect(), {\"Term\": \"name\"})"
   ]
  },
  {
   "cell_type": "code",
   "execution_count": null,
   "metadata": {},
   "outputs": [],
   "source": []
  },
  {
   "cell_type": "code",
   "execution_count": null,
   "metadata": {},
   "outputs": [],
   "source": []
  }
 ],
 "metadata": {
  "kernelspec": {
   "display_name": "Python 3",
   "language": "python",
   "name": "python3"
  },
  "language_info": {
   "codemirror_mode": {
    "name": "ipython",
    "version": 3
   },
   "file_extension": ".py",
   "mimetype": "text/x-python",
   "name": "python",
   "nbconvert_exporter": "python",
   "pygments_lexer": "ipython3",
   "version": "3.7.3"
  }
 },
 "nbformat": 4,
 "nbformat_minor": 4
}


