{
 "cells": [
  {
   "cell_type": "code",
   "execution_count": 6,
   "metadata": {},
   "outputs": [],
   "source": [
    "import sys\n",
    "sys.path.append('../flask-backend/')"
   ]
  },
  {
   "cell_type": "code",
   "execution_count": 7,
   "metadata": {},
   "outputs": [],
   "source": [
    "import neo4jupyter\n",
    "from graphCreation.graphSetups.commands import *"
   ]
  },
  {
   "cell_type": "code",
   "execution_count": 36,
   "metadata": {
    "scrolled": true
   },
   "outputs": [
    {
     "name": "stdout",
     "output_type": "stream",
     "text": [
      "{'apple': [Synset('pear.n.01'), Synset('cherry.n.03')]} {'apple': [Synset('edible_fruit.n.01'), Synset('pome.n.01')]}\n",
      "pear edible_fruit\n",
      "pear pome\n",
      "cherry edible_fruit\n",
      "{'edible_fruit': [Synset('rowanberry.n.01'), Synset('vegetable.n.01')], 'pome': [Synset('rowanberry.n.01'), Synset('buffalo_nut.n.01')]} {'edible_fruit': [Synset('fruit.n.01'), Synset('produce.n.01')], 'pome': [Synset('fruit.n.01')]}\n",
      "rowanberry fruit\n",
      "vegetable produce\n",
      "rowanberry fruit\n",
      "buffalo_nut fruit\n",
      "{\"bramley's_seedling\": [Synset('rome_beauty.n.01'), Synset('lane's_prince_albert.n.01')], \"lane's_prince_albert\": [Synset('bramley's_seedling.n.01'), Synset('newtown_wonder.n.01')], 'cortland': [Synset('prima.n.01'), Synset('northern_spy.n.01')]} {\"bramley's_seedling\": [Synset('cooking_apple.n.01')], \"lane's_prince_albert\": [Synset('cooking_apple.n.01')], 'baldwin': [], 'cortland': [Synset('eating_apple.n.01')]}\n",
      "rome_beauty cooking_apple\n",
      "lane's_prince_albert cooking_apple\n",
      "bramley's_seedling cooking_apple\n",
      "newtown_wonder cooking_apple\n",
      "prima eating_apple\n",
      "northern_spy eating_apple\n"
     ]
    }
   ],
   "source": [
    "from graphCreation.graphCreate import generateGraph\n",
    "generateGraph(\"apple\",[[1,2],[2,2],[3,2]], [[1,3],[2,2]], [[0,2],[1,2],[-2,2]])   "
   ]
  },
  {
   "cell_type": "code",
   "execution_count": 37,
   "metadata": {
    "scrolled": false
   },
   "outputs": [
    {
     "data": {
      "application/javascript": [
       "var link = document.createElement(\"link\");\n",
       "\tlink.ref = \"stylesheet\";\n",
       "\tlink.type = \"text/css\";\n",
       "\tlink.href = \"https://cdnjs.cloudflare.com/ajax/libs/vis/4.8.2/vis.css\";\n",
       "\tdocument.head.appendChild(link);\n",
       "require.config({     paths: {         vis: '//cdnjs.cloudflare.com/ajax/libs/vis/4.8.2/vis.min'     } }); require(['vis'], function(vis) {  window.vis = vis; }); "
      ],
      "text/plain": [
       "<IPython.core.display.Javascript object>"
      ]
     },
     "metadata": {},
     "output_type": "display_data"
    },
    {
     "data": {
      "text/html": [
       "<div id=\"b8b91b58-e0f1-4fe6-b1ce-7affbeba7e92\" style=\"height: 400px;\"></div>\n",
       "\n",
       "<script type=\"text/javascript\">\n",
       "\n",
       "    var nodes = [{\"id\": 1380, \"label\": \"apple::Name\", \"group\": \"Term\", \"title\": \"(_1380:Term {definition: 'fruit with red or yellow or green skin and sweet to tart crisp whitish flesh', label: 'apple::Name', name: 'apple', type: 'Name'})\"}, {\"id\": 1395, \"label\": \"cherry::Name\", \"group\": \"Term\", \"title\": \"(_1395:Term {definition: 'wood of any of various cherry trees especially the black cherry', label: 'cherry::Name', name: 'cherry', type: 'Name'})\"}, {\"id\": 1394, \"label\": \"pear::Name\", \"group\": \"Term\", \"title\": \"(_1394:Term {definition: 'sweet juicy gritty-textured fruit available in many varieties', label: 'pear::Name', name: 'pear', type: 'Name'})\"}, {\"id\": 1382, \"label\": \"pome::Name\", \"group\": \"Term\", \"title\": \"(_1382:Term {definition: 'a fleshy fruit (apple or pear or related fruits) having seed chambers and an outer fleshy part', label: 'pome::Name', name: 'pome', type: 'Name'})\"}, {\"id\": 1381, \"label\": \"edible_fruit::Name\", \"group\": \"Term\", \"title\": \"(_1381:Term {definition: 'edible reproductive body of a seed plant especially one having sweet flesh', label: 'edible_fruit::Name', name: 'edible_fruit', type: 'Name'})\"}, {\"id\": 1390, \"label\": \"bramley's_seedling::Name\", \"group\": \"Term\", \"title\": \"(_1390:Term {definition: 'very large cooking apple', label: \\\"bramley's_seedling::Name\\\", name: \\\"bramley's_seedling\\\", type: 'Name'})\"}, {\"id\": 1391, \"label\": \"lane's_prince_albert::Name\", \"group\": \"Term\", \"title\": \"(_1391:Term {definition: 'apple used primarily in cooking', label: \\\"lane's_prince_albert::Name\\\", name: \\\"lane's_prince_albert\\\", type: 'Name'})\"}, {\"id\": 1399, \"label\": \"rome_beauty::Name\", \"group\": \"Term\", \"title\": \"(_1399:Term {definition: 'large red apple used primarily for baking', label: 'rome_beauty::Name', name: 'rome_beauty', type: 'Name'})\"}, {\"id\": 1387, \"label\": \"cooking_apple::Name\", \"group\": \"Term\", \"title\": \"(_1387:Term {definition: 'an apple used primarily in cooking for pies and applesauce etc', label: 'cooking_apple::Name', name: 'cooking_apple', type: 'Name'})\"}, {\"id\": 1280, \"label\": \"northern_spy::Name\", \"group\": \"Term\", \"title\": \"(_1280:Term {definition: 'large late-ripening apple with skin striped with yellow and red', label: 'northern_spy::Name', name: 'northern_spy', type: 'Name'})\"}, {\"id\": 1393, \"label\": \"cortland::Name\", \"group\": \"Term\", \"title\": \"(_1393:Term {definition: 'large apple with a red skin', label: 'cortland::Name', name: 'cortland', type: 'Name'})\"}, {\"id\": 1389, \"label\": \"eating_apple::Name\", \"group\": \"Term\", \"title\": \"(_1389:Term {definition: 'an apple used primarily for eating raw without cooking', label: 'eating_apple::Name', name: 'eating_apple', type: 'Name'})\"}, {\"id\": 1392, \"label\": \"baldwin::Name\", \"group\": \"Term\", \"title\": \"(_1392:Term {definition: 'United States author who was an outspoken critic of racism (1924-1987)', label: 'baldwin::Name', name: 'baldwin', type: 'Name'})\"}, {\"id\": 1386, \"label\": \"food::Name\", \"group\": \"Term\", \"title\": \"(_1386:Term {definition: 'any substance that can be metabolized by an animal to give energy and build tissue', label: 'food::Name', name: 'food', type: 'Name'})\"}, {\"id\": 1397, \"label\": \"vegetable::Name\", \"group\": \"Term\", \"title\": \"(_1397:Term {definition: 'edible seeds or roots or stems or leaves or bulbs or tubers or nonsweet fruits of any of numerous herbaceous plant', label: 'vegetable::Name', name: 'vegetable', type: 'Name'})\"}, {\"id\": 1384, \"label\": \"produce::Name\", \"group\": \"Term\", \"title\": \"(_1384:Term {definition: 'fresh fruits and vegetable grown for the market', label: 'produce::Name', name: 'produce', type: 'Name'})\"}, {\"id\": 1398, \"label\": \"buffalo_nut::Name\", \"group\": \"Term\", \"title\": \"(_1398:Term {definition: 'oily drupaceous fruit of rabbitwood', label: 'buffalo_nut::Name', name: 'buffalo_nut', type: 'Name'})\"}, {\"id\": 1383, \"label\": \"fruit::Name\", \"group\": \"Term\", \"title\": \"(_1383:Term {definition: 'the ripened reproductive body of a seed plant', label: 'fruit::Name', name: 'fruit', type: 'Name'})\"}, {\"id\": 1396, \"label\": \"rowanberry::Name\", \"group\": \"Term\", \"title\": \"(_1396:Term {definition: 'decorative red berrylike fruit of a rowan tree', label: 'rowanberry::Name', name: 'rowanberry', type: 'Name'})\"}, {\"id\": 1400, \"label\": \"newtown_wonder::Name\", \"group\": \"Term\", \"title\": \"(_1400:Term {definition: 'apple used primarily in cooking', label: 'newtown_wonder::Name', name: 'newtown_wonder', type: 'Name'})\"}, {\"id\": 1385, \"label\": \"reproductive_structure::Name\", \"group\": \"Term\", \"title\": \"(_1385:Term {definition: 'the parts of a plant involved in its reproduction', label: 'reproductive_structure::Name', name: 'reproductive_structure', type: 'Name'})\"}, {\"id\": 1401, \"label\": \"prima::Name\", \"group\": \"Term\", \"title\": \"(_1401:Term {definition: 'used primarily as eating apples', label: 'prima::Name', name: 'prima', type: 'Name'})\"}, {\"id\": 1388, \"label\": \"crab_apple::Name\", \"group\": \"Term\", \"title\": \"(_1388:Term {definition: 'any of numerous varieties of crab apples cultivated for their small acidic (usually bright red) fruit used for preserves or as ornamentals for their blossoms', label: 'crab_apple::Name', name: 'crab_apple', type: 'Name'})\"}];\n",
       "    var edges = [{\"from\": 1380, \"to\": 1395, \"label\": \"SAME\"}, {\"from\": 1380, \"to\": 1394, \"label\": \"SAME\"}, {\"from\": 1380, \"to\": 1382, \"label\": \"ISA\"}, {\"from\": 1380, \"to\": 1381, \"label\": \"ISA\"}, {\"from\": 1390, \"to\": 1391, \"label\": \"SAME\"}, {\"from\": 1390, \"to\": 1399, \"label\": \"SAME\"}, {\"from\": 1390, \"to\": 1387, \"label\": \"ISA\"}, {\"from\": 1280, \"to\": 1393, \"label\": \"SAME\"}, {\"from\": 1280, \"to\": 1389, \"label\": \"ISA\"}, {\"from\": 1387, \"to\": 1380, \"label\": \"ISA\"}, {\"from\": 1392, \"to\": 1389, \"label\": \"ISA\"}, {\"from\": 1397, \"to\": 1381, \"label\": \"SAME\"}, {\"from\": 1397, \"to\": 1384, \"label\": \"ISA\"}, {\"from\": 1398, \"to\": 1382, \"label\": \"SAME\"}, {\"from\": 1398, \"to\": 1383, \"label\": \"ISA\"}, {\"from\": 1396, \"to\": 1382, \"label\": \"SAME\"}, {\"from\": 1396, \"to\": 1381, \"label\": \"SAME\"}, {\"from\": 1396, \"to\": 1383, \"label\": \"ISA\"}, {\"from\": 1384, \"to\": 1386, \"label\": \"ISA\"}, {\"from\": 1399, \"to\": 1390, \"label\": \"SAME\"}, {\"from\": 1399, \"to\": 1387, \"label\": \"ISA\"}, {\"from\": 1391, \"to\": 1400, \"label\": \"SAME\"}, {\"from\": 1391, \"to\": 1390, \"label\": \"SAME\"}, {\"from\": 1391, \"to\": 1387, \"label\": \"ISA\"}, {\"from\": 1394, \"to\": 1380, \"label\": \"SAME\"}, {\"from\": 1394, \"to\": 1382, \"label\": \"ISA\"}, {\"from\": 1394, \"to\": 1381, \"label\": \"ISA\"}, {\"from\": 1395, \"to\": 1380, \"label\": \"SAME\"}, {\"from\": 1395, \"to\": 1381, \"label\": \"ISA\"}, {\"from\": 1383, \"to\": 1385, \"label\": \"ISA\"}, {\"from\": 1393, \"to\": 1280, \"label\": \"SAME\"}, {\"from\": 1393, \"to\": 1401, \"label\": \"SAME\"}, {\"from\": 1393, \"to\": 1389, \"label\": \"ISA\"}, {\"from\": 1401, \"to\": 1393, \"label\": \"SAME\"}, {\"from\": 1401, \"to\": 1389, \"label\": \"ISA\"}, {\"from\": 1382, \"to\": 1398, \"label\": \"SAME\"}, {\"from\": 1382, \"to\": 1396, \"label\": \"SAME\"}, {\"from\": 1382, \"to\": 1383, \"label\": \"ISA\"}, {\"from\": 1381, \"to\": 1397, \"label\": \"SAME\"}, {\"from\": 1381, \"to\": 1396, \"label\": \"SAME\"}, {\"from\": 1381, \"to\": 1384, \"label\": \"ISA\"}, {\"from\": 1381, \"to\": 1383, \"label\": \"ISA\"}, {\"from\": 1389, \"to\": 1380, \"label\": \"ISA\"}, {\"from\": 1388, \"to\": 1380, \"label\": \"ISA\"}, {\"from\": 1400, \"to\": 1391, \"label\": \"SAME\"}, {\"from\": 1400, \"to\": 1387, \"label\": \"ISA\"}];\n",
       "\n",
       "    var container = document.getElementById(\"b8b91b58-e0f1-4fe6-b1ce-7affbeba7e92\");\n",
       "\n",
       "    var data = {\n",
       "        nodes: nodes,\n",
       "        edges: edges\n",
       "    };\n",
       "\n",
       "    var options = {\n",
       "    nodes: {\n",
       "        shape: 'dot',\n",
       "        size: 25,\n",
       "        font: {\n",
       "            size: 14\n",
       "        }\n",
       "    },\n",
       "    edges: {\n",
       "        font: {\n",
       "            size: 14,\n",
       "            align: 'middle'\n",
       "        },\n",
       "        color: 'gray',\n",
       "        arrows: {\n",
       "            to: {\n",
       "                enabled: true,\n",
       "                scaleFactor: 0.5\n",
       "            }\n",
       "        },\n",
       "        smooth: {\n",
       "            enabled: false\n",
       "        }\n",
       "    },\n",
       "    physics: {\n",
       "        enabled: true\n",
       "        }\n",
       "    };\n",
       "\n",
       "    var network = new vis.Network(container, data, options);\n",
       "\n",
       "</script>\n"
      ],
      "text/plain": [
       "<IPython.core.display.HTML object>"
      ]
     },
     "execution_count": 37,
     "metadata": {},
     "output_type": "execute_result"
    }
   ],
   "source": [
    "import neo4jupyter\n",
    "neo4jupyter.init_notebook_mode()\n",
    "neo4jupyter.draw(connect(), {\"Term\": \"label\"})"
   ]
  },
  {
   "cell_type": "code",
   "execution_count": 40,
   "metadata": {},
   "outputs": [
    {
     "data": {
      "text/plain": [
       "{(0, 0): [Synset('apple.n.01')],\n",
       " (1, 2): [Synset('edible_fruit.n.01'), Synset('pome.n.01')],\n",
       " (2, 2): [Synset('fruit.n.01'), Synset('produce.n.01')],\n",
       " (3, 2): [Synset('reproductive_structure.n.01'), Synset('food.n.02')]}"
      ]
     },
     "execution_count": 40,
     "metadata": {},
     "output_type": "execute_result"
    }
   ],
   "source": [
    "from graphCreation.hypernymsCreation.generateHypernyms import *\n",
    "deleteAll(connect())\n",
    "generateHypernyms([[1,2],[2,2],[3,2]], \"apple\", connect())"
   ]
  },
  {
   "cell_type": "code",
   "execution_count": 6,
   "metadata": {},
   "outputs": [
    {
     "data": {
      "text/html": [
       "<div id=\"f84ae734-8c9a-45f3-9cec-09a64d8f1833\" style=\"height: 400px;\"></div>\n",
       "\n",
       "<script type=\"text/javascript\">\n",
       "\n",
       "    var nodes = [{\"id\": 1088, \"label\": \"pome\", \"group\": \"Term\", \"title\": \"(_1088:Term {definition: 'a fleshy fruit (apple or pear or related fruits) having seed chambers and an outer fleshy part', label: 'pome::Name', name: 'pome', type: 'Name'})\"}, {\"id\": 1038, \"label\": \"apple\", \"group\": \"Term\", \"title\": \"(_1038:Term {definition: 'fruit with red or yellow or green skin and sweet to tart crisp whitish flesh', label: 'apple::Name', name: 'apple', type: 'Name'})\"}, {\"id\": 1087, \"label\": \"edible_fruit\", \"group\": \"Term\", \"title\": \"(_1087:Term {definition: 'edible reproductive body of a seed plant especially one having sweet flesh', label: 'edible_fruit::Name', name: 'edible_fruit', type: 'Name'})\"}, {\"id\": 1107, \"label\": \"matter\", \"group\": \"Term\", \"title\": \"(_1107:Term {definition: 'a vaguely specified concern', label: 'matter::Name', name: 'matter', type: 'Name'})\"}, {\"id\": 1105, \"label\": \"plant_part\", \"group\": \"Term\", \"title\": \"(_1105:Term {definition: 'any part of a plant or fungus', label: 'plant_part::Name', name: 'plant_part', type: 'Name'})\"}];\n",
       "    var edges = [{\"from\": 1038, \"to\": 1088, \"label\": \"ISA\"}, {\"from\": 1038, \"to\": 1087, \"label\": \"ISA\"}, {\"from\": 1087, \"to\": 1107, \"label\": \"ISA\"}, {\"from\": 1087, \"to\": 1105, \"label\": \"ISA\"}];\n",
       "\n",
       "    var container = document.getElementById(\"f84ae734-8c9a-45f3-9cec-09a64d8f1833\");\n",
       "\n",
       "    var data = {\n",
       "        nodes: nodes,\n",
       "        edges: edges\n",
       "    };\n",
       "\n",
       "    var options = {\n",
       "    nodes: {\n",
       "        shape: 'dot',\n",
       "        size: 25,\n",
       "        font: {\n",
       "            size: 14\n",
       "        }\n",
       "    },\n",
       "    edges: {\n",
       "        font: {\n",
       "            size: 14,\n",
       "            align: 'middle'\n",
       "        },\n",
       "        color: 'gray',\n",
       "        arrows: {\n",
       "            to: {\n",
       "                enabled: true,\n",
       "                scaleFactor: 0.5\n",
       "            }\n",
       "        },\n",
       "        smooth: {\n",
       "            enabled: false\n",
       "        }\n",
       "    },\n",
       "    physics: {\n",
       "        enabled: true\n",
       "        }\n",
       "    };\n",
       "\n",
       "    var network = new vis.Network(container, data, options);\n",
       "\n",
       "</script>\n"
      ],
      "text/plain": [
       "<IPython.core.display.HTML object>"
      ]
     },
     "execution_count": 6,
     "metadata": {},
     "output_type": "execute_result"
    }
   ],
   "source": [
    "neo4jupyter.draw(connect(), {\"Term\": \"name\"})"
   ]
  },
  {
   "cell_type": "code",
   "execution_count": 41,
   "metadata": {},
   "outputs": [
    {
     "data": {
      "text/plain": [
       "{(0, 0): [Synset('apple.n.01')],\n",
       " (1, 3): [Synset('cooking_apple.n.01'),\n",
       "  Synset('crab_apple.n.03'),\n",
       "  Synset('eating_apple.n.01')],\n",
       " (2, 3): [Synset('bramley's_seedling.n.01'),\n",
       "  Synset('lane's_prince_albert.n.01'),\n",
       "  Synset('newtown_wonder.n.01'),\n",
       "  Synset('baldwin.n.03'),\n",
       "  Synset('cortland.n.01'),\n",
       "  Synset('delicious.n.01')]}"
      ]
     },
     "execution_count": 41,
     "metadata": {},
     "output_type": "execute_result"
    }
   ],
   "source": [
    "from graphCreation.hyponymsCreation.generateHyponyms import *\n",
    "#deleteAll(connect())\n",
    "generateHyponyms( [[1,3],[2,3]], \"apple\", connect())"
   ]
  },
  {
   "cell_type": "code",
   "execution_count": 8,
   "metadata": {},
   "outputs": [
    {
     "data": {
      "text/html": [
       "<div id=\"6607a2e8-0c3f-49d1-a867-b6828c34ec0a\" style=\"height: 400px;\"></div>\n",
       "\n",
       "<script type=\"text/javascript\">\n",
       "\n",
       "    var nodes = [{\"id\": 1111, \"label\": \"eating_apple\", \"group\": \"Term\", \"title\": \"(_1111:Term {definition: 'an apple used primarily for eating raw without cooking', label: 'eating_apple::Name', name: 'eating_apple', type: 'Name'})\"}, {\"id\": 1108, \"label\": \"apple\", \"group\": \"Term\", \"title\": \"(_1108:Term {definition: 'fruit with red or yellow or green skin and sweet to tart crisp whitish flesh', label: 'apple::Name', name: 'apple', type: 'Name'})\"}, {\"id\": 1004, \"label\": \"baldwin\", \"group\": \"Term\", \"title\": \"(_1004:Term {definition: 'United States author who was an outspoken critic of racism (1924-1987)', label: 'baldwin::Name', name: 'baldwin', type: 'Name'})\"}, {\"id\": 1016, \"label\": \"delicious\", \"group\": \"Term\", \"title\": \"(_1016:Term {definition: 'variety of sweet eating apples', label: 'delicious::Name', name: 'delicious', type: 'Name'})\"}, {\"id\": 1109, \"label\": \"cooking_apple\", \"group\": \"Term\", \"title\": \"(_1109:Term {definition: 'an apple used primarily in cooking for pies and applesauce etc', label: 'cooking_apple::Name', name: 'cooking_apple', type: 'Name'})\"}, {\"id\": 1015, \"label\": \"cortland\", \"group\": \"Term\", \"title\": \"(_1015:Term {definition: 'large apple with a red skin', label: 'cortland::Name', name: 'cortland', type: 'Name'})\"}, {\"id\": 964, \"label\": \"bramley's_seedling\", \"group\": \"Term\", \"title\": \"(_964:Term {definition: 'very large cooking apple', label: \\\"bramley's_seedling::Name\\\", name: \\\"bramley's_seedling\\\", type: 'Name'})\"}, {\"id\": 1018, \"label\": \"red_delicious\", \"group\": \"Term\", \"title\": \"(_1018:Term {definition: 'a sweet eating apple with bright red skin; most widely grown apple worldwide', label: 'red_delicious::Name', name: 'red_delicious', type: 'Name'})\"}, {\"id\": 966, \"label\": \"newtown_wonder\", \"group\": \"Term\", \"title\": \"(_966:Term {definition: 'apple used primarily in cooking', label: 'newtown_wonder::Name', name: 'newtown_wonder', type: 'Name'})\"}, {\"id\": 1017, \"label\": \"golden_delicious\", \"group\": \"Term\", \"title\": \"(_1017:Term {definition: 'a sweet eating apple with yellow skin', label: 'golden_delicious::Name', name: 'golden_delicious', type: 'Name'})\"}, {\"id\": 1110, \"label\": \"crab_apple\", \"group\": \"Term\", \"title\": \"(_1110:Term {definition: 'any of numerous varieties of crab apples cultivated for their small acidic (usually bright red) fruit used for preserves or as ornamentals for their blossoms', label: 'crab_apple::Name', name: 'crab_apple', type: 'Name'})\"}, {\"id\": 965, \"label\": \"lane's_prince_albert\", \"group\": \"Term\", \"title\": \"(_965:Term {definition: 'apple used primarily in cooking', label: \\\"lane's_prince_albert::Name\\\", name: \\\"lane's_prince_albert\\\", type: 'Name'})\"}];\n",
       "    var edges = [{\"from\": 1111, \"to\": 1108, \"label\": \"ISA\"}, {\"from\": 1004, \"to\": 1111, \"label\": \"ISA\"}, {\"from\": 1016, \"to\": 1111, \"label\": \"ISA\"}, {\"from\": 1109, \"to\": 1108, \"label\": \"ISA\"}, {\"from\": 1015, \"to\": 1111, \"label\": \"ISA\"}, {\"from\": 964, \"to\": 1109, \"label\": \"ISA\"}, {\"from\": 1018, \"to\": 1016, \"label\": \"ISA\"}, {\"from\": 966, \"to\": 1109, \"label\": \"ISA\"}, {\"from\": 1017, \"to\": 1016, \"label\": \"ISA\"}, {\"from\": 1110, \"to\": 1108, \"label\": \"ISA\"}, {\"from\": 965, \"to\": 1109, \"label\": \"ISA\"}];\n",
       "\n",
       "    var container = document.getElementById(\"6607a2e8-0c3f-49d1-a867-b6828c34ec0a\");\n",
       "\n",
       "    var data = {\n",
       "        nodes: nodes,\n",
       "        edges: edges\n",
       "    };\n",
       "\n",
       "    var options = {\n",
       "    nodes: {\n",
       "        shape: 'dot',\n",
       "        size: 25,\n",
       "        font: {\n",
       "            size: 14\n",
       "        }\n",
       "    },\n",
       "    edges: {\n",
       "        font: {\n",
       "            size: 14,\n",
       "            align: 'middle'\n",
       "        },\n",
       "        color: 'gray',\n",
       "        arrows: {\n",
       "            to: {\n",
       "                enabled: true,\n",
       "                scaleFactor: 0.5\n",
       "            }\n",
       "        },\n",
       "        smooth: {\n",
       "            enabled: false\n",
       "        }\n",
       "    },\n",
       "    physics: {\n",
       "        enabled: true\n",
       "        }\n",
       "    };\n",
       "\n",
       "    var network = new vis.Network(container, data, options);\n",
       "\n",
       "</script>\n"
      ],
      "text/plain": [
       "<IPython.core.display.HTML object>"
      ]
     },
     "execution_count": 8,
     "metadata": {},
     "output_type": "execute_result"
    }
   ],
   "source": [
    "neo4jupyter.draw(connect(), {\"Term\": \"name\"})"
   ]
  },
  {
   "cell_type": "code",
   "execution_count": 9,
   "metadata": {},
   "outputs": [
    {
     "name": "stdout",
     "output_type": "stream",
     "text": [
      "{'edible_fruit': [Synset('quandong.n.02'), Synset('buffalo_nut.n.01')], 'pome': [Synset('prairie_gourd.n.01'), Synset('seed.n.01')]} {'edible_fruit': [Synset('fruit.n.01'), Synset('produce.n.01')], 'pome': [Synset('fruit.n.01')]}\n",
      "quandong fruit\n",
      "buffalo_nut fruit\n",
      "prairie_gourd fruit\n",
      "seed fruit\n",
      "{\"bramley's_seedling\": [Synset('lane's_prince_albert.n.01'), Synset('newtown_wonder.n.01')], \"lane's_prince_albert\": [Synset('rome_beauty.n.01'), Synset('bramley's_seedling.n.01')], 'newtown_wonder': [Synset('lane's_prince_albert.n.01'), Synset('rome_beauty.n.01')], 'cortland': [Synset('grimes'_golden.n.01'), Synset('stayman_winesap.n.01')], 'delicious': [Synset('jonathan.n.01'), Synset('prima.n.01')]} {\"bramley's_seedling\": [Synset('cooking_apple.n.01')], \"lane's_prince_albert\": [Synset('cooking_apple.n.01')], 'newtown_wonder': [Synset('cooking_apple.n.01')], 'baldwin': [], 'cortland': [Synset('eating_apple.n.01')], 'delicious': [Synset('eating_apple.n.01')]}\n"
     ]
    },
    {
     "ename": "ClientError",
     "evalue": "SyntaxError: Invalid input '_': expected 't/T' (line 1, column 30 (offset: 29))\r\n\"MATCH (t1:Term {name:'lane's_prince_albert'}), (t2:Term {name:'cooking_apple'}) \"\r\n                              ^",
     "output_type": "error",
     "traceback": [
      "\u001b[1;31m---------------------------------------------------------------------------\u001b[0m",
      "\u001b[1;31mClientError\u001b[0m                               Traceback (most recent call last)",
      "\u001b[1;32m<ipython-input-9-cf3a3b0be924>\u001b[0m in \u001b[0;36m<module>\u001b[1;34m\u001b[0m\n\u001b[0;32m      3\u001b[0m \u001b[0mgenerateHypernyms\u001b[0m\u001b[1;33m(\u001b[0m\u001b[1;33m[\u001b[0m\u001b[1;33m[\u001b[0m\u001b[1;36m1\u001b[0m\u001b[1;33m,\u001b[0m\u001b[1;36m5\u001b[0m\u001b[1;33m]\u001b[0m\u001b[1;33m,\u001b[0m\u001b[1;33m[\u001b[0m\u001b[1;36m2\u001b[0m\u001b[1;33m,\u001b[0m\u001b[1;36m3\u001b[0m\u001b[1;33m]\u001b[0m\u001b[1;33m]\u001b[0m\u001b[1;33m,\u001b[0m \u001b[1;34m\"apple\"\u001b[0m\u001b[1;33m,\u001b[0m \u001b[0mconnect\u001b[0m\u001b[1;33m(\u001b[0m\u001b[1;33m)\u001b[0m\u001b[1;33m)\u001b[0m\u001b[1;33m\u001b[0m\u001b[1;33m\u001b[0m\u001b[0m\n\u001b[0;32m      4\u001b[0m \u001b[0mgenerateHyponyms\u001b[0m\u001b[1;33m(\u001b[0m\u001b[1;33m[\u001b[0m\u001b[1;33m[\u001b[0m\u001b[1;36m1\u001b[0m\u001b[1;33m,\u001b[0m\u001b[1;36m5\u001b[0m\u001b[1;33m]\u001b[0m\u001b[1;33m,\u001b[0m\u001b[1;33m[\u001b[0m\u001b[1;36m2\u001b[0m\u001b[1;33m,\u001b[0m\u001b[1;36m3\u001b[0m\u001b[1;33m]\u001b[0m\u001b[1;33m]\u001b[0m\u001b[1;33m,\u001b[0m \u001b[1;34m\"apple\"\u001b[0m\u001b[1;33m,\u001b[0m \u001b[0mconnect\u001b[0m\u001b[1;33m(\u001b[0m\u001b[1;33m)\u001b[0m\u001b[1;33m)\u001b[0m\u001b[1;33m\u001b[0m\u001b[1;33m\u001b[0m\u001b[0m\n\u001b[1;32m----> 5\u001b[1;33m \u001b[0mgenerateSame\u001b[0m\u001b[1;33m(\u001b[0m\u001b[1;34m\"apple\"\u001b[0m\u001b[1;33m,\u001b[0m \u001b[1;33m[\u001b[0m\u001b[1;33m[\u001b[0m\u001b[1;36m1\u001b[0m\u001b[1;33m,\u001b[0m\u001b[1;36m2\u001b[0m\u001b[1;33m]\u001b[0m\u001b[1;33m,\u001b[0m\u001b[1;33m[\u001b[0m\u001b[1;33m-\u001b[0m\u001b[1;36m2\u001b[0m\u001b[1;33m,\u001b[0m\u001b[1;36m2\u001b[0m\u001b[1;33m]\u001b[0m\u001b[1;33m]\u001b[0m\u001b[1;33m,\u001b[0m \u001b[0mconnect\u001b[0m\u001b[1;33m(\u001b[0m\u001b[1;33m)\u001b[0m\u001b[1;33m)\u001b[0m\u001b[1;33m\u001b[0m\u001b[1;33m\u001b[0m\u001b[0m\n\u001b[0m",
      "\u001b[1;32m~\\Desktop\\BSP6ProjectFlaskReactNeo4j\\flask-backend\\graphCreation\\sameCreation\\generateSame.py\u001b[0m in \u001b[0;36mgenerateSame\u001b[1;34m(word, sequence, graph)\u001b[0m\n\u001b[0;32m    107\u001b[0m             \u001b[0mhyper\u001b[0m\u001b[1;33m[\u001b[0m\u001b[0mw2\u001b[0m\u001b[1;33m[\u001b[0m\u001b[1;36m0\u001b[0m\u001b[1;33m]\u001b[0m\u001b[1;33m]\u001b[0m \u001b[1;33m=\u001b[0m \u001b[0mallHypernyms\u001b[0m\u001b[1;33m[\u001b[0m\u001b[0mw\u001b[0m\u001b[1;33m]\u001b[0m\u001b[1;33m\u001b[0m\u001b[1;33m\u001b[0m\u001b[0m\n\u001b[0;32m    108\u001b[0m         \u001b[0mprint\u001b[0m\u001b[1;33m(\u001b[0m\u001b[0mresult\u001b[0m\u001b[1;33m,\u001b[0m \u001b[0mhyper\u001b[0m\u001b[1;33m)\u001b[0m\u001b[1;33m\u001b[0m\u001b[1;33m\u001b[0m\u001b[0m\n\u001b[1;32m--> 109\u001b[1;33m         \u001b[0mcreateISARelation\u001b[0m\u001b[1;33m(\u001b[0m\u001b[0mresult\u001b[0m\u001b[1;33m,\u001b[0m \u001b[0mhyper\u001b[0m\u001b[1;33m,\u001b[0m \u001b[0mgraph\u001b[0m\u001b[1;33m)\u001b[0m\u001b[1;33m\u001b[0m\u001b[1;33m\u001b[0m\u001b[0m\n\u001b[0m\u001b[0;32m    110\u001b[0m         \u001b[0mcreateSameRelation\u001b[0m\u001b[1;33m(\u001b[0m\u001b[0mresult\u001b[0m\u001b[1;33m,\u001b[0m \u001b[0mgraph\u001b[0m\u001b[1;33m)\u001b[0m\u001b[1;33m\u001b[0m\u001b[1;33m\u001b[0m\u001b[0m\n\u001b[0;32m    111\u001b[0m \u001b[1;33m\u001b[0m\u001b[0m\n",
      "\u001b[1;32m~\\Desktop\\BSP6ProjectFlaskReactNeo4j\\flask-backend\\graphCreation\\sameCreation\\generateSame.py\u001b[0m in \u001b[0;36mcreateISARelation\u001b[1;34m(wordsSame, hypernyms, graph)\u001b[0m\n\u001b[0;32m     37\u001b[0m                     query = \"\"\" MATCH (t1:Term {name:'\"\"\" + convertHypernymsToString([sameWord])[0] + \"\"\"'}), (t2:Term {name:'\"\"\"+ convertHypernymsToString([isaWord])[0]+\"\"\"'}) \n\u001b[0;32m     38\u001b[0m                             MERGE (t1)-[:ISA]->(t2)\"\"\"\n\u001b[1;32m---> 39\u001b[1;33m                     \u001b[0mgraph\u001b[0m\u001b[1;33m.\u001b[0m\u001b[0mrun\u001b[0m\u001b[1;33m(\u001b[0m\u001b[0mquery\u001b[0m\u001b[1;33m)\u001b[0m\u001b[1;33m\u001b[0m\u001b[1;33m\u001b[0m\u001b[0m\n\u001b[0m\u001b[0;32m     40\u001b[0m                     \u001b[0mprint\u001b[0m\u001b[1;33m(\u001b[0m\u001b[0mconvertHypernymsToString\u001b[0m\u001b[1;33m(\u001b[0m\u001b[1;33m[\u001b[0m\u001b[0msameWord\u001b[0m\u001b[1;33m]\u001b[0m\u001b[1;33m)\u001b[0m\u001b[1;33m[\u001b[0m\u001b[1;36m0\u001b[0m\u001b[1;33m]\u001b[0m \u001b[1;33m,\u001b[0m \u001b[0mconvertHypernymsToString\u001b[0m\u001b[1;33m(\u001b[0m\u001b[1;33m[\u001b[0m\u001b[0misaWord\u001b[0m\u001b[1;33m]\u001b[0m\u001b[1;33m)\u001b[0m\u001b[1;33m[\u001b[0m\u001b[1;36m0\u001b[0m\u001b[1;33m]\u001b[0m\u001b[1;33m)\u001b[0m\u001b[1;33m\u001b[0m\u001b[1;33m\u001b[0m\u001b[0m\n\u001b[0;32m     41\u001b[0m \u001b[1;33m\u001b[0m\u001b[0m\n",
      "\u001b[1;32m~\\Anaconda3\\lib\\site-packages\\py2neo\\database.py\u001b[0m in \u001b[0;36mrun\u001b[1;34m(self, cypher, parameters, **kwparameters)\u001b[0m\n\u001b[0;32m    524\u001b[0m         \u001b[1;33m:\u001b[0m\u001b[1;32mreturn\u001b[0m\u001b[1;33m:\u001b[0m\u001b[1;33m\u001b[0m\u001b[1;33m\u001b[0m\u001b[0m\n\u001b[0;32m    525\u001b[0m         \"\"\"\n\u001b[1;32m--> 526\u001b[1;33m         \u001b[1;32mreturn\u001b[0m \u001b[0mself\u001b[0m\u001b[1;33m.\u001b[0m\u001b[0mbegin\u001b[0m\u001b[1;33m(\u001b[0m\u001b[0mautocommit\u001b[0m\u001b[1;33m=\u001b[0m\u001b[1;32mTrue\u001b[0m\u001b[1;33m)\u001b[0m\u001b[1;33m.\u001b[0m\u001b[0mrun\u001b[0m\u001b[1;33m(\u001b[0m\u001b[0mcypher\u001b[0m\u001b[1;33m,\u001b[0m \u001b[0mparameters\u001b[0m\u001b[1;33m,\u001b[0m \u001b[1;33m**\u001b[0m\u001b[0mkwparameters\u001b[0m\u001b[1;33m)\u001b[0m\u001b[1;33m\u001b[0m\u001b[1;33m\u001b[0m\u001b[0m\n\u001b[0m\u001b[0;32m    527\u001b[0m \u001b[1;33m\u001b[0m\u001b[0m\n\u001b[0;32m    528\u001b[0m     \u001b[1;32mdef\u001b[0m \u001b[0mseparate\u001b[0m\u001b[1;33m(\u001b[0m\u001b[0mself\u001b[0m\u001b[1;33m,\u001b[0m \u001b[0msubgraph\u001b[0m\u001b[1;33m)\u001b[0m\u001b[1;33m:\u001b[0m\u001b[1;33m\u001b[0m\u001b[1;33m\u001b[0m\u001b[0m\n",
      "\u001b[1;32m~\\Anaconda3\\lib\\site-packages\\py2neo\\database.py\u001b[0m in \u001b[0;36mrun\u001b[1;34m(self, cypher, parameters, **kwparameters)\u001b[0m\n\u001b[0;32m    803\u001b[0m                                              \u001b[0mgraph\u001b[0m\u001b[1;33m=\u001b[0m\u001b[0mself\u001b[0m\u001b[1;33m.\u001b[0m\u001b[0mgraph\u001b[0m\u001b[1;33m,\u001b[0m\u001b[1;33m\u001b[0m\u001b[1;33m\u001b[0m\u001b[0m\n\u001b[0;32m    804\u001b[0m                                              \u001b[0mkeys\u001b[0m\u001b[1;33m=\u001b[0m\u001b[1;33m[\u001b[0m\u001b[1;33m]\u001b[0m\u001b[1;33m,\u001b[0m\u001b[1;33m\u001b[0m\u001b[1;33m\u001b[0m\u001b[0m\n\u001b[1;32m--> 805\u001b[1;33m                                              entities=entities))\n\u001b[0m\u001b[0;32m    806\u001b[0m         \u001b[1;32mexcept\u001b[0m \u001b[0mCypherError\u001b[0m \u001b[1;32mas\u001b[0m \u001b[0merror\u001b[0m\u001b[1;33m:\u001b[0m\u001b[1;33m\u001b[0m\u001b[1;33m\u001b[0m\u001b[0m\n\u001b[0;32m    807\u001b[0m             \u001b[1;32mraise\u001b[0m \u001b[0mGraphError\u001b[0m\u001b[1;33m.\u001b[0m\u001b[0mhydrate\u001b[0m\u001b[1;33m(\u001b[0m\u001b[1;33m{\u001b[0m\u001b[1;34m\"code\"\u001b[0m\u001b[1;33m:\u001b[0m \u001b[0merror\u001b[0m\u001b[1;33m.\u001b[0m\u001b[0mcode\u001b[0m\u001b[1;33m,\u001b[0m \u001b[1;34m\"message\"\u001b[0m\u001b[1;33m:\u001b[0m \u001b[0merror\u001b[0m\u001b[1;33m.\u001b[0m\u001b[0mmessage\u001b[0m\u001b[1;33m}\u001b[0m\u001b[1;33m)\u001b[0m\u001b[1;33m\u001b[0m\u001b[1;33m\u001b[0m\u001b[0m\n",
      "\u001b[1;32m~\\Anaconda3\\lib\\site-packages\\py2neo\\internal\\connectors.py\u001b[0m in \u001b[0;36mrun\u001b[1;34m(self, statement, parameters, tx, graph, keys, entities)\u001b[0m\n\u001b[0;32m    283\u001b[0m     \u001b[1;32mdef\u001b[0m \u001b[0mrun\u001b[0m\u001b[1;33m(\u001b[0m\u001b[0mself\u001b[0m\u001b[1;33m,\u001b[0m \u001b[0mstatement\u001b[0m\u001b[1;33m,\u001b[0m \u001b[0mparameters\u001b[0m\u001b[1;33m=\u001b[0m\u001b[1;32mNone\u001b[0m\u001b[1;33m,\u001b[0m \u001b[0mtx\u001b[0m\u001b[1;33m=\u001b[0m\u001b[1;32mNone\u001b[0m\u001b[1;33m,\u001b[0m \u001b[0mgraph\u001b[0m\u001b[1;33m=\u001b[0m\u001b[1;32mNone\u001b[0m\u001b[1;33m,\u001b[0m \u001b[0mkeys\u001b[0m\u001b[1;33m=\u001b[0m\u001b[1;32mNone\u001b[0m\u001b[1;33m,\u001b[0m \u001b[0mentities\u001b[0m\u001b[1;33m=\u001b[0m\u001b[1;32mNone\u001b[0m\u001b[1;33m)\u001b[0m\u001b[1;33m:\u001b[0m\u001b[1;33m\u001b[0m\u001b[1;33m\u001b[0m\u001b[0m\n\u001b[0;32m    284\u001b[0m         \u001b[1;32mif\u001b[0m \u001b[0mtx\u001b[0m \u001b[1;32mis\u001b[0m \u001b[1;32mNone\u001b[0m\u001b[1;33m:\u001b[0m\u001b[1;33m\u001b[0m\u001b[1;33m\u001b[0m\u001b[0m\n\u001b[1;32m--> 285\u001b[1;33m             \u001b[1;32mreturn\u001b[0m \u001b[0mself\u001b[0m\u001b[1;33m.\u001b[0m\u001b[0m_run_1\u001b[0m\u001b[1;33m(\u001b[0m\u001b[0mstatement\u001b[0m\u001b[1;33m,\u001b[0m \u001b[0mparameters\u001b[0m\u001b[1;33m,\u001b[0m \u001b[0mgraph\u001b[0m\u001b[1;33m,\u001b[0m \u001b[0mkeys\u001b[0m\u001b[1;33m,\u001b[0m \u001b[0mentities\u001b[0m\u001b[1;33m)\u001b[0m\u001b[1;33m\u001b[0m\u001b[1;33m\u001b[0m\u001b[0m\n\u001b[0m\u001b[0;32m    286\u001b[0m         \u001b[1;32melse\u001b[0m\u001b[1;33m:\u001b[0m\u001b[1;33m\u001b[0m\u001b[1;33m\u001b[0m\u001b[0m\n\u001b[0;32m    287\u001b[0m             \u001b[1;32mreturn\u001b[0m \u001b[0mself\u001b[0m\u001b[1;33m.\u001b[0m\u001b[0m_run_in_tx\u001b[0m\u001b[1;33m(\u001b[0m\u001b[0mstatement\u001b[0m\u001b[1;33m,\u001b[0m \u001b[0mparameters\u001b[0m\u001b[1;33m,\u001b[0m \u001b[0mtx\u001b[0m\u001b[1;33m,\u001b[0m \u001b[0mgraph\u001b[0m\u001b[1;33m,\u001b[0m \u001b[0mkeys\u001b[0m\u001b[1;33m,\u001b[0m \u001b[0mentities\u001b[0m\u001b[1;33m)\u001b[0m\u001b[1;33m\u001b[0m\u001b[1;33m\u001b[0m\u001b[0m\n",
      "\u001b[1;32m~\\Anaconda3\\lib\\site-packages\\py2neo\\internal\\connectors.py\u001b[0m in \u001b[0;36m_run_1\u001b[1;34m(self, statement, parameters, graph, keys, entities)\u001b[0m\n\u001b[0;32m    246\u001b[0m                     on_success=result.update_metadata, on_failure=self._fail, on_summary=result.done)\n\u001b[0;32m    247\u001b[0m         \u001b[0mcx\u001b[0m\u001b[1;33m.\u001b[0m\u001b[0msend\u001b[0m\u001b[1;33m(\u001b[0m\u001b[1;33m)\u001b[0m\u001b[1;33m\u001b[0m\u001b[1;33m\u001b[0m\u001b[0m\n\u001b[1;32m--> 248\u001b[1;33m         \u001b[0mcx\u001b[0m\u001b[1;33m.\u001b[0m\u001b[0mfetch\u001b[0m\u001b[1;33m(\u001b[0m\u001b[1;33m)\u001b[0m\u001b[1;33m\u001b[0m\u001b[1;33m\u001b[0m\u001b[0m\n\u001b[0m\u001b[0;32m    249\u001b[0m         \u001b[1;32mreturn\u001b[0m \u001b[0mresult\u001b[0m\u001b[1;33m\u001b[0m\u001b[1;33m\u001b[0m\u001b[0m\n\u001b[0;32m    250\u001b[0m \u001b[1;33m\u001b[0m\u001b[0m\n",
      "\u001b[1;32m~\\Anaconda3\\lib\\site-packages\\neobolt\\direct.py\u001b[0m in \u001b[0;36mfetch\u001b[1;34m(self)\u001b[0m\n\u001b[0;32m    417\u001b[0m     \u001b[1;32mdef\u001b[0m \u001b[0mfetch\u001b[0m\u001b[1;33m(\u001b[0m\u001b[0mself\u001b[0m\u001b[1;33m)\u001b[0m\u001b[1;33m:\u001b[0m\u001b[1;33m\u001b[0m\u001b[1;33m\u001b[0m\u001b[0m\n\u001b[0;32m    418\u001b[0m         \u001b[1;32mtry\u001b[0m\u001b[1;33m:\u001b[0m\u001b[1;33m\u001b[0m\u001b[1;33m\u001b[0m\u001b[0m\n\u001b[1;32m--> 419\u001b[1;33m             \u001b[1;32mreturn\u001b[0m \u001b[0mself\u001b[0m\u001b[1;33m.\u001b[0m\u001b[0m_fetch\u001b[0m\u001b[1;33m(\u001b[0m\u001b[1;33m)\u001b[0m\u001b[1;33m\u001b[0m\u001b[1;33m\u001b[0m\u001b[0m\n\u001b[0m\u001b[0;32m    420\u001b[0m         \u001b[1;32mexcept\u001b[0m \u001b[0mself\u001b[0m\u001b[1;33m.\u001b[0m\u001b[0merror_handler\u001b[0m\u001b[1;33m.\u001b[0m\u001b[0mknown_errors\u001b[0m \u001b[1;32mas\u001b[0m \u001b[0merror\u001b[0m\u001b[1;33m:\u001b[0m\u001b[1;33m\u001b[0m\u001b[1;33m\u001b[0m\u001b[0m\n\u001b[0;32m    421\u001b[0m             \u001b[0mself\u001b[0m\u001b[1;33m.\u001b[0m\u001b[0merror_handler\u001b[0m\u001b[1;33m.\u001b[0m\u001b[0mhandle\u001b[0m\u001b[1;33m(\u001b[0m\u001b[0merror\u001b[0m\u001b[1;33m,\u001b[0m \u001b[0mself\u001b[0m\u001b[1;33m.\u001b[0m\u001b[0munresolved_address\u001b[0m\u001b[1;33m)\u001b[0m\u001b[1;33m\u001b[0m\u001b[1;33m\u001b[0m\u001b[0m\n",
      "\u001b[1;32m~\\Anaconda3\\lib\\site-packages\\neobolt\\direct.py\u001b[0m in \u001b[0;36m_fetch\u001b[1;34m(self)\u001b[0m\n\u001b[0;32m    459\u001b[0m         \u001b[1;32melif\u001b[0m \u001b[0msummary_signature\u001b[0m \u001b[1;33m==\u001b[0m \u001b[1;34mb\"\\x7F\"\u001b[0m\u001b[1;33m:\u001b[0m\u001b[1;33m\u001b[0m\u001b[1;33m\u001b[0m\u001b[0m\n\u001b[0;32m    460\u001b[0m             \u001b[0mlog_debug\u001b[0m\u001b[1;33m(\u001b[0m\u001b[1;34m\"[#%04X]  S: FAILURE %r\"\u001b[0m\u001b[1;33m,\u001b[0m \u001b[0mself\u001b[0m\u001b[1;33m.\u001b[0m\u001b[0mlocal_port\u001b[0m\u001b[1;33m,\u001b[0m \u001b[0msummary_metadata\u001b[0m\u001b[1;33m)\u001b[0m\u001b[1;33m\u001b[0m\u001b[1;33m\u001b[0m\u001b[0m\n\u001b[1;32m--> 461\u001b[1;33m             \u001b[0mresponse\u001b[0m\u001b[1;33m.\u001b[0m\u001b[0mon_failure\u001b[0m\u001b[1;33m(\u001b[0m\u001b[0msummary_metadata\u001b[0m \u001b[1;32mor\u001b[0m \u001b[1;33m{\u001b[0m\u001b[1;33m}\u001b[0m\u001b[1;33m)\u001b[0m\u001b[1;33m\u001b[0m\u001b[1;33m\u001b[0m\u001b[0m\n\u001b[0m\u001b[0;32m    462\u001b[0m         \u001b[1;32melse\u001b[0m\u001b[1;33m:\u001b[0m\u001b[1;33m\u001b[0m\u001b[1;33m\u001b[0m\u001b[0m\n\u001b[0;32m    463\u001b[0m             \u001b[1;32mraise\u001b[0m \u001b[0mProtocolError\u001b[0m\u001b[1;33m(\u001b[0m\u001b[1;34m\"Unexpected response message with signature %02X\"\u001b[0m \u001b[1;33m%\u001b[0m \u001b[0msummary_signature\u001b[0m\u001b[1;33m)\u001b[0m\u001b[1;33m\u001b[0m\u001b[1;33m\u001b[0m\u001b[0m\n",
      "\u001b[1;32m~\\Anaconda3\\lib\\site-packages\\neobolt\\direct.py\u001b[0m in \u001b[0;36mon_failure\u001b[1;34m(self, metadata)\u001b[0m\n\u001b[0;32m    749\u001b[0m         \u001b[0mhandler\u001b[0m \u001b[1;33m=\u001b[0m \u001b[0mself\u001b[0m\u001b[1;33m.\u001b[0m\u001b[0mhandlers\u001b[0m\u001b[1;33m.\u001b[0m\u001b[0mget\u001b[0m\u001b[1;33m(\u001b[0m\u001b[1;34m\"on_failure\"\u001b[0m\u001b[1;33m)\u001b[0m\u001b[1;33m\u001b[0m\u001b[1;33m\u001b[0m\u001b[0m\n\u001b[0;32m    750\u001b[0m         \u001b[1;32mif\u001b[0m \u001b[0mcallable\u001b[0m\u001b[1;33m(\u001b[0m\u001b[0mhandler\u001b[0m\u001b[1;33m)\u001b[0m\u001b[1;33m:\u001b[0m\u001b[1;33m\u001b[0m\u001b[1;33m\u001b[0m\u001b[0m\n\u001b[1;32m--> 751\u001b[1;33m             \u001b[0mhandler\u001b[0m\u001b[1;33m(\u001b[0m\u001b[0mmetadata\u001b[0m\u001b[1;33m)\u001b[0m\u001b[1;33m\u001b[0m\u001b[1;33m\u001b[0m\u001b[0m\n\u001b[0m\u001b[0;32m    752\u001b[0m         \u001b[0mhandler\u001b[0m \u001b[1;33m=\u001b[0m \u001b[0mself\u001b[0m\u001b[1;33m.\u001b[0m\u001b[0mhandlers\u001b[0m\u001b[1;33m.\u001b[0m\u001b[0mget\u001b[0m\u001b[1;33m(\u001b[0m\u001b[1;34m\"on_summary\"\u001b[0m\u001b[1;33m)\u001b[0m\u001b[1;33m\u001b[0m\u001b[1;33m\u001b[0m\u001b[0m\n\u001b[0;32m    753\u001b[0m         \u001b[1;32mif\u001b[0m \u001b[0mcallable\u001b[0m\u001b[1;33m(\u001b[0m\u001b[0mhandler\u001b[0m\u001b[1;33m)\u001b[0m\u001b[1;33m:\u001b[0m\u001b[1;33m\u001b[0m\u001b[1;33m\u001b[0m\u001b[0m\n",
      "\u001b[1;32m~\\Anaconda3\\lib\\site-packages\\py2neo\\internal\\connectors.py\u001b[0m in \u001b[0;36m_fail\u001b[1;34m(cls, metadata)\u001b[0m\n\u001b[0;32m    279\u001b[0m     \u001b[1;32mdef\u001b[0m \u001b[0m_fail\u001b[0m\u001b[1;33m(\u001b[0m\u001b[0mcls\u001b[0m\u001b[1;33m,\u001b[0m \u001b[0mmetadata\u001b[0m\u001b[1;33m)\u001b[0m\u001b[1;33m:\u001b[0m\u001b[1;33m\u001b[0m\u001b[1;33m\u001b[0m\u001b[0m\n\u001b[0;32m    280\u001b[0m         \u001b[1;32mfrom\u001b[0m \u001b[0mpy2neo\u001b[0m\u001b[1;33m.\u001b[0m\u001b[0mdatabase\u001b[0m \u001b[1;32mimport\u001b[0m \u001b[0mGraphError\u001b[0m\u001b[1;33m\u001b[0m\u001b[1;33m\u001b[0m\u001b[0m\n\u001b[1;32m--> 281\u001b[1;33m         \u001b[1;32mraise\u001b[0m \u001b[0mGraphError\u001b[0m\u001b[1;33m.\u001b[0m\u001b[0mhydrate\u001b[0m\u001b[1;33m(\u001b[0m\u001b[0mmetadata\u001b[0m\u001b[1;33m)\u001b[0m\u001b[1;33m\u001b[0m\u001b[1;33m\u001b[0m\u001b[0m\n\u001b[0m\u001b[0;32m    282\u001b[0m \u001b[1;33m\u001b[0m\u001b[0m\n\u001b[0;32m    283\u001b[0m     \u001b[1;32mdef\u001b[0m \u001b[0mrun\u001b[0m\u001b[1;33m(\u001b[0m\u001b[0mself\u001b[0m\u001b[1;33m,\u001b[0m \u001b[0mstatement\u001b[0m\u001b[1;33m,\u001b[0m \u001b[0mparameters\u001b[0m\u001b[1;33m=\u001b[0m\u001b[1;32mNone\u001b[0m\u001b[1;33m,\u001b[0m \u001b[0mtx\u001b[0m\u001b[1;33m=\u001b[0m\u001b[1;32mNone\u001b[0m\u001b[1;33m,\u001b[0m \u001b[0mgraph\u001b[0m\u001b[1;33m=\u001b[0m\u001b[1;32mNone\u001b[0m\u001b[1;33m,\u001b[0m \u001b[0mkeys\u001b[0m\u001b[1;33m=\u001b[0m\u001b[1;32mNone\u001b[0m\u001b[1;33m,\u001b[0m \u001b[0mentities\u001b[0m\u001b[1;33m=\u001b[0m\u001b[1;32mNone\u001b[0m\u001b[1;33m)\u001b[0m\u001b[1;33m:\u001b[0m\u001b[1;33m\u001b[0m\u001b[1;33m\u001b[0m\u001b[0m\n",
      "\u001b[1;31mClientError\u001b[0m: SyntaxError: Invalid input '_': expected 't/T' (line 1, column 30 (offset: 29))\r\n\"MATCH (t1:Term {name:'lane's_prince_albert'}), (t2:Term {name:'cooking_apple'}) \"\r\n                              ^"
     ]
    }
   ],
   "source": [
    "from graphCreation.sameCreation.generateSame import *\n",
    "deleteAll(connect())\n",
    "generateHypernyms([[1,5],[2,3]], \"apple\", connect())\n",
    "generateHyponyms([[1,4],[2,2]], \"apple\", connect())\n",
    "generateSame(\"apple\", [[1,2],[-2,2]], connect())\n"
   ]
  },
  {
   "cell_type": "code",
   "execution_count": null,
   "metadata": {},
   "outputs": [],
   "source": [
    "neo4jupyter.draw(connect(), {\"Term\": \"name\"})"
   ]
  },
  {
   "cell_type": "code",
   "execution_count": null,
   "metadata": {},
   "outputs": [],
   "source": []
  },
  {
   "cell_type": "code",
   "execution_count": null,
   "metadata": {},
   "outputs": [],
   "source": []
  }
 ],
 "metadata": {
  "kernelspec": {
   "display_name": "Python 3",
   "language": "python",
   "name": "python3"
  },
  "language_info": {
   "codemirror_mode": {
    "name": "ipython",
    "version": 3
   },
   "file_extension": ".py",
   "mimetype": "text/x-python",
   "name": "python",
   "nbconvert_exporter": "python",
   "pygments_lexer": "ipython3",
   "version": "3.7.3"
  }
 },
 "nbformat": 4,
 "nbformat_minor": 4
}

