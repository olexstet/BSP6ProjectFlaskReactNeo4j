{
 "cells": [
  {
   "cell_type": "code",
   "execution_count": 1,
   "metadata": {},
   "outputs": [],
   "source": [
    "import sys\n",
    "sys.path.append('../flask-backend/')"
   ]
  },
  {
   "cell_type": "code",
   "execution_count": 2,
   "metadata": {},
   "outputs": [],
   "source": [
    "import neo4jupyter\n",
    "from graphCreation.graphSetups.commands import *"
   ]
  },
  {
   "cell_type": "code",
   "execution_count": 6,
   "metadata": {
    "scrolled": true
   },
   "outputs": [
    {
     "name": "stdout",
     "output_type": "stream",
     "text": [
      "{'apple': [Synset('rose_apple.n.02'), Synset('tangelo.n.02')]} {'apple': [Synset('edible_fruit.n.01'), Synset('pome.n.01')]}\n",
      "rose_apple edible_fruit\n",
      "tangelo edible_fruit\n",
      "{'edible_fruit': [Synset('achene.n.01'), Synset('rowanberry.n.01')], 'pome': [Synset('edible_fruit.n.01'), Synset('marasca.n.01')]} {'edible_fruit': [Synset('fruit.n.01'), Synset('produce.n.01')], 'pome': [Synset('fruit.n.01')]}\n",
      "achene fruit\n",
      "rowanberry fruit\n",
      "edible_fruit fruit\n",
      "marasca fruit\n",
      "{} {}\n"
     ]
    }
   ],
   "source": [
    "from graphCreation.graphCreate import generateGraph\n",
    "generateGraph(\"apple\",[[1,5],[2,5],[3,5],[4,5],[6,5],[7,5],[8,5]], [[1,5],[2,5],[3,5],[4,5],[5,5]], [[0,5],[1,5],[-2,5]])   # change same for 30 200 10 "
   ]
  },
  {
   "cell_type": "code",
   "execution_count": 4,
   "metadata": {
    "scrolled": false
   },
   "outputs": [
    {
     "data": {
      "application/javascript": [
       "var link = document.createElement(\"link\");\n",
       "\tlink.ref = \"stylesheet\";\n",
       "\tlink.type = \"text/css\";\n",
       "\tlink.href = \"https://cdnjs.cloudflare.com/ajax/libs/vis/4.8.2/vis.css\";\n",
       "\tdocument.head.appendChild(link);\n",
       "require.config({     paths: {         vis: '//cdnjs.cloudflare.com/ajax/libs/vis/4.8.2/vis.min'     } }); require(['vis'], function(vis) {  window.vis = vis; }); "
      ],
      "text/plain": [
       "<IPython.core.display.Javascript object>"
      ]
     },
     "metadata": {},
     "output_type": "display_data"
    },
    {
     "data": {
      "text/html": [
       "<div id=\"6ece5295-dee4-48ca-ba44-b8134733b1df\" style=\"height: 400px;\"></div>\n",
       "\n",
       "<script type=\"text/javascript\">\n",
       "\n",
       "    var nodes = [{\"id\": 995, \"label\": \"pome::Name\", \"group\": \"Term\", \"title\": \"(_995:Term {definition: 'a fleshy fruit (apple or pear or related fruits) having seed chambers and an outer fleshy part', label: 'pome::Name', name: 'pome', type: 'Name'})\"}, {\"id\": 1002, \"label\": \"ear::Name\", \"group\": \"Term\", \"title\": \"(_1002:Term {definition: 'the sense organ for hearing and equilibrium', label: 'ear::Name', name: 'ear', type: 'Name'})\"}, {\"id\": 1000, \"label\": \"aggregate_fruit::Name\", \"group\": \"Term\", \"title\": \"(_1000:Term {definition: 'fruit consisting of many individual small fruits or drupes derived from separate ovaries within a common receptacle: e.g. blackberry; raspberry; pineapple', label: 'aggregate_fruit::Name', name: 'aggregate_fruit', type: 'Name'})\"}, {\"id\": 996, \"label\": \"fruit::Name\", \"group\": \"Term\", \"title\": \"(_996:Term {definition: 'the ripened reproductive body of a seed plant', label: 'fruit::Name', name: 'fruit', type: 'Name'})\"}, {\"id\": 1008, \"label\": \"reproductive_structure::Name\", \"group\": \"Term\", \"title\": \"(_1008:Term {definition: 'the parts of a plant involved in its reproduction', label: 'reproductive_structure::Name', name: 'reproductive_structure', type: 'Name'})\"}, {\"id\": 1084, \"label\": \"marang::Name\", \"group\": \"Term\", \"title\": \"(_1084:Term {definition: 'Philippine tree similar to the breadfruit tree bearing edible fruit', label: 'marang::Name', name: 'marang', type: 'Name'})\"}, {\"id\": 962, \"label\": \"apple::Name\", \"group\": \"Term\", \"title\": \"(_962:Term {definition: 'fruit with red or yellow or green skin and sweet to tart crisp whitish flesh', label: 'apple::Name', name: 'apple', type: 'Name'})\"}, {\"id\": 963, \"label\": \"edible_fruit::Name\", \"group\": \"Term\", \"title\": \"(_963:Term {definition: 'edible reproductive body of a seed plant especially one having sweet flesh', label: 'edible_fruit::Name', name: 'edible_fruit', type: 'Name'})\"}, {\"id\": 1083, \"label\": \"grape::Name\", \"group\": \"Term\", \"title\": \"(_1083:Term {definition: 'any of various juicy fruit of the genus Vitis with green or purple skins; grow in clusters', label: 'grape::Name', name: 'grape', type: 'Name'})\"}, {\"id\": 1085, \"label\": \"seed::Name\", \"group\": \"Term\", \"title\": \"(_1085:Term {definition: 'a small hard fruit', label: 'seed::Name', name: 'seed', type: 'Name'})\"}, {\"id\": 1080, \"label\": \"cooking_apple::Name\", \"group\": \"Term\", \"title\": \"(_1080:Term {definition: 'an apple used primarily in cooking for pies and applesauce etc', label: 'cooking_apple::Name', name: 'cooking_apple', type: 'Name'})\"}, {\"id\": 1081, \"label\": \"crab_apple::Name\", \"group\": \"Term\", \"title\": \"(_1081:Term {definition: 'any of numerous varieties of crab apples cultivated for their small acidic (usually bright red) fruit used for preserves or as ornamentals for their blossoms', label: 'crab_apple::Name', name: 'crab_apple', type: 'Name'})\"}, {\"id\": 1116, \"label\": \"eater::Name\", \"group\": \"Term\", \"title\": \"(_1116:Term {definition: 'someone who consumes food for nourishment', label: 'eater::Name', name: 'eater', type: 'Name'})\"}, {\"id\": 997, \"label\": \"produce::Name\", \"group\": \"Term\", \"title\": \"(_997:Term {definition: 'fresh fruits and vegetable grown for the market', label: 'produce::Name', name: 'produce', type: 'Name'})\"}, {\"id\": 1082, \"label\": \"eating_apple::Name\", \"group\": \"Term\", \"title\": \"(_1082:Term {definition: 'an apple used primarily for eating raw without cooking', label: 'eating_apple::Name', name: 'eating_apple', type: 'Name'})\"}, {\"id\": 1079, \"label\": \"food::Name\", \"group\": \"Term\", \"title\": \"(_1079:Term {definition: 'any substance that can be metabolized by an animal to give energy and build tissue', label: 'food::Name', name: 'food', type: 'Name'})\"}];\n",
       "    var edges = [{\"from\": 995, \"to\": 1002, \"label\": \"SAME\"}, {\"from\": 995, \"to\": 1000, \"label\": \"SAME\"}, {\"from\": 995, \"to\": 996, \"label\": \"ISA\"}, {\"from\": 1084, \"to\": 962, \"label\": \"SAME\"}, {\"from\": 1084, \"to\": 963, \"label\": \"ISA\"}, {\"from\": 1083, \"to\": 962, \"label\": \"SAME\"}, {\"from\": 1083, \"to\": 963, \"label\": \"ISA\"}, {\"from\": 1085, \"to\": 963, \"label\": \"SAME\"}, {\"from\": 1085, \"to\": 996, \"label\": \"ISA\"}, {\"from\": 962, \"to\": 1084, \"label\": \"SAME\"}, {\"from\": 962, \"to\": 1083, \"label\": \"SAME\"}, {\"from\": 962, \"to\": 995, \"label\": \"ISA\"}, {\"from\": 962, \"to\": 963, \"label\": \"ISA\"}, {\"from\": 1080, \"to\": 962, \"label\": \"ISA\"}, {\"from\": 1081, \"to\": 962, \"label\": \"ISA\"}, {\"from\": 996, \"to\": 1008, \"label\": \"ISA\"}, {\"from\": 963, \"to\": 1116, \"label\": \"SAME\"}, {\"from\": 963, \"to\": 1085, \"label\": \"SAME\"}, {\"from\": 963, \"to\": 997, \"label\": \"ISA\"}, {\"from\": 963, \"to\": 996, \"label\": \"ISA\"}, {\"from\": 1082, \"to\": 962, \"label\": \"ISA\"}, {\"from\": 1002, \"to\": 995, \"label\": \"SAME\"}, {\"from\": 1002, \"to\": 996, \"label\": \"ISA\"}, {\"from\": 997, \"to\": 1079, \"label\": \"ISA\"}, {\"from\": 1000, \"to\": 995, \"label\": \"SAME\"}, {\"from\": 1000, \"to\": 996, \"label\": \"ISA\"}, {\"from\": 1116, \"to\": 963, \"label\": \"SAME\"}, {\"from\": 1116, \"to\": 997, \"label\": \"ISA\"}];\n",
       "\n",
       "    var container = document.getElementById(\"6ece5295-dee4-48ca-ba44-b8134733b1df\");\n",
       "\n",
       "    var data = {\n",
       "        nodes: nodes,\n",
       "        edges: edges\n",
       "    };\n",
       "\n",
       "    var options = {\n",
       "    nodes: {\n",
       "        shape: 'dot',\n",
       "        size: 25,\n",
       "        font: {\n",
       "            size: 14\n",
       "        }\n",
       "    },\n",
       "    edges: {\n",
       "        font: {\n",
       "            size: 14,\n",
       "            align: 'middle'\n",
       "        },\n",
       "        color: 'gray',\n",
       "        arrows: {\n",
       "            to: {\n",
       "                enabled: true,\n",
       "                scaleFactor: 0.5\n",
       "            }\n",
       "        },\n",
       "        smooth: {\n",
       "            enabled: false\n",
       "        }\n",
       "    },\n",
       "    physics: {\n",
       "        enabled: true\n",
       "        }\n",
       "    };\n",
       "\n",
       "    var network = new vis.Network(container, data, options);\n",
       "\n",
       "</script>\n"
      ],
      "text/plain": [
       "<IPython.core.display.HTML object>"
      ]
     },
     "execution_count": 4,
     "metadata": {},
     "output_type": "execute_result"
    }
   ],
   "source": [
    "import neo4jupyter\n",
    "neo4jupyter.init_notebook_mode()\n",
    "neo4jupyter.draw(connect(), {\"Term\": \"label\"})"
   ]
  },
  {
   "cell_type": "code",
   "execution_count": 5,
   "metadata": {},
   "outputs": [
    {
     "data": {
      "text/plain": [
       "{(0, 0): [Synset('apple.n.01')],\n",
       " (1, 5): [Synset('edible_fruit.n.01'), Synset('pome.n.01')],\n",
       " (5, 3): [Synset('plant_part.n.01'), Synset('matter.n.03')]}"
      ]
     },
     "execution_count": 5,
     "metadata": {},
     "output_type": "execute_result"
    }
   ],
   "source": [
    "from graphCreation.hypernymsCreation.generateHypernyms import *\n",
    "deleteAll(connect())\n",
    "generateHypernyms([[1,5],[5,3]], \"apple\", connect())"
   ]
  },
  {
   "cell_type": "code",
   "execution_count": 6,
   "metadata": {},
   "outputs": [
    {
     "data": {
      "text/html": [
       "<div id=\"f84ae734-8c9a-45f3-9cec-09a64d8f1833\" style=\"height: 400px;\"></div>\n",
       "\n",
       "<script type=\"text/javascript\">\n",
       "\n",
       "    var nodes = [{\"id\": 1088, \"label\": \"pome\", \"group\": \"Term\", \"title\": \"(_1088:Term {definition: 'a fleshy fruit (apple or pear or related fruits) having seed chambers and an outer fleshy part', label: 'pome::Name', name: 'pome', type: 'Name'})\"}, {\"id\": 1038, \"label\": \"apple\", \"group\": \"Term\", \"title\": \"(_1038:Term {definition: 'fruit with red or yellow or green skin and sweet to tart crisp whitish flesh', label: 'apple::Name', name: 'apple', type: 'Name'})\"}, {\"id\": 1087, \"label\": \"edible_fruit\", \"group\": \"Term\", \"title\": \"(_1087:Term {definition: 'edible reproductive body of a seed plant especially one having sweet flesh', label: 'edible_fruit::Name', name: 'edible_fruit', type: 'Name'})\"}, {\"id\": 1107, \"label\": \"matter\", \"group\": \"Term\", \"title\": \"(_1107:Term {definition: 'a vaguely specified concern', label: 'matter::Name', name: 'matter', type: 'Name'})\"}, {\"id\": 1105, \"label\": \"plant_part\", \"group\": \"Term\", \"title\": \"(_1105:Term {definition: 'any part of a plant or fungus', label: 'plant_part::Name', name: 'plant_part', type: 'Name'})\"}];\n",
       "    var edges = [{\"from\": 1038, \"to\": 1088, \"label\": \"ISA\"}, {\"from\": 1038, \"to\": 1087, \"label\": \"ISA\"}, {\"from\": 1087, \"to\": 1107, \"label\": \"ISA\"}, {\"from\": 1087, \"to\": 1105, \"label\": \"ISA\"}];\n",
       "\n",
       "    var container = document.getElementById(\"f84ae734-8c9a-45f3-9cec-09a64d8f1833\");\n",
       "\n",
       "    var data = {\n",
       "        nodes: nodes,\n",
       "        edges: edges\n",
       "    };\n",
       "\n",
       "    var options = {\n",
       "    nodes: {\n",
       "        shape: 'dot',\n",
       "        size: 25,\n",
       "        font: {\n",
       "            size: 14\n",
       "        }\n",
       "    },\n",
       "    edges: {\n",
       "        font: {\n",
       "            size: 14,\n",
       "            align: 'middle'\n",
       "        },\n",
       "        color: 'gray',\n",
       "        arrows: {\n",
       "            to: {\n",
       "                enabled: true,\n",
       "                scaleFactor: 0.5\n",
       "            }\n",
       "        },\n",
       "        smooth: {\n",
       "            enabled: false\n",
       "        }\n",
       "    },\n",
       "    physics: {\n",
       "        enabled: true\n",
       "        }\n",
       "    };\n",
       "\n",
       "    var network = new vis.Network(container, data, options);\n",
       "\n",
       "</script>\n"
      ],
      "text/plain": [
       "<IPython.core.display.HTML object>"
      ]
     },
     "execution_count": 6,
     "metadata": {},
     "output_type": "execute_result"
    }
   ],
   "source": [
    "neo4jupyter.draw(connect(), {\"Term\": \"name\"})"
   ]
  },
  {
   "cell_type": "code",
   "execution_count": 7,
   "metadata": {},
   "outputs": [
    {
     "data": {
      "text/plain": [
       "{(0, 0): [Synset('apple.n.01')],\n",
       " (1, 5): [Synset('cooking_apple.n.01'),\n",
       "  Synset('crab_apple.n.03'),\n",
       "  Synset('eating_apple.n.01')],\n",
       " (2, 3): [Synset('bramley's_seedling.n.01'),\n",
       "  Synset('lane's_prince_albert.n.01'),\n",
       "  Synset('newtown_wonder.n.01'),\n",
       "  Synset('baldwin.n.03'),\n",
       "  Synset('cortland.n.01'),\n",
       "  Synset('delicious.n.01')],\n",
       " (3, 5): [Synset('golden_delicious.n.01'), Synset('red_delicious.n.01')]}"
      ]
     },
     "execution_count": 7,
     "metadata": {},
     "output_type": "execute_result"
    }
   ],
   "source": [
    "from graphCreation.hyponymsCreation.generateHyponyms import *\n",
    "deleteAll(connect())\n",
    "generateHyponyms([[1,5],[2,3],[3,5]], \"apple\", connect())"
   ]
  },
  {
   "cell_type": "code",
   "execution_count": 8,
   "metadata": {},
   "outputs": [
    {
     "data": {
      "text/html": [
       "<div id=\"6607a2e8-0c3f-49d1-a867-b6828c34ec0a\" style=\"height: 400px;\"></div>\n",
       "\n",
       "<script type=\"text/javascript\">\n",
       "\n",
       "    var nodes = [{\"id\": 1111, \"label\": \"eating_apple\", \"group\": \"Term\", \"title\": \"(_1111:Term {definition: 'an apple used primarily for eating raw without cooking', label: 'eating_apple::Name', name: 'eating_apple', type: 'Name'})\"}, {\"id\": 1108, \"label\": \"apple\", \"group\": \"Term\", \"title\": \"(_1108:Term {definition: 'fruit with red or yellow or green skin and sweet to tart crisp whitish flesh', label: 'apple::Name', name: 'apple', type: 'Name'})\"}, {\"id\": 1004, \"label\": \"baldwin\", \"group\": \"Term\", \"title\": \"(_1004:Term {definition: 'United States author who was an outspoken critic of racism (1924-1987)', label: 'baldwin::Name', name: 'baldwin', type: 'Name'})\"}, {\"id\": 1016, \"label\": \"delicious\", \"group\": \"Term\", \"title\": \"(_1016:Term {definition: 'variety of sweet eating apples', label: 'delicious::Name', name: 'delicious', type: 'Name'})\"}, {\"id\": 1109, \"label\": \"cooking_apple\", \"group\": \"Term\", \"title\": \"(_1109:Term {definition: 'an apple used primarily in cooking for pies and applesauce etc', label: 'cooking_apple::Name', name: 'cooking_apple', type: 'Name'})\"}, {\"id\": 1015, \"label\": \"cortland\", \"group\": \"Term\", \"title\": \"(_1015:Term {definition: 'large apple with a red skin', label: 'cortland::Name', name: 'cortland', type: 'Name'})\"}, {\"id\": 964, \"label\": \"bramley's_seedling\", \"group\": \"Term\", \"title\": \"(_964:Term {definition: 'very large cooking apple', label: \\\"bramley's_seedling::Name\\\", name: \\\"bramley's_seedling\\\", type: 'Name'})\"}, {\"id\": 1018, \"label\": \"red_delicious\", \"group\": \"Term\", \"title\": \"(_1018:Term {definition: 'a sweet eating apple with bright red skin; most widely grown apple worldwide', label: 'red_delicious::Name', name: 'red_delicious', type: 'Name'})\"}, {\"id\": 966, \"label\": \"newtown_wonder\", \"group\": \"Term\", \"title\": \"(_966:Term {definition: 'apple used primarily in cooking', label: 'newtown_wonder::Name', name: 'newtown_wonder', type: 'Name'})\"}, {\"id\": 1017, \"label\": \"golden_delicious\", \"group\": \"Term\", \"title\": \"(_1017:Term {definition: 'a sweet eating apple with yellow skin', label: 'golden_delicious::Name', name: 'golden_delicious', type: 'Name'})\"}, {\"id\": 1110, \"label\": \"crab_apple\", \"group\": \"Term\", \"title\": \"(_1110:Term {definition: 'any of numerous varieties of crab apples cultivated for their small acidic (usually bright red) fruit used for preserves or as ornamentals for their blossoms', label: 'crab_apple::Name', name: 'crab_apple', type: 'Name'})\"}, {\"id\": 965, \"label\": \"lane's_prince_albert\", \"group\": \"Term\", \"title\": \"(_965:Term {definition: 'apple used primarily in cooking', label: \\\"lane's_prince_albert::Name\\\", name: \\\"lane's_prince_albert\\\", type: 'Name'})\"}];\n",
       "    var edges = [{\"from\": 1111, \"to\": 1108, \"label\": \"ISA\"}, {\"from\": 1004, \"to\": 1111, \"label\": \"ISA\"}, {\"from\": 1016, \"to\": 1111, \"label\": \"ISA\"}, {\"from\": 1109, \"to\": 1108, \"label\": \"ISA\"}, {\"from\": 1015, \"to\": 1111, \"label\": \"ISA\"}, {\"from\": 964, \"to\": 1109, \"label\": \"ISA\"}, {\"from\": 1018, \"to\": 1016, \"label\": \"ISA\"}, {\"from\": 966, \"to\": 1109, \"label\": \"ISA\"}, {\"from\": 1017, \"to\": 1016, \"label\": \"ISA\"}, {\"from\": 1110, \"to\": 1108, \"label\": \"ISA\"}, {\"from\": 965, \"to\": 1109, \"label\": \"ISA\"}];\n",
       "\n",
       "    var container = document.getElementById(\"6607a2e8-0c3f-49d1-a867-b6828c34ec0a\");\n",
       "\n",
       "    var data = {\n",
       "        nodes: nodes,\n",
       "        edges: edges\n",
       "    };\n",
       "\n",
       "    var options = {\n",
       "    nodes: {\n",
       "        shape: 'dot',\n",
       "        size: 25,\n",
       "        font: {\n",
       "            size: 14\n",
       "        }\n",
       "    },\n",
       "    edges: {\n",
       "        font: {\n",
       "            size: 14,\n",
       "            align: 'middle'\n",
       "        },\n",
       "        color: 'gray',\n",
       "        arrows: {\n",
       "            to: {\n",
       "                enabled: true,\n",
       "                scaleFactor: 0.5\n",
       "            }\n",
       "        },\n",
       "        smooth: {\n",
       "            enabled: false\n",
       "        }\n",
       "    },\n",
       "    physics: {\n",
       "        enabled: true\n",
       "        }\n",
       "    };\n",
       "\n",
       "    var network = new vis.Network(container, data, options);\n",
       "\n",
       "</script>\n"
      ],
      "text/plain": [
       "<IPython.core.display.HTML object>"
      ]
     },
     "execution_count": 8,
     "metadata": {},
     "output_type": "execute_result"
    }
   ],
   "source": [
    "neo4jupyter.draw(connect(), {\"Term\": \"name\"})"
   ]
  },
  {
   "cell_type": "code",
   "execution_count": 9,
   "metadata": {},
   "outputs": [
    {
     "name": "stdout",
     "output_type": "stream",
     "text": [
      "{'edible_fruit': [Synset('quandong.n.02'), Synset('buffalo_nut.n.01')], 'pome': [Synset('prairie_gourd.n.01'), Synset('seed.n.01')]} {'edible_fruit': [Synset('fruit.n.01'), Synset('produce.n.01')], 'pome': [Synset('fruit.n.01')]}\n",
      "quandong fruit\n",
      "buffalo_nut fruit\n",
      "prairie_gourd fruit\n",
      "seed fruit\n",
      "{\"bramley's_seedling\": [Synset('lane's_prince_albert.n.01'), Synset('newtown_wonder.n.01')], \"lane's_prince_albert\": [Synset('rome_beauty.n.01'), Synset('bramley's_seedling.n.01')], 'newtown_wonder': [Synset('lane's_prince_albert.n.01'), Synset('rome_beauty.n.01')], 'cortland': [Synset('grimes'_golden.n.01'), Synset('stayman_winesap.n.01')], 'delicious': [Synset('jonathan.n.01'), Synset('prima.n.01')]} {\"bramley's_seedling\": [Synset('cooking_apple.n.01')], \"lane's_prince_albert\": [Synset('cooking_apple.n.01')], 'newtown_wonder': [Synset('cooking_apple.n.01')], 'baldwin': [], 'cortland': [Synset('eating_apple.n.01')], 'delicious': [Synset('eating_apple.n.01')]}\n"
     ]
    },
    {
     "ename": "ClientError",
     "evalue": "SyntaxError: Invalid input '_': expected 't/T' (line 1, column 30 (offset: 29))\r\n\"MATCH (t1:Term {name:'lane's_prince_albert'}), (t2:Term {name:'cooking_apple'}) \"\r\n                              ^",
     "output_type": "error",
     "traceback": [
      "\u001b[1;31m---------------------------------------------------------------------------\u001b[0m",
      "\u001b[1;31mClientError\u001b[0m                               Traceback (most recent call last)",
      "\u001b[1;32m<ipython-input-9-cf3a3b0be924>\u001b[0m in \u001b[0;36m<module>\u001b[1;34m\u001b[0m\n\u001b[0;32m      3\u001b[0m \u001b[0mgenerateHypernyms\u001b[0m\u001b[1;33m(\u001b[0m\u001b[1;33m[\u001b[0m\u001b[1;33m[\u001b[0m\u001b[1;36m1\u001b[0m\u001b[1;33m,\u001b[0m\u001b[1;36m5\u001b[0m\u001b[1;33m]\u001b[0m\u001b[1;33m,\u001b[0m\u001b[1;33m[\u001b[0m\u001b[1;36m2\u001b[0m\u001b[1;33m,\u001b[0m\u001b[1;36m3\u001b[0m\u001b[1;33m]\u001b[0m\u001b[1;33m]\u001b[0m\u001b[1;33m,\u001b[0m \u001b[1;34m\"apple\"\u001b[0m\u001b[1;33m,\u001b[0m \u001b[0mconnect\u001b[0m\u001b[1;33m(\u001b[0m\u001b[1;33m)\u001b[0m\u001b[1;33m)\u001b[0m\u001b[1;33m\u001b[0m\u001b[1;33m\u001b[0m\u001b[0m\n\u001b[0;32m      4\u001b[0m \u001b[0mgenerateHyponyms\u001b[0m\u001b[1;33m(\u001b[0m\u001b[1;33m[\u001b[0m\u001b[1;33m[\u001b[0m\u001b[1;36m1\u001b[0m\u001b[1;33m,\u001b[0m\u001b[1;36m5\u001b[0m\u001b[1;33m]\u001b[0m\u001b[1;33m,\u001b[0m\u001b[1;33m[\u001b[0m\u001b[1;36m2\u001b[0m\u001b[1;33m,\u001b[0m\u001b[1;36m3\u001b[0m\u001b[1;33m]\u001b[0m\u001b[1;33m]\u001b[0m\u001b[1;33m,\u001b[0m \u001b[1;34m\"apple\"\u001b[0m\u001b[1;33m,\u001b[0m \u001b[0mconnect\u001b[0m\u001b[1;33m(\u001b[0m\u001b[1;33m)\u001b[0m\u001b[1;33m)\u001b[0m\u001b[1;33m\u001b[0m\u001b[1;33m\u001b[0m\u001b[0m\n\u001b[1;32m----> 5\u001b[1;33m \u001b[0mgenerateSame\u001b[0m\u001b[1;33m(\u001b[0m\u001b[1;34m\"apple\"\u001b[0m\u001b[1;33m,\u001b[0m \u001b[1;33m[\u001b[0m\u001b[1;33m[\u001b[0m\u001b[1;36m1\u001b[0m\u001b[1;33m,\u001b[0m\u001b[1;36m2\u001b[0m\u001b[1;33m]\u001b[0m\u001b[1;33m,\u001b[0m\u001b[1;33m[\u001b[0m\u001b[1;33m-\u001b[0m\u001b[1;36m2\u001b[0m\u001b[1;33m,\u001b[0m\u001b[1;36m2\u001b[0m\u001b[1;33m]\u001b[0m\u001b[1;33m]\u001b[0m\u001b[1;33m,\u001b[0m \u001b[0mconnect\u001b[0m\u001b[1;33m(\u001b[0m\u001b[1;33m)\u001b[0m\u001b[1;33m)\u001b[0m\u001b[1;33m\u001b[0m\u001b[1;33m\u001b[0m\u001b[0m\n\u001b[0m",
      "\u001b[1;32m~\\Desktop\\BSP6ProjectFlaskReactNeo4j\\flask-backend\\graphCreation\\sameCreation\\generateSame.py\u001b[0m in \u001b[0;36mgenerateSame\u001b[1;34m(word, sequence, graph)\u001b[0m\n\u001b[0;32m    107\u001b[0m             \u001b[0mhyper\u001b[0m\u001b[1;33m[\u001b[0m\u001b[0mw2\u001b[0m\u001b[1;33m[\u001b[0m\u001b[1;36m0\u001b[0m\u001b[1;33m]\u001b[0m\u001b[1;33m]\u001b[0m \u001b[1;33m=\u001b[0m \u001b[0mallHypernyms\u001b[0m\u001b[1;33m[\u001b[0m\u001b[0mw\u001b[0m\u001b[1;33m]\u001b[0m\u001b[1;33m\u001b[0m\u001b[1;33m\u001b[0m\u001b[0m\n\u001b[0;32m    108\u001b[0m         \u001b[0mprint\u001b[0m\u001b[1;33m(\u001b[0m\u001b[0mresult\u001b[0m\u001b[1;33m,\u001b[0m \u001b[0mhyper\u001b[0m\u001b[1;33m)\u001b[0m\u001b[1;33m\u001b[0m\u001b[1;33m\u001b[0m\u001b[0m\n\u001b[1;32m--> 109\u001b[1;33m         \u001b[0mcreateISARelation\u001b[0m\u001b[1;33m(\u001b[0m\u001b[0mresult\u001b[0m\u001b[1;33m,\u001b[0m \u001b[0mhyper\u001b[0m\u001b[1;33m,\u001b[0m \u001b[0mgraph\u001b[0m\u001b[1;33m)\u001b[0m\u001b[1;33m\u001b[0m\u001b[1;33m\u001b[0m\u001b[0m\n\u001b[0m\u001b[0;32m    110\u001b[0m         \u001b[0mcreateSameRelation\u001b[0m\u001b[1;33m(\u001b[0m\u001b[0mresult\u001b[0m\u001b[1;33m,\u001b[0m \u001b[0mgraph\u001b[0m\u001b[1;33m)\u001b[0m\u001b[1;33m\u001b[0m\u001b[1;33m\u001b[0m\u001b[0m\n\u001b[0;32m    111\u001b[0m \u001b[1;33m\u001b[0m\u001b[0m\n",
      "\u001b[1;32m~\\Desktop\\BSP6ProjectFlaskReactNeo4j\\flask-backend\\graphCreation\\sameCreation\\generateSame.py\u001b[0m in \u001b[0;36mcreateISARelation\u001b[1;34m(wordsSame, hypernyms, graph)\u001b[0m\n\u001b[0;32m     37\u001b[0m                     query = \"\"\" MATCH (t1:Term {name:'\"\"\" + convertHypernymsToString([sameWord])[0] + \"\"\"'}), (t2:Term {name:'\"\"\"+ convertHypernymsToString([isaWord])[0]+\"\"\"'}) \n\u001b[0;32m     38\u001b[0m                             MERGE (t1)-[:ISA]->(t2)\"\"\"\n\u001b[1;32m---> 39\u001b[1;33m                     \u001b[0mgraph\u001b[0m\u001b[1;33m.\u001b[0m\u001b[0mrun\u001b[0m\u001b[1;33m(\u001b[0m\u001b[0mquery\u001b[0m\u001b[1;33m)\u001b[0m\u001b[1;33m\u001b[0m\u001b[1;33m\u001b[0m\u001b[0m\n\u001b[0m\u001b[0;32m     40\u001b[0m                     \u001b[0mprint\u001b[0m\u001b[1;33m(\u001b[0m\u001b[0mconvertHypernymsToString\u001b[0m\u001b[1;33m(\u001b[0m\u001b[1;33m[\u001b[0m\u001b[0msameWord\u001b[0m\u001b[1;33m]\u001b[0m\u001b[1;33m)\u001b[0m\u001b[1;33m[\u001b[0m\u001b[1;36m0\u001b[0m\u001b[1;33m]\u001b[0m \u001b[1;33m,\u001b[0m \u001b[0mconvertHypernymsToString\u001b[0m\u001b[1;33m(\u001b[0m\u001b[1;33m[\u001b[0m\u001b[0misaWord\u001b[0m\u001b[1;33m]\u001b[0m\u001b[1;33m)\u001b[0m\u001b[1;33m[\u001b[0m\u001b[1;36m0\u001b[0m\u001b[1;33m]\u001b[0m\u001b[1;33m)\u001b[0m\u001b[1;33m\u001b[0m\u001b[1;33m\u001b[0m\u001b[0m\n\u001b[0;32m     41\u001b[0m \u001b[1;33m\u001b[0m\u001b[0m\n",
      "\u001b[1;32m~\\Anaconda3\\lib\\site-packages\\py2neo\\database.py\u001b[0m in \u001b[0;36mrun\u001b[1;34m(self, cypher, parameters, **kwparameters)\u001b[0m\n\u001b[0;32m    524\u001b[0m         \u001b[1;33m:\u001b[0m\u001b[1;32mreturn\u001b[0m\u001b[1;33m:\u001b[0m\u001b[1;33m\u001b[0m\u001b[1;33m\u001b[0m\u001b[0m\n\u001b[0;32m    525\u001b[0m         \"\"\"\n\u001b[1;32m--> 526\u001b[1;33m         \u001b[1;32mreturn\u001b[0m \u001b[0mself\u001b[0m\u001b[1;33m.\u001b[0m\u001b[0mbegin\u001b[0m\u001b[1;33m(\u001b[0m\u001b[0mautocommit\u001b[0m\u001b[1;33m=\u001b[0m\u001b[1;32mTrue\u001b[0m\u001b[1;33m)\u001b[0m\u001b[1;33m.\u001b[0m\u001b[0mrun\u001b[0m\u001b[1;33m(\u001b[0m\u001b[0mcypher\u001b[0m\u001b[1;33m,\u001b[0m \u001b[0mparameters\u001b[0m\u001b[1;33m,\u001b[0m \u001b[1;33m**\u001b[0m\u001b[0mkwparameters\u001b[0m\u001b[1;33m)\u001b[0m\u001b[1;33m\u001b[0m\u001b[1;33m\u001b[0m\u001b[0m\n\u001b[0m\u001b[0;32m    527\u001b[0m \u001b[1;33m\u001b[0m\u001b[0m\n\u001b[0;32m    528\u001b[0m     \u001b[1;32mdef\u001b[0m \u001b[0mseparate\u001b[0m\u001b[1;33m(\u001b[0m\u001b[0mself\u001b[0m\u001b[1;33m,\u001b[0m \u001b[0msubgraph\u001b[0m\u001b[1;33m)\u001b[0m\u001b[1;33m:\u001b[0m\u001b[1;33m\u001b[0m\u001b[1;33m\u001b[0m\u001b[0m\n",
      "\u001b[1;32m~\\Anaconda3\\lib\\site-packages\\py2neo\\database.py\u001b[0m in \u001b[0;36mrun\u001b[1;34m(self, cypher, parameters, **kwparameters)\u001b[0m\n\u001b[0;32m    803\u001b[0m                                              \u001b[0mgraph\u001b[0m\u001b[1;33m=\u001b[0m\u001b[0mself\u001b[0m\u001b[1;33m.\u001b[0m\u001b[0mgraph\u001b[0m\u001b[1;33m,\u001b[0m\u001b[1;33m\u001b[0m\u001b[1;33m\u001b[0m\u001b[0m\n\u001b[0;32m    804\u001b[0m                                              \u001b[0mkeys\u001b[0m\u001b[1;33m=\u001b[0m\u001b[1;33m[\u001b[0m\u001b[1;33m]\u001b[0m\u001b[1;33m,\u001b[0m\u001b[1;33m\u001b[0m\u001b[1;33m\u001b[0m\u001b[0m\n\u001b[1;32m--> 805\u001b[1;33m                                              entities=entities))\n\u001b[0m\u001b[0;32m    806\u001b[0m         \u001b[1;32mexcept\u001b[0m \u001b[0mCypherError\u001b[0m \u001b[1;32mas\u001b[0m \u001b[0merror\u001b[0m\u001b[1;33m:\u001b[0m\u001b[1;33m\u001b[0m\u001b[1;33m\u001b[0m\u001b[0m\n\u001b[0;32m    807\u001b[0m             \u001b[1;32mraise\u001b[0m \u001b[0mGraphError\u001b[0m\u001b[1;33m.\u001b[0m\u001b[0mhydrate\u001b[0m\u001b[1;33m(\u001b[0m\u001b[1;33m{\u001b[0m\u001b[1;34m\"code\"\u001b[0m\u001b[1;33m:\u001b[0m \u001b[0merror\u001b[0m\u001b[1;33m.\u001b[0m\u001b[0mcode\u001b[0m\u001b[1;33m,\u001b[0m \u001b[1;34m\"message\"\u001b[0m\u001b[1;33m:\u001b[0m \u001b[0merror\u001b[0m\u001b[1;33m.\u001b[0m\u001b[0mmessage\u001b[0m\u001b[1;33m}\u001b[0m\u001b[1;33m)\u001b[0m\u001b[1;33m\u001b[0m\u001b[1;33m\u001b[0m\u001b[0m\n",
      "\u001b[1;32m~\\Anaconda3\\lib\\site-packages\\py2neo\\internal\\connectors.py\u001b[0m in \u001b[0;36mrun\u001b[1;34m(self, statement, parameters, tx, graph, keys, entities)\u001b[0m\n\u001b[0;32m    283\u001b[0m     \u001b[1;32mdef\u001b[0m \u001b[0mrun\u001b[0m\u001b[1;33m(\u001b[0m\u001b[0mself\u001b[0m\u001b[1;33m,\u001b[0m \u001b[0mstatement\u001b[0m\u001b[1;33m,\u001b[0m \u001b[0mparameters\u001b[0m\u001b[1;33m=\u001b[0m\u001b[1;32mNone\u001b[0m\u001b[1;33m,\u001b[0m \u001b[0mtx\u001b[0m\u001b[1;33m=\u001b[0m\u001b[1;32mNone\u001b[0m\u001b[1;33m,\u001b[0m \u001b[0mgraph\u001b[0m\u001b[1;33m=\u001b[0m\u001b[1;32mNone\u001b[0m\u001b[1;33m,\u001b[0m \u001b[0mkeys\u001b[0m\u001b[1;33m=\u001b[0m\u001b[1;32mNone\u001b[0m\u001b[1;33m,\u001b[0m \u001b[0mentities\u001b[0m\u001b[1;33m=\u001b[0m\u001b[1;32mNone\u001b[0m\u001b[1;33m)\u001b[0m\u001b[1;33m:\u001b[0m\u001b[1;33m\u001b[0m\u001b[1;33m\u001b[0m\u001b[0m\n\u001b[0;32m    284\u001b[0m         \u001b[1;32mif\u001b[0m \u001b[0mtx\u001b[0m \u001b[1;32mis\u001b[0m \u001b[1;32mNone\u001b[0m\u001b[1;33m:\u001b[0m\u001b[1;33m\u001b[0m\u001b[1;33m\u001b[0m\u001b[0m\n\u001b[1;32m--> 285\u001b[1;33m             \u001b[1;32mreturn\u001b[0m \u001b[0mself\u001b[0m\u001b[1;33m.\u001b[0m\u001b[0m_run_1\u001b[0m\u001b[1;33m(\u001b[0m\u001b[0mstatement\u001b[0m\u001b[1;33m,\u001b[0m \u001b[0mparameters\u001b[0m\u001b[1;33m,\u001b[0m \u001b[0mgraph\u001b[0m\u001b[1;33m,\u001b[0m \u001b[0mkeys\u001b[0m\u001b[1;33m,\u001b[0m \u001b[0mentities\u001b[0m\u001b[1;33m)\u001b[0m\u001b[1;33m\u001b[0m\u001b[1;33m\u001b[0m\u001b[0m\n\u001b[0m\u001b[0;32m    286\u001b[0m         \u001b[1;32melse\u001b[0m\u001b[1;33m:\u001b[0m\u001b[1;33m\u001b[0m\u001b[1;33m\u001b[0m\u001b[0m\n\u001b[0;32m    287\u001b[0m             \u001b[1;32mreturn\u001b[0m \u001b[0mself\u001b[0m\u001b[1;33m.\u001b[0m\u001b[0m_run_in_tx\u001b[0m\u001b[1;33m(\u001b[0m\u001b[0mstatement\u001b[0m\u001b[1;33m,\u001b[0m \u001b[0mparameters\u001b[0m\u001b[1;33m,\u001b[0m \u001b[0mtx\u001b[0m\u001b[1;33m,\u001b[0m \u001b[0mgraph\u001b[0m\u001b[1;33m,\u001b[0m \u001b[0mkeys\u001b[0m\u001b[1;33m,\u001b[0m \u001b[0mentities\u001b[0m\u001b[1;33m)\u001b[0m\u001b[1;33m\u001b[0m\u001b[1;33m\u001b[0m\u001b[0m\n",
      "\u001b[1;32m~\\Anaconda3\\lib\\site-packages\\py2neo\\internal\\connectors.py\u001b[0m in \u001b[0;36m_run_1\u001b[1;34m(self, statement, parameters, graph, keys, entities)\u001b[0m\n\u001b[0;32m    246\u001b[0m                     on_success=result.update_metadata, on_failure=self._fail, on_summary=result.done)\n\u001b[0;32m    247\u001b[0m         \u001b[0mcx\u001b[0m\u001b[1;33m.\u001b[0m\u001b[0msend\u001b[0m\u001b[1;33m(\u001b[0m\u001b[1;33m)\u001b[0m\u001b[1;33m\u001b[0m\u001b[1;33m\u001b[0m\u001b[0m\n\u001b[1;32m--> 248\u001b[1;33m         \u001b[0mcx\u001b[0m\u001b[1;33m.\u001b[0m\u001b[0mfetch\u001b[0m\u001b[1;33m(\u001b[0m\u001b[1;33m)\u001b[0m\u001b[1;33m\u001b[0m\u001b[1;33m\u001b[0m\u001b[0m\n\u001b[0m\u001b[0;32m    249\u001b[0m         \u001b[1;32mreturn\u001b[0m \u001b[0mresult\u001b[0m\u001b[1;33m\u001b[0m\u001b[1;33m\u001b[0m\u001b[0m\n\u001b[0;32m    250\u001b[0m \u001b[1;33m\u001b[0m\u001b[0m\n",
      "\u001b[1;32m~\\Anaconda3\\lib\\site-packages\\neobolt\\direct.py\u001b[0m in \u001b[0;36mfetch\u001b[1;34m(self)\u001b[0m\n\u001b[0;32m    417\u001b[0m     \u001b[1;32mdef\u001b[0m \u001b[0mfetch\u001b[0m\u001b[1;33m(\u001b[0m\u001b[0mself\u001b[0m\u001b[1;33m)\u001b[0m\u001b[1;33m:\u001b[0m\u001b[1;33m\u001b[0m\u001b[1;33m\u001b[0m\u001b[0m\n\u001b[0;32m    418\u001b[0m         \u001b[1;32mtry\u001b[0m\u001b[1;33m:\u001b[0m\u001b[1;33m\u001b[0m\u001b[1;33m\u001b[0m\u001b[0m\n\u001b[1;32m--> 419\u001b[1;33m             \u001b[1;32mreturn\u001b[0m \u001b[0mself\u001b[0m\u001b[1;33m.\u001b[0m\u001b[0m_fetch\u001b[0m\u001b[1;33m(\u001b[0m\u001b[1;33m)\u001b[0m\u001b[1;33m\u001b[0m\u001b[1;33m\u001b[0m\u001b[0m\n\u001b[0m\u001b[0;32m    420\u001b[0m         \u001b[1;32mexcept\u001b[0m \u001b[0mself\u001b[0m\u001b[1;33m.\u001b[0m\u001b[0merror_handler\u001b[0m\u001b[1;33m.\u001b[0m\u001b[0mknown_errors\u001b[0m \u001b[1;32mas\u001b[0m \u001b[0merror\u001b[0m\u001b[1;33m:\u001b[0m\u001b[1;33m\u001b[0m\u001b[1;33m\u001b[0m\u001b[0m\n\u001b[0;32m    421\u001b[0m             \u001b[0mself\u001b[0m\u001b[1;33m.\u001b[0m\u001b[0merror_handler\u001b[0m\u001b[1;33m.\u001b[0m\u001b[0mhandle\u001b[0m\u001b[1;33m(\u001b[0m\u001b[0merror\u001b[0m\u001b[1;33m,\u001b[0m \u001b[0mself\u001b[0m\u001b[1;33m.\u001b[0m\u001b[0munresolved_address\u001b[0m\u001b[1;33m)\u001b[0m\u001b[1;33m\u001b[0m\u001b[1;33m\u001b[0m\u001b[0m\n",
      "\u001b[1;32m~\\Anaconda3\\lib\\site-packages\\neobolt\\direct.py\u001b[0m in \u001b[0;36m_fetch\u001b[1;34m(self)\u001b[0m\n\u001b[0;32m    459\u001b[0m         \u001b[1;32melif\u001b[0m \u001b[0msummary_signature\u001b[0m \u001b[1;33m==\u001b[0m \u001b[1;34mb\"\\x7F\"\u001b[0m\u001b[1;33m:\u001b[0m\u001b[1;33m\u001b[0m\u001b[1;33m\u001b[0m\u001b[0m\n\u001b[0;32m    460\u001b[0m             \u001b[0mlog_debug\u001b[0m\u001b[1;33m(\u001b[0m\u001b[1;34m\"[#%04X]  S: FAILURE %r\"\u001b[0m\u001b[1;33m,\u001b[0m \u001b[0mself\u001b[0m\u001b[1;33m.\u001b[0m\u001b[0mlocal_port\u001b[0m\u001b[1;33m,\u001b[0m \u001b[0msummary_metadata\u001b[0m\u001b[1;33m)\u001b[0m\u001b[1;33m\u001b[0m\u001b[1;33m\u001b[0m\u001b[0m\n\u001b[1;32m--> 461\u001b[1;33m             \u001b[0mresponse\u001b[0m\u001b[1;33m.\u001b[0m\u001b[0mon_failure\u001b[0m\u001b[1;33m(\u001b[0m\u001b[0msummary_metadata\u001b[0m \u001b[1;32mor\u001b[0m \u001b[1;33m{\u001b[0m\u001b[1;33m}\u001b[0m\u001b[1;33m)\u001b[0m\u001b[1;33m\u001b[0m\u001b[1;33m\u001b[0m\u001b[0m\n\u001b[0m\u001b[0;32m    462\u001b[0m         \u001b[1;32melse\u001b[0m\u001b[1;33m:\u001b[0m\u001b[1;33m\u001b[0m\u001b[1;33m\u001b[0m\u001b[0m\n\u001b[0;32m    463\u001b[0m             \u001b[1;32mraise\u001b[0m \u001b[0mProtocolError\u001b[0m\u001b[1;33m(\u001b[0m\u001b[1;34m\"Unexpected response message with signature %02X\"\u001b[0m \u001b[1;33m%\u001b[0m \u001b[0msummary_signature\u001b[0m\u001b[1;33m)\u001b[0m\u001b[1;33m\u001b[0m\u001b[1;33m\u001b[0m\u001b[0m\n",
      "\u001b[1;32m~\\Anaconda3\\lib\\site-packages\\neobolt\\direct.py\u001b[0m in \u001b[0;36mon_failure\u001b[1;34m(self, metadata)\u001b[0m\n\u001b[0;32m    749\u001b[0m         \u001b[0mhandler\u001b[0m \u001b[1;33m=\u001b[0m \u001b[0mself\u001b[0m\u001b[1;33m.\u001b[0m\u001b[0mhandlers\u001b[0m\u001b[1;33m.\u001b[0m\u001b[0mget\u001b[0m\u001b[1;33m(\u001b[0m\u001b[1;34m\"on_failure\"\u001b[0m\u001b[1;33m)\u001b[0m\u001b[1;33m\u001b[0m\u001b[1;33m\u001b[0m\u001b[0m\n\u001b[0;32m    750\u001b[0m         \u001b[1;32mif\u001b[0m \u001b[0mcallable\u001b[0m\u001b[1;33m(\u001b[0m\u001b[0mhandler\u001b[0m\u001b[1;33m)\u001b[0m\u001b[1;33m:\u001b[0m\u001b[1;33m\u001b[0m\u001b[1;33m\u001b[0m\u001b[0m\n\u001b[1;32m--> 751\u001b[1;33m             \u001b[0mhandler\u001b[0m\u001b[1;33m(\u001b[0m\u001b[0mmetadata\u001b[0m\u001b[1;33m)\u001b[0m\u001b[1;33m\u001b[0m\u001b[1;33m\u001b[0m\u001b[0m\n\u001b[0m\u001b[0;32m    752\u001b[0m         \u001b[0mhandler\u001b[0m \u001b[1;33m=\u001b[0m \u001b[0mself\u001b[0m\u001b[1;33m.\u001b[0m\u001b[0mhandlers\u001b[0m\u001b[1;33m.\u001b[0m\u001b[0mget\u001b[0m\u001b[1;33m(\u001b[0m\u001b[1;34m\"on_summary\"\u001b[0m\u001b[1;33m)\u001b[0m\u001b[1;33m\u001b[0m\u001b[1;33m\u001b[0m\u001b[0m\n\u001b[0;32m    753\u001b[0m         \u001b[1;32mif\u001b[0m \u001b[0mcallable\u001b[0m\u001b[1;33m(\u001b[0m\u001b[0mhandler\u001b[0m\u001b[1;33m)\u001b[0m\u001b[1;33m:\u001b[0m\u001b[1;33m\u001b[0m\u001b[1;33m\u001b[0m\u001b[0m\n",
      "\u001b[1;32m~\\Anaconda3\\lib\\site-packages\\py2neo\\internal\\connectors.py\u001b[0m in \u001b[0;36m_fail\u001b[1;34m(cls, metadata)\u001b[0m\n\u001b[0;32m    279\u001b[0m     \u001b[1;32mdef\u001b[0m \u001b[0m_fail\u001b[0m\u001b[1;33m(\u001b[0m\u001b[0mcls\u001b[0m\u001b[1;33m,\u001b[0m \u001b[0mmetadata\u001b[0m\u001b[1;33m)\u001b[0m\u001b[1;33m:\u001b[0m\u001b[1;33m\u001b[0m\u001b[1;33m\u001b[0m\u001b[0m\n\u001b[0;32m    280\u001b[0m         \u001b[1;32mfrom\u001b[0m \u001b[0mpy2neo\u001b[0m\u001b[1;33m.\u001b[0m\u001b[0mdatabase\u001b[0m \u001b[1;32mimport\u001b[0m \u001b[0mGraphError\u001b[0m\u001b[1;33m\u001b[0m\u001b[1;33m\u001b[0m\u001b[0m\n\u001b[1;32m--> 281\u001b[1;33m         \u001b[1;32mraise\u001b[0m \u001b[0mGraphError\u001b[0m\u001b[1;33m.\u001b[0m\u001b[0mhydrate\u001b[0m\u001b[1;33m(\u001b[0m\u001b[0mmetadata\u001b[0m\u001b[1;33m)\u001b[0m\u001b[1;33m\u001b[0m\u001b[1;33m\u001b[0m\u001b[0m\n\u001b[0m\u001b[0;32m    282\u001b[0m \u001b[1;33m\u001b[0m\u001b[0m\n\u001b[0;32m    283\u001b[0m     \u001b[1;32mdef\u001b[0m \u001b[0mrun\u001b[0m\u001b[1;33m(\u001b[0m\u001b[0mself\u001b[0m\u001b[1;33m,\u001b[0m \u001b[0mstatement\u001b[0m\u001b[1;33m,\u001b[0m \u001b[0mparameters\u001b[0m\u001b[1;33m=\u001b[0m\u001b[1;32mNone\u001b[0m\u001b[1;33m,\u001b[0m \u001b[0mtx\u001b[0m\u001b[1;33m=\u001b[0m\u001b[1;32mNone\u001b[0m\u001b[1;33m,\u001b[0m \u001b[0mgraph\u001b[0m\u001b[1;33m=\u001b[0m\u001b[1;32mNone\u001b[0m\u001b[1;33m,\u001b[0m \u001b[0mkeys\u001b[0m\u001b[1;33m=\u001b[0m\u001b[1;32mNone\u001b[0m\u001b[1;33m,\u001b[0m \u001b[0mentities\u001b[0m\u001b[1;33m=\u001b[0m\u001b[1;32mNone\u001b[0m\u001b[1;33m)\u001b[0m\u001b[1;33m:\u001b[0m\u001b[1;33m\u001b[0m\u001b[1;33m\u001b[0m\u001b[0m\n",
      "\u001b[1;31mClientError\u001b[0m: SyntaxError: Invalid input '_': expected 't/T' (line 1, column 30 (offset: 29))\r\n\"MATCH (t1:Term {name:'lane's_prince_albert'}), (t2:Term {name:'cooking_apple'}) \"\r\n                              ^"
     ]
    }
   ],
   "source": [
    "from graphCreation.sameCreation.generateSame import *\n",
    "deleteAll(connect())\n",
    "generateHypernyms([[1,5],[2,3]], \"apple\", connect())\n",
    "generateHyponyms([[1,5],[2,3]], \"apple\", connect())\n",
    "generateSame(\"apple\", [[1,2],[-2,2]], connect())\n"
   ]
  },
  {
   "cell_type": "code",
   "execution_count": null,
   "metadata": {},
   "outputs": [],
   "source": [
    "neo4jupyter.draw(connect(), {\"Term\": \"name\"})"
   ]
  },
  {
   "cell_type": "code",
   "execution_count": null,
   "metadata": {},
   "outputs": [],
   "source": []
  },
  {
   "cell_type": "code",
   "execution_count": null,
   "metadata": {},
   "outputs": [],
   "source": []
  }
 ],
 "metadata": {
  "kernelspec": {
   "display_name": "Python 3",
   "language": "python",
   "name": "python3"
  },
  "language_info": {
   "codemirror_mode": {
    "name": "ipython",
    "version": 3
   },
   "file_extension": ".py",
   "mimetype": "text/x-python",
   "name": "python",
   "nbconvert_exporter": "python",
   "pygments_lexer": "ipython3",
   "version": "3.7.3"
  }
 },
 "nbformat": 4,
 "nbformat_minor": 4
}
