{
 "cells": [
  {
   "cell_type": "code",
   "execution_count": 1,
   "metadata": {},
   "outputs": [],
   "source": [
    "import sys\n",
    "sys.path.append('../flask-backend/')"
   ]
  },
  {
   "cell_type": "code",
   "execution_count": 2,
   "metadata": {},
   "outputs": [],
   "source": [
    "import neo4jupyter\n",
    "from graphCreation.graphSetups.commands import *"
   ]
  },
  {
   "cell_type": "code",
   "execution_count": 3,
   "metadata": {
    "scrolled": false
   },
   "outputs": [
    {
     "name": "stdout",
     "output_type": "stream",
     "text": [
      "Synset('apple.n.01') [Synset('edible_fruit.n.01'), Synset('pome.n.01')]\n",
      "Synset('edible_fruit.n.01') [Synset('fruit.n.01'), Synset('produce.n.01')]\n",
      "Synset('pome.n.01') [Synset('fruit.n.01')]\n",
      "Synset('fruit.n.01') [Synset('reproductive_structure.n.01')]\n",
      "Synset('produce.n.01') [Synset('food.n.02')]\n",
      "[[Synset('apple.n.01'), Synset('edible_fruit.n.01'), Synset('fruit.n.01')], [Synset('apple.n.01'), Synset('pome.n.01'), Synset('fruit.n.01')], [Synset('apple.n.01'), Synset('edible_fruit.n.01'), Synset('produce.n.01')]]\n",
      "\n",
      "Relations hypernyms\n",
      "Synset('apple.n.01') Synset('edible_fruit.n.01')\n",
      "Synset('edible_fruit.n.01') Synset('fruit.n.01')\n",
      "Synset('apple.n.01') Synset('pome.n.01')\n",
      "Synset('pome.n.01') Synset('fruit.n.01')\n",
      "Synset('edible_fruit.n.01') Synset('produce.n.01')\n",
      "--------------------------------------------------------------\n",
      "Synset('apple.n.01') [Synset('cooking_apple.n.01'), Synset('crab_apple.n.03'), Synset('eating_apple.n.01')]\n",
      "Synset('cooking_apple.n.01') [Synset('bramley's_seedling.n.01'), Synset('lane's_prince_albert.n.01'), Synset('newtown_wonder.n.01'), Synset('rome_beauty.n.01')]\n",
      "Synset('crab_apple.n.03') []\n",
      "Synset('eating_apple.n.01') [Synset('baldwin.n.03'), Synset('cortland.n.01'), Synset('delicious.n.01'), Synset('empire.n.05'), Synset('granny_smith.n.01'), Synset('grimes'_golden.n.01'), Synset('jonathan.n.01'), Synset('mcintosh.n.01'), Synset('northern_spy.n.01'), Synset('pearmain.n.01'), Synset('pippin.n.01'), Synset('prima.n.01'), Synset('stayman.n.01'), Synset('stayman_winesap.n.01'), Synset('winesap.n.01')]\n",
      "Synset('bramley's_seedling.n.01') []\n",
      "Synset('lane's_prince_albert.n.01') []\n",
      "Synset('newtown_wonder.n.01') []\n",
      "Synset('baldwin.n.03') []\n",
      "Synset('cortland.n.01') []\n",
      "Synset('delicious.n.01') [Synset('golden_delicious.n.01'), Synset('red_delicious.n.01')]\n",
      "Synset('golden_delicious.n.01') []\n",
      "Synset('red_delicious.n.01') []\n",
      "\n",
      "Relations hyponyms\n",
      "Synset('apple.n.01') Synset('cooking_apple.n.01')\n",
      "Synset('cooking_apple.n.01') Synset('bramley's_seedling.n.01')\n",
      "Synset('apple.n.01') Synset('crab_apple.n.03')\n",
      "Synset('apple.n.01') Synset('eating_apple.n.01')\n",
      "Synset('eating_apple.n.01') Synset('baldwin.n.03')\n",
      "Synset('cooking_apple.n.01') Synset('lane's_prince_albert.n.01')\n",
      "Synset('cooking_apple.n.01') Synset('newtown_wonder.n.01')\n",
      "Synset('eating_apple.n.01') Synset('cortland.n.01')\n",
      "Synset('eating_apple.n.01') Synset('delicious.n.01')\n",
      "Synset('delicious.n.01') Synset('golden_delicious.n.01')\n",
      "Synset('delicious.n.01') Synset('red_delicious.n.01')\n",
      "\n",
      "\n",
      "Same\n",
      "apple [Synset('quandong.n.04'), Synset('freestone.n.01'), Synset('lanseh.n.01'), Synset('dried_fruit.n.01'), Synset('avocado.n.01')]\n",
      "\n",
      "\n",
      "Same\n",
      "edible_fruit [Synset('berry.n.02'), Synset('pod.n.02'), Synset('buckthorn_berry.n.01'), Synset('juniper_berry.n.01'), Synset('wild_cherry.n.01')]\n",
      "pome [Synset('acorn.n.01'), Synset('accessory_fruit.n.01'), Synset('buffalo_nut.n.01'), Synset('berry.n.02'), Synset('schizocarp.n.01')]\n",
      "\n",
      "\n",
      "Same\n",
      "bramley's_seedling [Synset('newtown_wonder.n.01'), Synset('rome_beauty.n.01'), Synset('lane's_prince_albert.n.01')]\n",
      "lane's_prince_albert [Synset('newtown_wonder.n.01'), Synset('rome_beauty.n.01'), Synset('bramley's_seedling.n.01')]\n",
      "newtown_wonder [Synset('bramley's_seedling.n.01'), Synset('lane's_prince_albert.n.01'), Synset('rome_beauty.n.01')]\n",
      "baldwin [Synset('pearmain.n.01'), Synset('jonathan.n.01'), Synset('stayman.n.01')]\n",
      "cortland [Synset('mcintosh.n.01'), Synset('stayman.n.01'), Synset('empire.n.05')]\n",
      "delicious [Synset('jonathan.n.01'), Synset('baldwin.n.03'), Synset('stayman.n.01')]\n"
     ]
    }
   ],
   "source": [
    "from graphCreation.main import generateGraph\n",
    "generateGraph(\"apple\",[[1,4],[2,2]], [[1,5],[2,3],[3,5]], [[0,5],[1,5],[-2,3]]) # change same for 30 200 10 "
   ]
  },
  {
   "cell_type": "code",
   "execution_count": 4,
   "metadata": {
    "scrolled": true
   },
   "outputs": [
    {
     "data": {
      "application/javascript": [
       "var link = document.createElement(\"link\");\n",
       "\tlink.ref = \"stylesheet\";\n",
       "\tlink.type = \"text/css\";\n",
       "\tlink.href = \"https://cdnjs.cloudflare.com/ajax/libs/vis/4.8.2/vis.css\";\n",
       "\tdocument.head.appendChild(link);\n",
       "require.config({     paths: {         vis: '//cdnjs.cloudflare.com/ajax/libs/vis/4.8.2/vis.min'     } }); require(['vis'], function(vis) {  window.vis = vis; }); "
      ],
      "text/plain": [
       "<IPython.core.display.Javascript object>"
      ]
     },
     "metadata": {},
     "output_type": "display_data"
    },
    {
     "data": {
      "text/html": [
       "<div id=\"e9c4d9d5-c7a4-4b91-ae75-468a29803929\" style=\"height: 400px;\"></div>\n",
       "\n",
       "<script type=\"text/javascript\">\n",
       "\n",
       "    var nodes = [{\"id\": 7422, \"label\": \"edible_fruit\", \"group\": \"Term\", \"title\": \"(_7422:Term {definition: 'edible reproductive body of a seed plant especially one having sweet flesh', label: 'edible_fruit::n', name: 'edible_fruit', type: 'n'})\"}, {\"id\": 7161, \"label\": \"wild_cherry\", \"group\": \"Term\", \"title\": \"(_7161:Term {definition: 'the fruit of the wild cherry tree', label: 'wild_cherry::n', name: 'wild_cherry', type: 'n'})\"}, {\"id\": 7160, \"label\": \"juniper_berry\", \"group\": \"Term\", \"title\": \"(_7160:Term {definition: 'berrylike fruit of a plant of the genus Juniperus especially the berrylike cone of the common juniper', label: 'juniper_berry::n', name: 'juniper_berry', type: 'n'})\"}, {\"id\": 7619, \"label\": \"buckthorn_berry\", \"group\": \"Term\", \"title\": \"(_7619:Term {definition: 'fruit of various buckthorns yielding dyes or pigments', label: 'buckthorn_berry::n', name: 'buckthorn_berry', type: 'n'})\"}, {\"id\": 7618, \"label\": \"pod\", \"group\": \"Term\", \"title\": \"(_7618:Term {definition: 'the vessel that contains the seeds of a plant (not the seeds themselves)', label: 'pod::n', name: 'pod', type: 'n'})\"}, {\"id\": 7617, \"label\": \"berry\", \"group\": \"Term\", \"title\": \"(_7617:Term {definition: 'any of numerous small and pulpy edible fruits; used as desserts or in making jams and jellies and preserves', label: 'berry::n', name: 'berry', type: 'n'})\"}, {\"id\": 7429, \"label\": \"produce\", \"group\": \"Term\", \"title\": \"(_7429:Term {definition: 'fresh fruits and vegetable grown for the market', label: 'produce::n', name: 'produce', type: 'n'})\"}, {\"id\": 7424, \"label\": \"fruit\", \"group\": \"Term\", \"title\": \"(_7424:Term {definition: 'the ripened reproductive body of a seed plant', label: 'fruit::n', name: 'fruit', type: 'n'})\"}, {\"id\": 7435, \"label\": \"newtown_wonder\", \"group\": \"Term\", \"title\": \"(_7435:Term {definition: 'apple used primarily in cooking', label: 'newtown_wonder::n', name: 'newtown_wonder', type: 'n'})\"}, {\"id\": 7186, \"label\": \"rome_beauty\", \"group\": \"Term\", \"title\": \"(_7186:Term {definition: 'large red apple used primarily for baking', label: 'rome_beauty::n', name: 'rome_beauty', type: 'n'})\"}, {\"id\": 7434, \"label\": \"lane's_prince_albert\", \"group\": \"Term\", \"title\": \"(_7434:Term {definition: 'apple used primarily in cooking', label: \\\"lane's_prince_albert::n\\\", name: \\\"lane's_prince_albert\\\", type: 'n'})\"}, {\"id\": 7433, \"label\": \"bramley's_seedling\", \"group\": \"Term\", \"title\": \"(_7433:Term {definition: 'very large cooking apple', label: \\\"bramley's_seedling::n\\\", name: \\\"bramley's_seedling\\\", type: 'n'})\"}, {\"id\": 7430, \"label\": \"cooking_apple\", \"group\": \"Term\", \"title\": \"(_7430:Term {definition: 'an apple used primarily in cooking for pies and applesauce etc', label: 'cooking_apple::n', name: 'cooking_apple', type: 'n'})\"}, {\"id\": 7620, \"label\": \"mcintosh\", \"group\": \"Term\", \"title\": \"(_7620:Term {definition: 'early-ripening apple popular in the northeastern United States; primarily eaten raw but suitable for applesauce', label: 'mcintosh::n', name: 'mcintosh', type: 'n'})\"}, {\"id\": 7437, \"label\": \"cortland\", \"group\": \"Term\", \"title\": \"(_7437:Term {definition: 'large apple with a red skin', label: 'cortland::n', name: 'cortland', type: 'n'})\"}, {\"id\": 7194, \"label\": \"stayman\", \"group\": \"Term\", \"title\": \"(_7194:Term {definition: 'apple grown chiefly in the Shenandoah Valley', label: 'stayman::n', name: 'stayman', type: 'n'})\"}, {\"id\": 7438, \"label\": \"delicious\", \"group\": \"Term\", \"title\": \"(_7438:Term {definition: 'variety of sweet eating apples', label: 'delicious::n', name: 'delicious', type: 'n'})\"}, {\"id\": 7436, \"label\": \"baldwin\", \"group\": \"Term\", \"title\": \"(_7436:Term {definition: 'United States author who was an outspoken critic of racism (1924-1987)', label: 'baldwin::n', name: 'baldwin', type: 'n'})\"}, {\"id\": 7172, \"label\": \"schizocarp\", \"group\": \"Term\", \"title\": \"(_7172:Term {definition: 'a dry dehiscent fruit that at maturity splits into two or more parts each with a single seed', label: 'schizocarp::n', name: 'schizocarp', type: 'n'})\"}, {\"id\": 7423, \"label\": \"pome\", \"group\": \"Term\", \"title\": \"(_7423:Term {definition: 'a fleshy fruit (apple or pear or related fruits) having seed chambers and an outer fleshy part', label: 'pome::n', name: 'pome', type: 'n'})\"}, {\"id\": 7613, \"label\": \"freestone\", \"group\": \"Term\", \"title\": \"(_7613:Term {definition: 'fruit (especially peach) whose flesh does not adhere to the pit', label: 'freestone::n', name: 'freestone', type: 'n'})\"}, {\"id\": 7611, \"label\": \"apple\", \"group\": \"Term\", \"title\": \"(_7611:Term {definition: 'fruit with red or yellow or green skin and sweet to tart crisp whitish flesh', label: 'apple::n', name: 'apple', type: 'n'})\"}, {\"id\": 7171, \"label\": \"buffalo_nut\", \"group\": \"Term\", \"title\": \"(_7171:Term {definition: 'oily drupaceous fruit of rabbitwood', label: 'buffalo_nut::n', name: 'buffalo_nut', type: 'n'})\"}, {\"id\": 7170, \"label\": \"accessory_fruit\", \"group\": \"Term\", \"title\": \"(_7170:Term {definition: 'fruit containing much fleshy tissue besides that of the ripened ovary; as apple or strawberry', label: 'accessory_fruit::n', name: 'accessory_fruit', type: 'n'})\"}, {\"id\": 7162, \"label\": \"acorn\", \"group\": \"Term\", \"title\": \"(_7162:Term {definition: 'fruit of the oak tree: a smooth thin-walled nut in a woody cup-shaped base', label: 'acorn::n', name: 'acorn', type: 'n'})\"}, {\"id\": 7612, \"label\": \"quandong\", \"group\": \"Term\", \"title\": \"(_7612:Term {definition: 'Australian tree with edible flesh and edible nutlike seed', label: 'quandong::n', name: 'quandong', type: 'n'})\"}, {\"id\": 7615, \"label\": \"dried_fruit\", \"group\": \"Term\", \"title\": \"(_7615:Term {definition: 'fruit preserved by drying', label: 'dried_fruit::n', name: 'dried_fruit', type: 'n'})\"}, {\"id\": 7621, \"label\": \"empire\", \"group\": \"Term\", \"title\": \"(_7621:Term {definition: 'the domain ruled by an emperor or empress; the region over which imperial dominion is exercised', label: 'empire::n', name: 'empire', type: 'n'})\"}, {\"id\": 7432, \"label\": \"eating_apple\", \"group\": \"Term\", \"title\": \"(_7432:Term {definition: 'an apple used primarily for eating raw without cooking', label: 'eating_apple::n', name: 'eating_apple', type: 'n'})\"}, {\"id\": 7193, \"label\": \"jonathan\", \"group\": \"Term\", \"title\": \"(_7193:Term {definition: 'red late-ripening apple; primarily eaten raw', label: 'jonathan::n', name: 'jonathan', type: 'n'})\"}, {\"id\": 7439, \"label\": \"golden_delicious\", \"group\": \"Term\", \"title\": \"(_7439:Term {definition: 'a sweet eating apple with yellow skin', label: 'golden_delicious::n', name: 'golden_delicious', type: 'n'})\"}, {\"id\": 7187, \"label\": \"pearmain\", \"group\": \"Term\", \"title\": \"(_7187:Term {definition: 'any of several varieties of apples with red skins', label: 'pearmain::n', name: 'pearmain', type: 'n'})\"}, {\"id\": 7614, \"label\": \"lanseh\", \"group\": \"Term\", \"title\": \"(_7614:Term {definition: 'East Indian tart yellow berrylike fruit', label: 'lanseh::n', name: 'lanseh', type: 'n'})\"}, {\"id\": 7440, \"label\": \"red_delicious\", \"group\": \"Term\", \"title\": \"(_7440:Term {definition: 'a sweet eating apple with bright red skin; most widely grown apple worldwide', label: 'red_delicious::n', name: 'red_delicious', type: 'n'})\"}, {\"id\": 7616, \"label\": \"avocado\", \"group\": \"Term\", \"title\": \"(_7616:Term {definition: 'a pear-shaped tropical fruit with green or blackish skin and rich yellowish pulp enclosing a single large seed', label: 'avocado::n', name: 'avocado', type: 'n'})\"}, {\"id\": 7431, \"label\": \"crab_apple\", \"group\": \"Term\", \"title\": \"(_7431:Term {definition: 'any of numerous varieties of crab apples cultivated for their small acidic (usually bright red) fruit used for preserves or as ornamentals for their blossoms', label: 'crab_apple::n', name: 'crab_apple', type: 'n'})\"}];\n",
       "    var edges = [{\"from\": 7422, \"to\": 7161, \"label\": \"SAME\"}, {\"from\": 7422, \"to\": 7160, \"label\": \"SAME\"}, {\"from\": 7422, \"to\": 7619, \"label\": \"SAME\"}, {\"from\": 7422, \"to\": 7618, \"label\": \"SAME\"}, {\"from\": 7422, \"to\": 7617, \"label\": \"SAME\"}, {\"from\": 7422, \"to\": 7429, \"label\": \"ISA\"}, {\"from\": 7422, \"to\": 7424, \"label\": \"ISA\"}, {\"from\": 7435, \"to\": 7186, \"label\": \"SAME\"}, {\"from\": 7435, \"to\": 7434, \"label\": \"SAME\"}, {\"from\": 7435, \"to\": 7433, \"label\": \"SAME\"}, {\"from\": 7435, \"to\": 7430, \"label\": \"ISA\"}, {\"from\": 7620, \"to\": 7437, \"label\": \"SAME\"}, {\"from\": 7194, \"to\": 7438, \"label\": \"SAME\"}, {\"from\": 7194, \"to\": 7437, \"label\": \"SAME\"}, {\"from\": 7194, \"to\": 7436, \"label\": \"SAME\"}, {\"from\": 7618, \"to\": 7422, \"label\": \"SAME\"}, {\"from\": 7172, \"to\": 7423, \"label\": \"SAME\"}, {\"from\": 7613, \"to\": 7611, \"label\": \"SAME\"}, {\"from\": 7423, \"to\": 7172, \"label\": \"SAME\"}, {\"from\": 7423, \"to\": 7617, \"label\": \"SAME\"}, {\"from\": 7423, \"to\": 7171, \"label\": \"SAME\"}, {\"from\": 7423, \"to\": 7170, \"label\": \"SAME\"}, {\"from\": 7423, \"to\": 7162, \"label\": \"SAME\"}, {\"from\": 7423, \"to\": 7424, \"label\": \"ISA\"}, {\"from\": 7612, \"to\": 7611, \"label\": \"SAME\"}, {\"from\": 7617, \"to\": 7423, \"label\": \"SAME\"}, {\"from\": 7617, \"to\": 7422, \"label\": \"SAME\"}, {\"from\": 7186, \"to\": 7435, \"label\": \"SAME\"}, {\"from\": 7186, \"to\": 7434, \"label\": \"SAME\"}, {\"from\": 7186, \"to\": 7433, \"label\": \"SAME\"}, {\"from\": 7434, \"to\": 7186, \"label\": \"SAME\"}, {\"from\": 7434, \"to\": 7435, \"label\": \"SAME\"}, {\"from\": 7434, \"to\": 7433, \"label\": \"SAME\"}, {\"from\": 7434, \"to\": 7430, \"label\": \"ISA\"}, {\"from\": 7162, \"to\": 7423, \"label\": \"SAME\"}, {\"from\": 7615, \"to\": 7611, \"label\": \"SAME\"}, {\"from\": 7437, \"to\": 7621, \"label\": \"SAME\"}, {\"from\": 7437, \"to\": 7194, \"label\": \"SAME\"}, {\"from\": 7437, \"to\": 7620, \"label\": \"SAME\"}, {\"from\": 7437, \"to\": 7432, \"label\": \"ISA\"}, {\"from\": 7438, \"to\": 7194, \"label\": \"SAME\"}, {\"from\": 7438, \"to\": 7436, \"label\": \"SAME\"}, {\"from\": 7438, \"to\": 7193, \"label\": \"SAME\"}, {\"from\": 7438, \"to\": 7432, \"label\": \"ISA\"}, {\"from\": 7432, \"to\": 7611, \"label\": \"ISA\"}, {\"from\": 7439, \"to\": 7438, \"label\": \"ISA\"}, {\"from\": 7436, \"to\": 7438, \"label\": \"SAME\"}, {\"from\": 7436, \"to\": 7194, \"label\": \"SAME\"}, {\"from\": 7436, \"to\": 7193, \"label\": \"SAME\"}, {\"from\": 7436, \"to\": 7187, \"label\": \"SAME\"}, {\"from\": 7436, \"to\": 7432, \"label\": \"ISA\"}, {\"from\": 7171, \"to\": 7423, \"label\": \"SAME\"}, {\"from\": 7160, \"to\": 7422, \"label\": \"SAME\"}, {\"from\": 7161, \"to\": 7422, \"label\": \"SAME\"}, {\"from\": 7433, \"to\": 7434, \"label\": \"SAME\"}, {\"from\": 7433, \"to\": 7186, \"label\": \"SAME\"}, {\"from\": 7433, \"to\": 7435, \"label\": \"SAME\"}, {\"from\": 7433, \"to\": 7430, \"label\": \"ISA\"}, {\"from\": 7614, \"to\": 7611, \"label\": \"SAME\"}, {\"from\": 7430, \"to\": 7611, \"label\": \"ISA\"}, {\"from\": 7621, \"to\": 7437, \"label\": \"SAME\"}, {\"from\": 7187, \"to\": 7436, \"label\": \"SAME\"}, {\"from\": 7440, \"to\": 7438, \"label\": \"ISA\"}, {\"from\": 7619, \"to\": 7422, \"label\": \"SAME\"}, {\"from\": 7170, \"to\": 7423, \"label\": \"SAME\"}, {\"from\": 7616, \"to\": 7611, \"label\": \"SAME\"}, {\"from\": 7193, \"to\": 7438, \"label\": \"SAME\"}, {\"from\": 7193, \"to\": 7436, \"label\": \"SAME\"}, {\"from\": 7431, \"to\": 7611, \"label\": \"ISA\"}, {\"from\": 7611, \"to\": 7616, \"label\": \"SAME\"}, {\"from\": 7611, \"to\": 7615, \"label\": \"SAME\"}, {\"from\": 7611, \"to\": 7614, \"label\": \"SAME\"}, {\"from\": 7611, \"to\": 7613, \"label\": \"SAME\"}, {\"from\": 7611, \"to\": 7612, \"label\": \"SAME\"}, {\"from\": 7611, \"to\": 7423, \"label\": \"ISA\"}, {\"from\": 7611, \"to\": 7422, \"label\": \"ISA\"}];\n",
       "\n",
       "    var container = document.getElementById(\"e9c4d9d5-c7a4-4b91-ae75-468a29803929\");\n",
       "\n",
       "    var data = {\n",
       "        nodes: nodes,\n",
       "        edges: edges\n",
       "    };\n",
       "\n",
       "    var options = {\n",
       "    nodes: {\n",
       "        shape: 'dot',\n",
       "        size: 25,\n",
       "        font: {\n",
       "            size: 14\n",
       "        }\n",
       "    },\n",
       "    edges: {\n",
       "        font: {\n",
       "            size: 14,\n",
       "            align: 'middle'\n",
       "        },\n",
       "        color: 'gray',\n",
       "        arrows: {\n",
       "            to: {\n",
       "                enabled: true,\n",
       "                scaleFactor: 0.5\n",
       "            }\n",
       "        },\n",
       "        smooth: {\n",
       "            enabled: false\n",
       "        }\n",
       "    },\n",
       "    physics: {\n",
       "        enabled: true\n",
       "        }\n",
       "    };\n",
       "\n",
       "    var network = new vis.Network(container, data, options);\n",
       "\n",
       "</script>\n"
      ],
      "text/plain": [
       "<IPython.core.display.HTML object>"
      ]
     },
     "execution_count": 4,
     "metadata": {},
     "output_type": "execute_result"
    }
   ],
   "source": [
    "import neo4jupyter\n",
    "neo4jupyter.init_notebook_mode()\n",
    "neo4jupyter.draw(connect(), {\"Term\": \"label\"})"
   ]
  },
  {
   "cell_type": "code",
   "execution_count": 5,
   "metadata": {},
   "outputs": [
    {
     "name": "stdout",
     "output_type": "stream",
     "text": [
      "Synset('apple.n.01') [Synset('edible_fruit.n.01'), Synset('pome.n.01')]\n",
      "Synset('edible_fruit.n.01') [Synset('fruit.n.01'), Synset('produce.n.01')]\n",
      "Synset('pome.n.01') [Synset('fruit.n.01')]\n",
      "Synset('fruit.n.01') [Synset('reproductive_structure.n.01')]\n",
      "Synset('produce.n.01') [Synset('food.n.02')]\n",
      "Synset('reproductive_structure.n.01') [Synset('plant_organ.n.01')]\n",
      "Synset('food.n.02') [Synset('solid.n.01')]\n",
      "Synset('plant_organ.n.01') [Synset('plant_part.n.01')]\n",
      "Synset('solid.n.01') [Synset('matter.n.03')]\n",
      "Synset('plant_part.n.01') [Synset('natural_object.n.01')]\n",
      "Synset('matter.n.03') [Synset('physical_entity.n.01')]\n",
      "[[Synset('apple.n.01'), Synset('edible_fruit.n.01'), Synset('fruit.n.01'), Synset('reproductive_structure.n.01'), Synset('plant_organ.n.01'), Synset('plant_part.n.01')], [Synset('apple.n.01'), Synset('pome.n.01'), Synset('fruit.n.01')], [Synset('apple.n.01'), Synset('edible_fruit.n.01'), Synset('produce.n.01'), Synset('food.n.02'), Synset('solid.n.01'), Synset('matter.n.03')]]\n",
      "\n",
      "Relations hypernyms\n",
      "Synset('apple.n.01') Synset('edible_fruit.n.01')\n",
      "Synset('edible_fruit.n.01') Synset('plant_part.n.01')\n",
      "Synset('apple.n.01') Synset('pome.n.01')\n",
      "Synset('edible_fruit.n.01') Synset('matter.n.03')\n",
      "--------------------------------------------------------------\n"
     ]
    },
    {
     "data": {
      "text/plain": [
       "{(0, 0): [Synset('apple.n.01')],\n",
       " (1, 5): [Synset('edible_fruit.n.01'), Synset('pome.n.01')],\n",
       " (5, 3): [Synset('plant_part.n.01'), Synset('matter.n.03')]}"
      ]
     },
     "execution_count": 5,
     "metadata": {},
     "output_type": "execute_result"
    }
   ],
   "source": [
    "from graphCreation.hypernymsCreation.generateHypernyms import *\n",
    "deleteAll(connect())\n",
    "generateHypernyms([[1,5],[5,3]], \"apple\", connect())"
   ]
  },
  {
   "cell_type": "code",
   "execution_count": 6,
   "metadata": {},
   "outputs": [
    {
     "data": {
      "text/html": [
       "<div id=\"97dc036d-949b-499c-9374-efe84dbfcdb1\" style=\"height: 400px;\"></div>\n",
       "\n",
       "<script type=\"text/javascript\">\n",
       "\n",
       "    var nodes = [{\"id\": 7624, \"label\": \"pome\", \"group\": \"Term\", \"title\": \"(_7624:Term {definition: 'a fleshy fruit (apple or pear or related fruits) having seed chambers and an outer fleshy part', label: 'pome::n', name: 'pome', type: 'n'})\"}, {\"id\": 7623, \"label\": \"edible_fruit\", \"group\": \"Term\", \"title\": \"(_7623:Term {definition: 'edible reproductive body of a seed plant especially one having sweet flesh', label: 'edible_fruit::n', name: 'edible_fruit', type: 'n'})\"}, {\"id\": 7626, \"label\": \"matter\", \"group\": \"Term\", \"title\": \"(_7626:Term {definition: 'a vaguely specified concern', label: 'matter::n', name: 'matter', type: 'n'})\"}, {\"id\": 7625, \"label\": \"plant_part\", \"group\": \"Term\", \"title\": \"(_7625:Term {definition: 'any part of a plant or fungus', label: 'plant_part::n', name: 'plant_part', type: 'n'})\"}, {\"id\": 7622, \"label\": \"apple\", \"group\": \"Term\", \"title\": \"(_7622:Term {definition: 'fruit with red or yellow or green skin and sweet to tart crisp whitish flesh', label: 'apple::n', name: 'apple', type: 'n'})\"}];\n",
       "    var edges = [{\"from\": 7623, \"to\": 7626, \"label\": \"ISA\"}, {\"from\": 7623, \"to\": 7625, \"label\": \"ISA\"}, {\"from\": 7622, \"to\": 7624, \"label\": \"ISA\"}, {\"from\": 7622, \"to\": 7623, \"label\": \"ISA\"}];\n",
       "\n",
       "    var container = document.getElementById(\"97dc036d-949b-499c-9374-efe84dbfcdb1\");\n",
       "\n",
       "    var data = {\n",
       "        nodes: nodes,\n",
       "        edges: edges\n",
       "    };\n",
       "\n",
       "    var options = {\n",
       "    nodes: {\n",
       "        shape: 'dot',\n",
       "        size: 25,\n",
       "        font: {\n",
       "            size: 14\n",
       "        }\n",
       "    },\n",
       "    edges: {\n",
       "        font: {\n",
       "            size: 14,\n",
       "            align: 'middle'\n",
       "        },\n",
       "        color: 'gray',\n",
       "        arrows: {\n",
       "            to: {\n",
       "                enabled: true,\n",
       "                scaleFactor: 0.5\n",
       "            }\n",
       "        },\n",
       "        smooth: {\n",
       "            enabled: false\n",
       "        }\n",
       "    },\n",
       "    physics: {\n",
       "        enabled: true\n",
       "        }\n",
       "    };\n",
       "\n",
       "    var network = new vis.Network(container, data, options);\n",
       "\n",
       "</script>\n"
      ],
      "text/plain": [
       "<IPython.core.display.HTML object>"
      ]
     },
     "execution_count": 6,
     "metadata": {},
     "output_type": "execute_result"
    }
   ],
   "source": [
    "neo4jupyter.draw(connect(), {\"Term\": \"name\"})"
   ]
  },
  {
   "cell_type": "code",
   "execution_count": 7,
   "metadata": {},
   "outputs": [
    {
     "name": "stdout",
     "output_type": "stream",
     "text": [
      "Synset('apple.n.01') [Synset('cooking_apple.n.01'), Synset('crab_apple.n.03'), Synset('eating_apple.n.01')]\n",
      "Synset('cooking_apple.n.01') [Synset('bramley's_seedling.n.01'), Synset('lane's_prince_albert.n.01'), Synset('newtown_wonder.n.01'), Synset('rome_beauty.n.01')]\n",
      "Synset('crab_apple.n.03') []\n",
      "Synset('eating_apple.n.01') [Synset('baldwin.n.03'), Synset('cortland.n.01'), Synset('delicious.n.01'), Synset('empire.n.05'), Synset('granny_smith.n.01'), Synset('grimes'_golden.n.01'), Synset('jonathan.n.01'), Synset('mcintosh.n.01'), Synset('northern_spy.n.01'), Synset('pearmain.n.01'), Synset('pippin.n.01'), Synset('prima.n.01'), Synset('stayman.n.01'), Synset('stayman_winesap.n.01'), Synset('winesap.n.01')]\n",
      "Synset('bramley's_seedling.n.01') []\n",
      "Synset('lane's_prince_albert.n.01') []\n",
      "Synset('newtown_wonder.n.01') []\n",
      "Synset('baldwin.n.03') []\n",
      "Synset('cortland.n.01') []\n",
      "Synset('delicious.n.01') [Synset('golden_delicious.n.01'), Synset('red_delicious.n.01')]\n",
      "Synset('golden_delicious.n.01') []\n",
      "Synset('red_delicious.n.01') []\n",
      "\n",
      "Relations hyponyms\n",
      "Synset('apple.n.01') Synset('cooking_apple.n.01')\n",
      "Synset('cooking_apple.n.01') Synset('bramley's_seedling.n.01')\n",
      "Synset('apple.n.01') Synset('crab_apple.n.03')\n",
      "Synset('apple.n.01') Synset('eating_apple.n.01')\n",
      "Synset('eating_apple.n.01') Synset('baldwin.n.03')\n",
      "Synset('cooking_apple.n.01') Synset('lane's_prince_albert.n.01')\n",
      "Synset('cooking_apple.n.01') Synset('newtown_wonder.n.01')\n",
      "Synset('eating_apple.n.01') Synset('cortland.n.01')\n",
      "Synset('eating_apple.n.01') Synset('delicious.n.01')\n",
      "Synset('delicious.n.01') Synset('golden_delicious.n.01')\n",
      "Synset('delicious.n.01') Synset('red_delicious.n.01')\n"
     ]
    },
    {
     "data": {
      "text/plain": [
       "{(0, 0): [Synset('apple.n.01')],\n",
       " (1, 5): [Synset('cooking_apple.n.01'),\n",
       "  Synset('crab_apple.n.03'),\n",
       "  Synset('eating_apple.n.01')],\n",
       " (2, 3): [Synset('bramley's_seedling.n.01'),\n",
       "  Synset('lane's_prince_albert.n.01'),\n",
       "  Synset('newtown_wonder.n.01'),\n",
       "  Synset('baldwin.n.03'),\n",
       "  Synset('cortland.n.01'),\n",
       "  Synset('delicious.n.01')],\n",
       " (3, 5): [Synset('golden_delicious.n.01'), Synset('red_delicious.n.01')]}"
      ]
     },
     "execution_count": 7,
     "metadata": {},
     "output_type": "execute_result"
    }
   ],
   "source": [
    "from graphCreation.hyponymsCreation.generateHyponyms import *\n",
    "deleteAll(connect())\n",
    "generateHyponyms([[1,5],[2,3],[3,5]], \"apple\", connect())"
   ]
  },
  {
   "cell_type": "code",
   "execution_count": 8,
   "metadata": {},
   "outputs": [
    {
     "data": {
      "text/html": [
       "<div id=\"aebf2cf2-49f4-4a22-8936-3104734db8b4\" style=\"height: 400px;\"></div>\n",
       "\n",
       "<script type=\"text/javascript\">\n",
       "\n",
       "    var nodes = [{\"id\": 7630, \"label\": \"eating_apple\", \"group\": \"Term\", \"title\": \"(_7630:Term {definition: 'an apple used primarily for eating raw without cooking', label: 'eating_apple::n', name: 'eating_apple', type: 'n'})\"}, {\"id\": 7627, \"label\": \"apple\", \"group\": \"Term\", \"title\": \"(_7627:Term {definition: 'fruit with red or yellow or green skin and sweet to tart crisp whitish flesh', label: 'apple::n', name: 'apple', type: 'n'})\"}, {\"id\": 7629, \"label\": \"crab_apple\", \"group\": \"Term\", \"title\": \"(_7629:Term {definition: 'any of numerous varieties of crab apples cultivated for their small acidic (usually bright red) fruit used for preserves or as ornamentals for their blossoms', label: 'crab_apple::n', name: 'crab_apple', type: 'n'})\"}, {\"id\": 7635, \"label\": \"cortland\", \"group\": \"Term\", \"title\": \"(_7635:Term {definition: 'large apple with a red skin', label: 'cortland::n', name: 'cortland', type: 'n'})\"}, {\"id\": 7631, \"label\": \"bramley's_seedling\", \"group\": \"Term\", \"title\": \"(_7631:Term {definition: 'very large cooking apple', label: \\\"bramley's_seedling::n\\\", name: \\\"bramley's_seedling\\\", type: 'n'})\"}, {\"id\": 7628, \"label\": \"cooking_apple\", \"group\": \"Term\", \"title\": \"(_7628:Term {definition: 'an apple used primarily in cooking for pies and applesauce etc', label: 'cooking_apple::n', name: 'cooking_apple', type: 'n'})\"}, {\"id\": 7633, \"label\": \"newtown_wonder\", \"group\": \"Term\", \"title\": \"(_7633:Term {definition: 'apple used primarily in cooking', label: 'newtown_wonder::n', name: 'newtown_wonder', type: 'n'})\"}, {\"id\": 7634, \"label\": \"baldwin\", \"group\": \"Term\", \"title\": \"(_7634:Term {definition: 'United States author who was an outspoken critic of racism (1924-1987)', label: 'baldwin::n', name: 'baldwin', type: 'n'})\"}, {\"id\": 7632, \"label\": \"lane's_prince_albert\", \"group\": \"Term\", \"title\": \"(_7632:Term {definition: 'apple used primarily in cooking', label: \\\"lane's_prince_albert::n\\\", name: \\\"lane's_prince_albert\\\", type: 'n'})\"}, {\"id\": 7636, \"label\": \"delicious\", \"group\": \"Term\", \"title\": \"(_7636:Term {definition: 'variety of sweet eating apples', label: 'delicious::n', name: 'delicious', type: 'n'})\"}, {\"id\": 7637, \"label\": \"golden_delicious\", \"group\": \"Term\", \"title\": \"(_7637:Term {definition: 'a sweet eating apple with yellow skin', label: 'golden_delicious::n', name: 'golden_delicious', type: 'n'})\"}, {\"id\": 7638, \"label\": \"red_delicious\", \"group\": \"Term\", \"title\": \"(_7638:Term {definition: 'a sweet eating apple with bright red skin; most widely grown apple worldwide', label: 'red_delicious::n', name: 'red_delicious', type: 'n'})\"}];\n",
       "    var edges = [{\"from\": 7630, \"to\": 7627, \"label\": \"ISA\"}, {\"from\": 7629, \"to\": 7627, \"label\": \"ISA\"}, {\"from\": 7635, \"to\": 7630, \"label\": \"ISA\"}, {\"from\": 7631, \"to\": 7628, \"label\": \"ISA\"}, {\"from\": 7633, \"to\": 7628, \"label\": \"ISA\"}, {\"from\": 7634, \"to\": 7630, \"label\": \"ISA\"}, {\"from\": 7632, \"to\": 7628, \"label\": \"ISA\"}, {\"from\": 7636, \"to\": 7630, \"label\": \"ISA\"}, {\"from\": 7628, \"to\": 7627, \"label\": \"ISA\"}, {\"from\": 7637, \"to\": 7636, \"label\": \"ISA\"}, {\"from\": 7638, \"to\": 7636, \"label\": \"ISA\"}];\n",
       "\n",
       "    var container = document.getElementById(\"aebf2cf2-49f4-4a22-8936-3104734db8b4\");\n",
       "\n",
       "    var data = {\n",
       "        nodes: nodes,\n",
       "        edges: edges\n",
       "    };\n",
       "\n",
       "    var options = {\n",
       "    nodes: {\n",
       "        shape: 'dot',\n",
       "        size: 25,\n",
       "        font: {\n",
       "            size: 14\n",
       "        }\n",
       "    },\n",
       "    edges: {\n",
       "        font: {\n",
       "            size: 14,\n",
       "            align: 'middle'\n",
       "        },\n",
       "        color: 'gray',\n",
       "        arrows: {\n",
       "            to: {\n",
       "                enabled: true,\n",
       "                scaleFactor: 0.5\n",
       "            }\n",
       "        },\n",
       "        smooth: {\n",
       "            enabled: false\n",
       "        }\n",
       "    },\n",
       "    physics: {\n",
       "        enabled: true\n",
       "        }\n",
       "    };\n",
       "\n",
       "    var network = new vis.Network(container, data, options);\n",
       "\n",
       "</script>\n"
      ],
      "text/plain": [
       "<IPython.core.display.HTML object>"
      ]
     },
     "execution_count": 8,
     "metadata": {},
     "output_type": "execute_result"
    }
   ],
   "source": [
    "neo4jupyter.draw(connect(), {\"Term\": \"name\"})"
   ]
  },
  {
   "cell_type": "code",
   "execution_count": 9,
   "metadata": {},
   "outputs": [
    {
     "name": "stdout",
     "output_type": "stream",
     "text": [
      "Synset('apple.n.01') [Synset('edible_fruit.n.01'), Synset('pome.n.01')]\n",
      "Synset('edible_fruit.n.01') [Synset('fruit.n.01'), Synset('produce.n.01')]\n",
      "Synset('pome.n.01') [Synset('fruit.n.01')]\n",
      "Synset('fruit.n.01') [Synset('reproductive_structure.n.01')]\n",
      "Synset('produce.n.01') [Synset('food.n.02')]\n",
      "[[Synset('apple.n.01'), Synset('edible_fruit.n.01'), Synset('fruit.n.01')], [Synset('apple.n.01'), Synset('pome.n.01'), Synset('fruit.n.01')], [Synset('apple.n.01'), Synset('edible_fruit.n.01'), Synset('produce.n.01')]]\n",
      "\n",
      "Relations hypernyms\n",
      "Synset('apple.n.01') Synset('edible_fruit.n.01')\n",
      "Synset('edible_fruit.n.01') Synset('fruit.n.01')\n",
      "Synset('apple.n.01') Synset('pome.n.01')\n",
      "Synset('pome.n.01') Synset('fruit.n.01')\n",
      "Synset('edible_fruit.n.01') Synset('produce.n.01')\n",
      "--------------------------------------------------------------\n",
      "Synset('apple.n.01') [Synset('cooking_apple.n.01'), Synset('crab_apple.n.03'), Synset('eating_apple.n.01')]\n",
      "Synset('cooking_apple.n.01') [Synset('bramley's_seedling.n.01'), Synset('lane's_prince_albert.n.01'), Synset('newtown_wonder.n.01'), Synset('rome_beauty.n.01')]\n",
      "Synset('crab_apple.n.03') []\n",
      "Synset('eating_apple.n.01') [Synset('baldwin.n.03'), Synset('cortland.n.01'), Synset('delicious.n.01'), Synset('empire.n.05'), Synset('granny_smith.n.01'), Synset('grimes'_golden.n.01'), Synset('jonathan.n.01'), Synset('mcintosh.n.01'), Synset('northern_spy.n.01'), Synset('pearmain.n.01'), Synset('pippin.n.01'), Synset('prima.n.01'), Synset('stayman.n.01'), Synset('stayman_winesap.n.01'), Synset('winesap.n.01')]\n",
      "Synset('bramley's_seedling.n.01') []\n",
      "Synset('lane's_prince_albert.n.01') []\n",
      "Synset('newtown_wonder.n.01') []\n",
      "Synset('baldwin.n.03') []\n",
      "Synset('cortland.n.01') []\n",
      "Synset('delicious.n.01') [Synset('golden_delicious.n.01'), Synset('red_delicious.n.01')]\n",
      "\n",
      "Relations hyponyms\n",
      "Synset('apple.n.01') Synset('cooking_apple.n.01')\n",
      "Synset('cooking_apple.n.01') Synset('bramley's_seedling.n.01')\n",
      "Synset('apple.n.01') Synset('crab_apple.n.03')\n",
      "Synset('apple.n.01') Synset('eating_apple.n.01')\n",
      "Synset('eating_apple.n.01') Synset('baldwin.n.03')\n",
      "Synset('cooking_apple.n.01') Synset('lane's_prince_albert.n.01')\n",
      "Synset('cooking_apple.n.01') Synset('newtown_wonder.n.01')\n",
      "Synset('eating_apple.n.01') Synset('cortland.n.01')\n",
      "Synset('eating_apple.n.01') Synset('delicious.n.01')\n",
      "\n",
      "\n",
      "Same\n",
      "edible_fruit [Synset('hagberry.n.01'), Synset('accessory_fruit.n.01')]\n",
      "pome [Synset('pyxidium.n.01'), Synset('quandong.n.02')]\n",
      "\n",
      "\n",
      "Same\n",
      "bramley's_seedling [Synset('newtown_wonder.n.01'), Synset('lane's_prince_albert.n.01')]\n",
      "lane's_prince_albert [Synset('newtown_wonder.n.01'), Synset('bramley's_seedling.n.01')]\n",
      "newtown_wonder [Synset('bramley's_seedling.n.01'), Synset('lane's_prince_albert.n.01')]\n",
      "baldwin [Synset('stayman.n.01'), Synset('grimes'_golden.n.01')]\n",
      "cortland [Synset('delicious.n.01'), Synset('pippin.n.01')]\n",
      "delicious [Synset('pippin.n.01'), Synset('winesap.n.01')]\n"
     ]
    }
   ],
   "source": [
    "from graphCreation.sameCreation.generateSame import *\n",
    "deleteAll(connect())\n",
    "generateHypernyms([[1,5],[2,3]], \"apple\", connect())\n",
    "generateHyponyms([[1,5],[2,3]], \"apple\", connect())\n",
    "generateSame(\"apple\", [[1,2],[-2,2]], connect())\n"
   ]
  },
  {
   "cell_type": "code",
   "execution_count": 10,
   "metadata": {},
   "outputs": [
    {
     "data": {
      "text/html": [
       "<div id=\"eee4d876-bcf3-4b80-bfbe-81bcbd42bd42\" style=\"height: 400px;\"></div>\n",
       "\n",
       "<script type=\"text/javascript\">\n",
       "\n",
       "    var nodes = [{\"id\": 7643, \"label\": \"produce\", \"group\": \"Term\", \"title\": \"(_7643:Term {definition: 'fresh fruits and vegetable grown for the market', label: 'produce::n', name: 'produce', type: 'n'})\"}, {\"id\": 7199, \"label\": \"newtown_wonder\", \"group\": \"Term\", \"title\": \"(_7199:Term {definition: 'apple used primarily in cooking', label: 'newtown_wonder::n', name: 'newtown_wonder', type: 'n'})\"}, {\"id\": 7198, \"label\": \"lane's_prince_albert\", \"group\": \"Term\", \"title\": \"(_7198:Term {definition: 'apple used primarily in cooking', label: \\\"lane's_prince_albert::n\\\", name: \\\"lane's_prince_albert\\\", type: 'n'})\"}, {\"id\": 7197, \"label\": \"bramley's_seedling\", \"group\": \"Term\", \"title\": \"(_7197:Term {definition: 'very large cooking apple', label: \\\"bramley's_seedling::n\\\", name: \\\"bramley's_seedling\\\", type: 'n'})\"}, {\"id\": 7644, \"label\": \"cooking_apple\", \"group\": \"Term\", \"title\": \"(_7644:Term {definition: 'an apple used primarily in cooking for pies and applesauce etc', label: 'cooking_apple::n', name: 'cooking_apple', type: 'n'})\"}, {\"id\": 7200, \"label\": \"baldwin\", \"group\": \"Term\", \"title\": \"(_7200:Term {definition: 'United States author who was an outspoken critic of racism (1924-1987)', label: 'baldwin::n', name: 'baldwin', type: 'n'})\"}, {\"id\": 7287, \"label\": \"grimes'_golden\", \"group\": \"Term\", \"title\": \"(_7287:Term {definition: 'yellow apple that ripens in late autumn; eaten raw', label: \\\"grimes'_golden::n\\\", name: \\\"grimes'_golden\\\", type: 'n'})\"}, {\"id\": 7286, \"label\": \"stayman\", \"group\": \"Term\", \"title\": \"(_7286:Term {definition: 'apple grown chiefly in the Shenandoah Valley', label: 'stayman::n', name: 'stayman', type: 'n'})\"}, {\"id\": 7196, \"label\": \"eating_apple\", \"group\": \"Term\", \"title\": \"(_7196:Term {definition: 'an apple used primarily for eating raw without cooking', label: 'eating_apple::n', name: 'eating_apple', type: 'n'})\"}, {\"id\": 7285, \"label\": \"quandong\", \"group\": \"Term\", \"title\": \"(_7285:Term {definition: 'Australian tree with edible flesh and edible nutlike seed', label: 'quandong::n', name: 'quandong', type: 'n'})\"}, {\"id\": 7641, \"label\": \"pome\", \"group\": \"Term\", \"title\": \"(_7641:Term {definition: 'a fleshy fruit (apple or pear or related fruits) having seed chambers and an outer fleshy part', label: 'pome::n', name: 'pome', type: 'n'})\"}, {\"id\": 7640, \"label\": \"edible_fruit\", \"group\": \"Term\", \"title\": \"(_7640:Term {definition: 'edible reproductive body of a seed plant especially one having sweet flesh', label: 'edible_fruit::n', name: 'edible_fruit', type: 'n'})\"}, {\"id\": 7228, \"label\": \"accessory_fruit\", \"group\": \"Term\", \"title\": \"(_7228:Term {definition: 'fruit containing much fleshy tissue besides that of the ripened ovary; as apple or strawberry', label: 'accessory_fruit::n', name: 'accessory_fruit', type: 'n'})\"}, {\"id\": 7227, \"label\": \"hagberry\", \"group\": \"Term\", \"title\": \"(_7227:Term {definition: 'small cherry much liked by birds', label: 'hagberry::n', name: 'hagberry', type: 'n'})\"}, {\"id\": 7642, \"label\": \"fruit\", \"group\": \"Term\", \"title\": \"(_7642:Term {definition: 'the ripened reproductive body of a seed plant', label: 'fruit::n', name: 'fruit', type: 'n'})\"}, {\"id\": 7226, \"label\": \"delicious\", \"group\": \"Term\", \"title\": \"(_7226:Term {definition: 'variety of sweet eating apples', label: 'delicious::n', name: 'delicious', type: 'n'})\"}, {\"id\": 7289, \"label\": \"winesap\", \"group\": \"Term\", \"title\": \"(_7289:Term {definition: 'crisp apple with dark red skin', label: 'winesap::n', name: 'winesap', type: 'n'})\"}, {\"id\": 7288, \"label\": \"pippin\", \"group\": \"Term\", \"title\": \"(_7288:Term {definition: 'any of numerous superior eating apples with yellow or greenish yellow skin flushed with red', label: 'pippin::n', name: 'pippin', type: 'n'})\"}, {\"id\": 7219, \"label\": \"cortland\", \"group\": \"Term\", \"title\": \"(_7219:Term {definition: 'large apple with a red skin', label: 'cortland::n', name: 'cortland', type: 'n'})\"}, {\"id\": 7639, \"label\": \"apple\", \"group\": \"Term\", \"title\": \"(_7639:Term {definition: 'fruit with red or yellow or green skin and sweet to tart crisp whitish flesh', label: 'apple::n', name: 'apple', type: 'n'})\"}, {\"id\": 7195, \"label\": \"crab_apple\", \"group\": \"Term\", \"title\": \"(_7195:Term {definition: 'any of numerous varieties of crab apples cultivated for their small acidic (usually bright red) fruit used for preserves or as ornamentals for their blossoms', label: 'crab_apple::n', name: 'crab_apple', type: 'n'})\"}, {\"id\": 7284, \"label\": \"pyxidium\", \"group\": \"Term\", \"title\": \"(_7284:Term {definition: 'fruit of such plants as the plantain; a capsule whose upper part falls off when the seeds are released', label: 'pyxidium::n', name: 'pyxidium', type: 'n'})\"}];\n",
       "    var edges = [{\"from\": 7199, \"to\": 7198, \"label\": \"SAME\"}, {\"from\": 7199, \"to\": 7197, \"label\": \"SAME\"}, {\"from\": 7199, \"to\": 7644, \"label\": \"ISA\"}, {\"from\": 7200, \"to\": 7287, \"label\": \"SAME\"}, {\"from\": 7200, \"to\": 7286, \"label\": \"SAME\"}, {\"from\": 7200, \"to\": 7196, \"label\": \"ISA\"}, {\"from\": 7285, \"to\": 7641, \"label\": \"SAME\"}, {\"from\": 7640, \"to\": 7228, \"label\": \"SAME\"}, {\"from\": 7640, \"to\": 7227, \"label\": \"SAME\"}, {\"from\": 7640, \"to\": 7643, \"label\": \"ISA\"}, {\"from\": 7640, \"to\": 7642, \"label\": \"ISA\"}, {\"from\": 7197, \"to\": 7198, \"label\": \"SAME\"}, {\"from\": 7197, \"to\": 7199, \"label\": \"SAME\"}, {\"from\": 7197, \"to\": 7644, \"label\": \"ISA\"}, {\"from\": 7226, \"to\": 7289, \"label\": \"SAME\"}, {\"from\": 7226, \"to\": 7288, \"label\": \"SAME\"}, {\"from\": 7226, \"to\": 7219, \"label\": \"SAME\"}, {\"from\": 7226, \"to\": 7196, \"label\": \"ISA\"}, {\"from\": 7198, \"to\": 7199, \"label\": \"SAME\"}, {\"from\": 7198, \"to\": 7197, \"label\": \"SAME\"}, {\"from\": 7198, \"to\": 7644, \"label\": \"ISA\"}, {\"from\": 7196, \"to\": 7639, \"label\": \"ISA\"}, {\"from\": 7286, \"to\": 7200, \"label\": \"SAME\"}, {\"from\": 7195, \"to\": 7639, \"label\": \"ISA\"}, {\"from\": 7228, \"to\": 7640, \"label\": \"SAME\"}, {\"from\": 7644, \"to\": 7639, \"label\": \"ISA\"}, {\"from\": 7288, \"to\": 7226, \"label\": \"SAME\"}, {\"from\": 7288, \"to\": 7219, \"label\": \"SAME\"}, {\"from\": 7219, \"to\": 7288, \"label\": \"SAME\"}, {\"from\": 7219, \"to\": 7226, \"label\": \"SAME\"}, {\"from\": 7219, \"to\": 7196, \"label\": \"ISA\"}, {\"from\": 7641, \"to\": 7285, \"label\": \"SAME\"}, {\"from\": 7641, \"to\": 7284, \"label\": \"SAME\"}, {\"from\": 7641, \"to\": 7642, \"label\": \"ISA\"}, {\"from\": 7639, \"to\": 7641, \"label\": \"ISA\"}, {\"from\": 7639, \"to\": 7640, \"label\": \"ISA\"}, {\"from\": 7287, \"to\": 7200, \"label\": \"SAME\"}, {\"from\": 7284, \"to\": 7641, \"label\": \"SAME\"}, {\"from\": 7227, \"to\": 7640, \"label\": \"SAME\"}, {\"from\": 7289, \"to\": 7226, \"label\": \"SAME\"}];\n",
       "\n",
       "    var container = document.getElementById(\"eee4d876-bcf3-4b80-bfbe-81bcbd42bd42\");\n",
       "\n",
       "    var data = {\n",
       "        nodes: nodes,\n",
       "        edges: edges\n",
       "    };\n",
       "\n",
       "    var options = {\n",
       "    nodes: {\n",
       "        shape: 'dot',\n",
       "        size: 25,\n",
       "        font: {\n",
       "            size: 14\n",
       "        }\n",
       "    },\n",
       "    edges: {\n",
       "        font: {\n",
       "            size: 14,\n",
       "            align: 'middle'\n",
       "        },\n",
       "        color: 'gray',\n",
       "        arrows: {\n",
       "            to: {\n",
       "                enabled: true,\n",
       "                scaleFactor: 0.5\n",
       "            }\n",
       "        },\n",
       "        smooth: {\n",
       "            enabled: false\n",
       "        }\n",
       "    },\n",
       "    physics: {\n",
       "        enabled: true\n",
       "        }\n",
       "    };\n",
       "\n",
       "    var network = new vis.Network(container, data, options);\n",
       "\n",
       "</script>\n"
      ],
      "text/plain": [
       "<IPython.core.display.HTML object>"
      ]
     },
     "execution_count": 10,
     "metadata": {},
     "output_type": "execute_result"
    }
   ],
   "source": [
    "neo4jupyter.draw(connect(), {\"Term\": \"name\"})"
   ]
  },
  {
   "cell_type": "code",
   "execution_count": null,
   "metadata": {},
   "outputs": [],
   "source": []
  }
 ],
 "metadata": {
  "kernelspec": {
   "display_name": "Python 3",
   "language": "python",
   "name": "python3"
  },
  "language_info": {
   "codemirror_mode": {
    "name": "ipython",
    "version": 3
   },
   "file_extension": ".py",
   "mimetype": "text/x-python",
   "name": "python",
   "nbconvert_exporter": "python",
   "pygments_lexer": "ipython3",
   "version": "3.7.3"
  }
 },
 "nbformat": 4,
 "nbformat_minor": 4
}
