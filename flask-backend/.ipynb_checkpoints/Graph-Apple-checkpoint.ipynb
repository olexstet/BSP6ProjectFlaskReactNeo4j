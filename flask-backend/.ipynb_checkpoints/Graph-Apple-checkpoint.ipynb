{
 "cells": [
  {
   "cell_type": "code",
   "execution_count": 1,
   "metadata": {},
   "outputs": [],
   "source": [
    "import sys\n",
    "sys.path.append('../flask-backend/')"
   ]
  },
  {
   "cell_type": "code",
   "execution_count": 2,
   "metadata": {},
   "outputs": [],
   "source": [
    "import neo4jupyter\n",
    "from graphCreation.graphSetups.commands import *"
   ]
  },
  {
   "cell_type": "code",
   "execution_count": 3,
   "metadata": {},
   "outputs": [
    {
     "name": "stdout",
     "output_type": "stream",
     "text": [
      "True\n",
      "Synset('apple.n.01') [Synset('edible_fruit.n.01'), Synset('pome.n.01'), Synset('apple_tree.n.01')]\n",
      "Synset('edible_fruit.n.01') [Synset('fruit.n.01'), Synset('produce.n.01')]\n",
      "Synset('pome.n.01') [Synset('fruit.n.01')]\n",
      "Synset('fruit.n.01') [Synset('reproductive_structure.n.01')]\n",
      "Synset('produce.n.01') [Synset('food.n.02')]\n",
      "[[Synset('apple.n.01'), Synset('edible_fruit.n.01'), Synset('fruit.n.01')], [Synset('apple.n.01'), Synset('pome.n.01'), Synset('fruit.n.01')], [Synset('apple.n.01'), Synset('edible_fruit.n.01'), Synset('produce.n.01')]]\n",
      "\n",
      "Relations hypernyms\n",
      "Synset('apple.n.01') Synset('edible_fruit.n.01')\n",
      "Synset('edible_fruit.n.01') Synset('fruit.n.01')\n",
      "Synset('apple.n.01') Synset('pome.n.01')\n",
      "Synset('pome.n.01') Synset('fruit.n.01')\n",
      "Synset('edible_fruit.n.01') Synset('produce.n.01')\n",
      "--------------------------------------------------------------\n",
      "Synset('apple.n.01') [Synset('cooking_apple.n.01'), Synset('crab_apple.n.03'), Synset('eating_apple.n.01')]\n",
      "Synset('cooking_apple.n.01') [Synset('bramley's_seedling.n.01'), Synset('lane's_prince_albert.n.01'), Synset('newtown_wonder.n.01'), Synset('rome_beauty.n.01')]\n",
      "Synset('crab_apple.n.03') []\n",
      "Synset('eating_apple.n.01') [Synset('baldwin.n.03'), Synset('cortland.n.01'), Synset('delicious.n.01'), Synset('empire.n.05'), Synset('granny_smith.n.01'), Synset('grimes'_golden.n.01'), Synset('jonathan.n.01'), Synset('mcintosh.n.01'), Synset('northern_spy.n.01'), Synset('pearmain.n.01'), Synset('pippin.n.01'), Synset('prima.n.01'), Synset('stayman.n.01'), Synset('stayman_winesap.n.01'), Synset('winesap.n.01')]\n",
      "Synset('bramley's_seedling.n.01') []\n",
      "Synset('lane's_prince_albert.n.01') []\n",
      "Synset('newtown_wonder.n.01') []\n",
      "Synset('baldwin.n.03') []\n",
      "Synset('cortland.n.01') []\n",
      "Synset('delicious.n.01') [Synset('golden_delicious.n.01'), Synset('red_delicious.n.01')]\n",
      "Synset('golden_delicious.n.01') []\n",
      "Synset('red_delicious.n.01') []\n",
      "\n",
      "Relations hyponyms\n",
      "Synset('apple.n.01') Synset('cooking_apple.n.01')\n",
      "Synset('cooking_apple.n.01') Synset('bramley's_seedling.n.01')\n",
      "Synset('apple.n.01') Synset('crab_apple.n.03')\n",
      "Synset('apple.n.01') Synset('eating_apple.n.01')\n",
      "Synset('eating_apple.n.01') Synset('baldwin.n.03')\n",
      "Synset('cooking_apple.n.01') Synset('lane's_prince_albert.n.01')\n",
      "Synset('cooking_apple.n.01') Synset('newtown_wonder.n.01')\n",
      "Synset('eating_apple.n.01') Synset('cortland.n.01')\n",
      "Synset('eating_apple.n.01') Synset('delicious.n.01')\n",
      "Synset('delicious.n.01') Synset('golden_delicious.n.01')\n",
      "Synset('delicious.n.01') Synset('red_delicious.n.01')\n",
      "\n",
      "\n",
      "Same\n",
      "apple [Synset('ackee.n.01'), Synset('anchovy_pear.n.02'), Synset('apricot.n.02'), Synset('avocado.n.01'), Synset('banana.n.02'), Synset('barbados_gooseberry.n.02'), Synset('berry.n.01'), Synset('breadfruit.n.02'), Synset('canistel.n.02'), Synset('carambola.n.02'), Synset('carissa_plum.n.01'), Synset('ceriman.n.02'), Synset('cherry.n.03'), Synset('citrus.n.01'), Synset('cling.n.01'), Synset('cocoa_plum.n.02'), Synset('custard_apple.n.02'), Synset('date.n.08'), Synset('dried_fruit.n.01'), Synset('durian.n.02'), Synset('elderberry.n.02'), Synset('feijoa.n.02'), Synset('fig.n.04'), Synset('freestone.n.01'), Synset('garambulla.n.02'), Synset('genip.n.02'), Synset('genipap.n.01'), Synset('grape.n.01'), Synset('guava.n.03'), Synset('hog_plum.n.03'), Synset('hog_plum.n.04'), Synset('jaboticaba.n.02'), Synset('jackfruit.n.02'), Synset('jujube.n.02'), Synset('kai_apple.n.01'), Synset('ketembilla.n.02'), Synset('kiwi.n.03'), Synset('lanseh.n.01'), Synset('litchi.n.02'), Synset('longanberry.n.02'), Synset('loquat.n.02'), Synset('mamey.n.02'), Synset('mango.n.02'), Synset('mangosteen.n.02'), Synset('marang.n.02'), Synset('medlar.n.03'), Synset('medlar.n.04'), Synset('melon.n.01'), Synset('mombin.n.02'), Synset('nectarine.n.02'), Synset('papaw.n.02'), Synset('papaya.n.02'), Synset('passion_fruit.n.01'), Synset('peach.n.03'), Synset('pear.n.01'), Synset('pineapple.n.02'), Synset('pitahaya.n.02'), Synset('plum.n.02'), Synset('plumcot.n.02'), Synset('pomegranate.n.02'), Synset('prickly_pear.n.02'), Synset('pulasan.n.02'), Synset('quandong.n.04'), Synset('quince.n.02'), Synset('rambutan.n.02'), Synset('rose_apple.n.02'), Synset('sapodilla.n.02'), Synset('sapote.n.02'), Synset('sorb.n.01'), Synset('sour_gourd.n.02'), Synset('sour_gourd.n.03'), Synset('tamarind.n.02'), Synset('tangelo.n.02'), Synset('windfall.n.01'), Synset('pear.n.01'), Synset('quince.n.02'), Synset('crab_apple.n.01'), Synset('wild_apple.n.01')]\n",
      "\n",
      "\n",
      "Same\n",
      "edible_fruit [Synset('accessory_fruit.n.01'), Synset('achene.n.01'), Synset('acorn.n.01'), Synset('aggregate_fruit.n.01'), Synset('berry.n.02'), Synset('buckthorn_berry.n.01'), Synset('buffalo_nut.n.01'), Synset('chokecherry.n.01'), Synset('cubeb.n.01'), Synset('drupe.n.01'), Synset('ear.n.05'), Synset('fruitlet.n.01'), Synset('gourd.n.02'), Synset('hagberry.n.01'), Synset('hip.n.05'), Synset('juniper_berry.n.01'), Synset('marasca.n.01'), Synset('may_apple.n.01'), Synset('olive.n.01'), Synset('pod.n.02'), Synset('pome.n.01'), Synset('prairie_gourd.n.01'), Synset('pyxidium.n.01'), Synset('quandong.n.02'), Synset('rowanberry.n.01'), Synset('schizocarp.n.01'), Synset('seed.n.01'), Synset('wild_cherry.n.01'), Synset('eater.n.02'), Synset('vegetable.n.01')]\n",
      "pome [Synset('accessory_fruit.n.01'), Synset('achene.n.01'), Synset('acorn.n.01'), Synset('aggregate_fruit.n.01'), Synset('berry.n.02'), Synset('buckthorn_berry.n.01'), Synset('buffalo_nut.n.01'), Synset('chokecherry.n.01'), Synset('cubeb.n.01'), Synset('drupe.n.01'), Synset('ear.n.05'), Synset('edible_fruit.n.01'), Synset('fruitlet.n.01'), Synset('gourd.n.02'), Synset('hagberry.n.01'), Synset('hip.n.05'), Synset('juniper_berry.n.01'), Synset('marasca.n.01'), Synset('may_apple.n.01'), Synset('olive.n.01'), Synset('pod.n.02'), Synset('prairie_gourd.n.01'), Synset('pyxidium.n.01'), Synset('quandong.n.02'), Synset('rowanberry.n.01'), Synset('schizocarp.n.01'), Synset('seed.n.01'), Synset('wild_cherry.n.01')]\n",
      "\n",
      "\n",
      "Same\n",
      "bramley's_seedling [Synset('lane's_prince_albert.n.01'), Synset('newtown_wonder.n.01'), Synset('rome_beauty.n.01')]\n",
      "lane's_prince_albert [Synset('bramley's_seedling.n.01'), Synset('newtown_wonder.n.01'), Synset('rome_beauty.n.01')]\n",
      "newtown_wonder [Synset('bramley's_seedling.n.01'), Synset('lane's_prince_albert.n.01'), Synset('rome_beauty.n.01')]\n",
      "baldwin [Synset('cortland.n.01'), Synset('delicious.n.01'), Synset('empire.n.05'), Synset('granny_smith.n.01'), Synset('grimes'_golden.n.01'), Synset('jonathan.n.01'), Synset('mcintosh.n.01'), Synset('northern_spy.n.01'), Synset('pearmain.n.01'), Synset('pippin.n.01'), Synset('prima.n.01'), Synset('stayman.n.01'), Synset('stayman_winesap.n.01'), Synset('winesap.n.01')]\n",
      "cortland [Synset('baldwin.n.03'), Synset('delicious.n.01'), Synset('empire.n.05'), Synset('granny_smith.n.01'), Synset('grimes'_golden.n.01'), Synset('jonathan.n.01'), Synset('mcintosh.n.01'), Synset('northern_spy.n.01'), Synset('pearmain.n.01'), Synset('pippin.n.01'), Synset('prima.n.01'), Synset('stayman.n.01'), Synset('stayman_winesap.n.01'), Synset('winesap.n.01')]\n",
      "delicious [Synset('baldwin.n.03'), Synset('cortland.n.01'), Synset('empire.n.05'), Synset('granny_smith.n.01'), Synset('grimes'_golden.n.01'), Synset('jonathan.n.01'), Synset('mcintosh.n.01'), Synset('northern_spy.n.01'), Synset('pearmain.n.01'), Synset('pippin.n.01'), Synset('prima.n.01'), Synset('stayman.n.01'), Synset('stayman_winesap.n.01'), Synset('winesap.n.01')]\n"
     ]
    }
   ],
   "source": [
    "from graphCreation.main import generateGraph\n",
    "generateGraph(\"apple\",[[1,4],[2,2]], [[1,5],[2,3],[3,5]], [[0,5],[1,5],[-2,3]]) # change same for 30 200 10 "
   ]
  },
  {
   "cell_type": "code",
   "execution_count": 4,
   "metadata": {
    "scrolled": true
   },
   "outputs": [
    {
     "data": {
      "application/javascript": [
       "var link = document.createElement(\"link\");\n",
       "\tlink.ref = \"stylesheet\";\n",
       "\tlink.type = \"text/css\";\n",
       "\tlink.href = \"https://cdnjs.cloudflare.com/ajax/libs/vis/4.8.2/vis.css\";\n",
       "\tdocument.head.appendChild(link);\n",
       "require.config({     paths: {         vis: '//cdnjs.cloudflare.com/ajax/libs/vis/4.8.2/vis.min'     } }); require(['vis'], function(vis) {  window.vis = vis; }); "
      ],
      "text/plain": [
       "<IPython.core.display.Javascript object>"
      ]
     },
     "metadata": {},
     "output_type": "display_data"
    },
    {
     "data": {
      "text/html": [
       "<div id=\"da504c5e-c2d3-4244-9650-21cf80b8a2d0\" style=\"height: 400px;\"></div>\n",
       "\n",
       "<script type=\"text/javascript\">\n",
       "\n",
       "    var nodes = [{\"id\": 7444, \"label\": \"mombin\", \"group\": \"Term\", \"title\": \"(_7444:Term {definition: 'common tropical American shrub or small tree with purplish fruit', name: 'mombin'})\"}, {\"id\": 7226, \"label\": \"apple\", \"group\": \"Term\", \"title\": \"(_7226:Term {definition: 'fruit with red or yellow or green skin and sweet to tart crisp whitish flesh', name: 'apple'})\"}, {\"id\": 7452, \"label\": \"chokecherry\", \"group\": \"Term\", \"title\": \"(_7452:Term {definition: 'the fruit of the chokecherry tree', name: 'chokecherry'})\"}, {\"id\": 7228, \"label\": \"pome\", \"group\": \"Term\", \"title\": \"(_7228:Term {definition: 'a fleshy fruit (apple or pear or related fruits) having seed chambers and an outer fleshy part', name: 'pome'})\"}, {\"id\": 7433, \"label\": \"lane's_prince_albert\", \"group\": \"Term\", \"title\": \"(_7433:Term {definition: 'apple used primarily in cooking', name: \\\"lane's_prince_albert\\\"})\"}, {\"id\": 7434, \"label\": \"newtown_wonder\", \"group\": \"Term\", \"title\": \"(_7434:Term {definition: 'apple used primarily in cooking', name: 'newtown_wonder'})\"}, {\"id\": 7503, \"label\": \"rome_beauty\", \"group\": \"Term\", \"title\": \"(_7503:Term {definition: 'large red apple used primarily for baking', name: 'rome_beauty'})\"}, {\"id\": 7432, \"label\": \"bramley's_seedling\", \"group\": \"Term\", \"title\": \"(_7432:Term {definition: 'very large cooking apple', name: \\\"bramley's_seedling\\\"})\"}, {\"id\": 7429, \"label\": \"cooking_apple\", \"group\": \"Term\", \"title\": \"(_7429:Term {definition: 'an apple used primarily in cooking for pies and applesauce etc', name: 'cooking_apple'})\"}, {\"id\": 7504, \"label\": \"stayman\", \"group\": \"Term\", \"title\": \"(_7504:Term {definition: 'apple grown chiefly in the Shenandoah Valley', name: 'stayman'})\"}, {\"id\": 7435, \"label\": \"baldwin\", \"group\": \"Term\", \"title\": \"(_7435:Term {definition: 'United States author who was an outspoken critic of racism (1924-1987)', name: 'baldwin'})\"}, {\"id\": 7448, \"label\": \"hagberry\", \"group\": \"Term\", \"title\": \"(_7448:Term {definition: 'small cherry much liked by birds', name: 'hagberry'})\"}, {\"id\": 7227, \"label\": \"edible_fruit\", \"group\": \"Term\", \"title\": \"(_7227:Term {definition: 'edible reproductive body of a seed plant especially one having sweet flesh', name: 'edible_fruit'})\"}, {\"id\": 7506, \"label\": \"winesap\", \"group\": \"Term\", \"title\": \"(_7506:Term {definition: 'crisp apple with dark red skin', name: 'winesap'})\"}, {\"id\": 7442, \"label\": \"loquat\", \"group\": \"Term\", \"title\": \"(_7442:Term {definition: 'evergreen tree of warm regions having fuzzy yellow olive-sized fruit with a large free stone; native to China and Japan', name: 'loquat'})\"}, {\"id\": 7288, \"label\": \"prima\", \"group\": \"Term\", \"title\": \"(_7288:Term {definition: 'used primarily as eating apples', name: 'prima'})\"}, {\"id\": 7437, \"label\": \"delicious\", \"group\": \"Term\", \"title\": \"(_7437:Term {definition: 'variety of sweet eating apples', name: 'delicious'})\"}, {\"id\": 7447, \"label\": \"marasca\", \"group\": \"Term\", \"title\": \"(_7447:Term {definition: 'small bitter fruit of the marasca cherry tree from whose juice maraschino liqueur is made', name: 'marasca'})\"}, {\"id\": 7507, \"label\": \"stayman_winesap\", \"group\": \"Term\", \"title\": \"(_7507:Term {definition: 'crisp tart apple; good for eating raw and suitable for cooking', name: 'stayman_winesap'})\"}, {\"id\": 7436, \"label\": \"cortland\", \"group\": \"Term\", \"title\": \"(_7436:Term {definition: 'large apple with a red skin', name: 'cortland'})\"}, {\"id\": 7430, \"label\": \"crab_apple\", \"group\": \"Term\", \"title\": \"(_7430:Term {definition: 'any of numerous varieties of crab apples cultivated for their small acidic (usually bright red) fruit used for preserves or as ornamentals for their blossoms', name: 'crab_apple'})\"}, {\"id\": 7445, \"label\": \"prairie_gourd\", \"group\": \"Term\", \"title\": \"(_7445:Term {definition: 'small hard green-and-white inedible fruit of the prairie gourd plant', name: 'prairie_gourd'})\"}, {\"id\": 7449, \"label\": \"schizocarp\", \"group\": \"Term\", \"title\": \"(_7449:Term {definition: 'a dry dehiscent fruit that at maturity splits into two or more parts each with a single seed', name: 'schizocarp'})\"}, {\"id\": 7443, \"label\": \"sour_gourd\", \"group\": \"Term\", \"title\": \"(_7443:Term {definition: 'Australian tree having an agreeably acid fruit that resembles a gourd', name: 'sour_gourd'})\"}, {\"id\": 7289, \"label\": \"pearmain\", \"group\": \"Term\", \"title\": \"(_7289:Term {definition: 'any of several varieties of apples with red skins', name: 'pearmain'})\"}, {\"id\": 7431, \"label\": \"eating_apple\", \"group\": \"Term\", \"title\": \"(_7431:Term {definition: 'an apple used primarily for eating raw without cooking', name: 'eating_apple'})\"}, {\"id\": 7438, \"label\": \"golden_delicious\", \"group\": \"Term\", \"title\": \"(_7438:Term {definition: 'a sweet eating apple with yellow skin', name: 'golden_delicious'})\"}, {\"id\": 7287, \"label\": \"jonathan\", \"group\": \"Term\", \"title\": \"(_7287:Term {definition: 'red late-ripening apple; primarily eaten raw', name: 'jonathan'})\"}, {\"id\": 7446, \"label\": \"may_apple\", \"group\": \"Term\", \"title\": \"(_7446:Term {definition: 'edible but insipid fruit of the May apple plant', name: 'may_apple'})\"}, {\"id\": 7505, \"label\": \"mcintosh\", \"group\": \"Term\", \"title\": \"(_7505:Term {definition: 'early-ripening apple popular in the northeastern United States; primarily eaten raw but suitable for applesauce', name: 'mcintosh'})\"}, {\"id\": 7286, \"label\": \"grimes'_golden\", \"group\": \"Term\", \"title\": \"(_7286:Term {definition: 'yellow apple that ripens in late autumn; eaten raw', name: \\\"grimes'_golden\\\"})\"}, {\"id\": 7285, \"label\": \"produce\", \"group\": \"Term\", \"title\": \"(_7285:Term {definition: 'fresh fruits and vegetable grown for the market', name: 'produce'})\"}, {\"id\": 7284, \"label\": \"fruit\", \"group\": \"Term\", \"title\": \"(_7284:Term {definition: 'the ripened reproductive body of a seed plant', name: 'fruit'})\"}, {\"id\": 7450, \"label\": \"berry\", \"group\": \"Term\", \"title\": \"(_7450:Term {definition: 'any of numerous small and pulpy edible fruits; used as desserts or in making jams and jellies and preserves', name: 'berry'})\"}, {\"id\": 7502, \"label\": \"achene\", \"group\": \"Term\", \"title\": \"(_7502:Term {definition: 'small dry indehiscent fruit with the seed distinct from the fruit wall', name: 'achene'})\"}, {\"id\": 7441, \"label\": \"freestone\", \"group\": \"Term\", \"title\": \"(_7441:Term {definition: 'fruit (especially peach) whose flesh does not adhere to the pit', name: 'freestone'})\"}, {\"id\": 7440, \"label\": \"quince\", \"group\": \"Term\", \"title\": \"(_7440:Term {definition: 'small Asian tree with pinkish flowers and pear-shaped fruit; widely cultivated', name: 'quince'})\"}, {\"id\": 7439, \"label\": \"red_delicious\", \"group\": \"Term\", \"title\": \"(_7439:Term {definition: 'a sweet eating apple with bright red skin; most widely grown apple worldwide', name: 'red_delicious'})\"}, {\"id\": 7451, \"label\": \"gourd\", \"group\": \"Term\", \"title\": \"(_7451:Term {definition: 'bottle made from the dried shell of a bottle gourd', name: 'gourd'})\"}];\n",
       "    var edges = [{\"from\": 7444, \"to\": 7226, \"label\": \"SAME\"}, {\"from\": 7452, \"to\": 7228, \"label\": \"SAME\"}, {\"from\": 7433, \"to\": 7434, \"label\": \"SAME\"}, {\"from\": 7433, \"to\": 7503, \"label\": \"SAME\"}, {\"from\": 7433, \"to\": 7432, \"label\": \"SAME\"}, {\"from\": 7433, \"to\": 7429, \"label\": \"ISA\"}, {\"from\": 7504, \"to\": 7435, \"label\": \"SAME\"}, {\"from\": 7448, \"to\": 7227, \"label\": \"SAME\"}, {\"from\": 7506, \"to\": 7435, \"label\": \"SAME\"}, {\"from\": 7442, \"to\": 7226, \"label\": \"SAME\"}, {\"from\": 7288, \"to\": 7437, \"label\": \"SAME\"}, {\"from\": 7429, \"to\": 7226, \"label\": \"ISA\"}, {\"from\": 7447, \"to\": 7228, \"label\": \"SAME\"}, {\"from\": 7447, \"to\": 7227, \"label\": \"SAME\"}, {\"from\": 7507, \"to\": 7436, \"label\": \"SAME\"}, {\"from\": 7432, \"to\": 7503, \"label\": \"SAME\"}, {\"from\": 7432, \"to\": 7433, \"label\": \"SAME\"}, {\"from\": 7432, \"to\": 7434, \"label\": \"SAME\"}, {\"from\": 7432, \"to\": 7429, \"label\": \"ISA\"}, {\"from\": 7430, \"to\": 7226, \"label\": \"ISA\"}, {\"from\": 7445, \"to\": 7227, \"label\": \"SAME\"}, {\"from\": 7449, \"to\": 7227, \"label\": \"SAME\"}, {\"from\": 7443, \"to\": 7226, \"label\": \"SAME\"}, {\"from\": 7437, \"to\": 7435, \"label\": \"SAME\"}, {\"from\": 7437, \"to\": 7289, \"label\": \"SAME\"}, {\"from\": 7437, \"to\": 7288, \"label\": \"SAME\"}, {\"from\": 7437, \"to\": 7431, \"label\": \"ISA\"}, {\"from\": 7434, \"to\": 7503, \"label\": \"SAME\"}, {\"from\": 7434, \"to\": 7433, \"label\": \"SAME\"}, {\"from\": 7434, \"to\": 7432, \"label\": \"SAME\"}, {\"from\": 7434, \"to\": 7429, \"label\": \"ISA\"}, {\"from\": 7438, \"to\": 7437, \"label\": \"ISA\"}, {\"from\": 7287, \"to\": 7436, \"label\": \"SAME\"}, {\"from\": 7446, \"to\": 7227, \"label\": \"SAME\"}, {\"from\": 7505, \"to\": 7435, \"label\": \"SAME\"}, {\"from\": 7286, \"to\": 7436, \"label\": \"SAME\"}, {\"from\": 7227, \"to\": 7449, \"label\": \"SAME\"}, {\"from\": 7227, \"to\": 7448, \"label\": \"SAME\"}, {\"from\": 7227, \"to\": 7447, \"label\": \"SAME\"}, {\"from\": 7227, \"to\": 7446, \"label\": \"SAME\"}, {\"from\": 7227, \"to\": 7445, \"label\": \"SAME\"}, {\"from\": 7227, \"to\": 7285, \"label\": \"ISA\"}, {\"from\": 7227, \"to\": 7284, \"label\": \"ISA\"}, {\"from\": 7450, \"to\": 7228, \"label\": \"SAME\"}, {\"from\": 7502, \"to\": 7228, \"label\": \"SAME\"}, {\"from\": 7441, \"to\": 7226, \"label\": \"SAME\"}, {\"from\": 7440, \"to\": 7226, \"label\": \"SAME\"}, {\"from\": 7439, \"to\": 7437, \"label\": \"ISA\"}, {\"from\": 7289, \"to\": 7437, \"label\": \"SAME\"}, {\"from\": 7226, \"to\": 7444, \"label\": \"SAME\"}, {\"from\": 7226, \"to\": 7443, \"label\": \"SAME\"}, {\"from\": 7226, \"to\": 7442, \"label\": \"SAME\"}, {\"from\": 7226, \"to\": 7441, \"label\": \"SAME\"}, {\"from\": 7226, \"to\": 7440, \"label\": \"SAME\"}, {\"from\": 7226, \"to\": 7228, \"label\": \"ISA\"}, {\"from\": 7226, \"to\": 7227, \"label\": \"ISA\"}, {\"from\": 7435, \"to\": 7437, \"label\": \"SAME\"}, {\"from\": 7435, \"to\": 7506, \"label\": \"SAME\"}, {\"from\": 7435, \"to\": 7505, \"label\": \"SAME\"}, {\"from\": 7435, \"to\": 7504, \"label\": \"SAME\"}, {\"from\": 7435, \"to\": 7431, \"label\": \"ISA\"}, {\"from\": 7228, \"to\": 7502, \"label\": \"SAME\"}, {\"from\": 7228, \"to\": 7447, \"label\": \"SAME\"}, {\"from\": 7228, \"to\": 7452, \"label\": \"SAME\"}, {\"from\": 7228, \"to\": 7451, \"label\": \"SAME\"}, {\"from\": 7228, \"to\": 7450, \"label\": \"SAME\"}, {\"from\": 7228, \"to\": 7284, \"label\": \"ISA\"}, {\"from\": 7431, \"to\": 7226, \"label\": \"ISA\"}, {\"from\": 7451, \"to\": 7228, \"label\": \"SAME\"}, {\"from\": 7436, \"to\": 7287, \"label\": \"SAME\"}, {\"from\": 7436, \"to\": 7286, \"label\": \"SAME\"}, {\"from\": 7436, \"to\": 7507, \"label\": \"SAME\"}, {\"from\": 7436, \"to\": 7431, \"label\": \"ISA\"}, {\"from\": 7503, \"to\": 7434, \"label\": \"SAME\"}, {\"from\": 7503, \"to\": 7433, \"label\": \"SAME\"}, {\"from\": 7503, \"to\": 7432, \"label\": \"SAME\"}];\n",
       "\n",
       "    var container = document.getElementById(\"da504c5e-c2d3-4244-9650-21cf80b8a2d0\");\n",
       "\n",
       "    var data = {\n",
       "        nodes: nodes,\n",
       "        edges: edges\n",
       "    };\n",
       "\n",
       "    var options = {\n",
       "    nodes: {\n",
       "        shape: 'dot',\n",
       "        size: 25,\n",
       "        font: {\n",
       "            size: 14\n",
       "        }\n",
       "    },\n",
       "    edges: {\n",
       "        font: {\n",
       "            size: 14,\n",
       "            align: 'middle'\n",
       "        },\n",
       "        color: 'gray',\n",
       "        arrows: {\n",
       "            to: {\n",
       "                enabled: true,\n",
       "                scaleFactor: 0.5\n",
       "            }\n",
       "        },\n",
       "        smooth: {\n",
       "            enabled: false\n",
       "        }\n",
       "    },\n",
       "    physics: {\n",
       "        enabled: true\n",
       "        }\n",
       "    };\n",
       "\n",
       "    var network = new vis.Network(container, data, options);\n",
       "\n",
       "</script>\n"
      ],
      "text/plain": [
       "<IPython.core.display.HTML object>"
      ]
     },
     "execution_count": 4,
     "metadata": {},
     "output_type": "execute_result"
    }
   ],
   "source": [
    "import neo4jupyter\n",
    "neo4jupyter.init_notebook_mode()\n",
    "neo4jupyter.draw(connect(), {\"Term\": \"name\"})"
   ]
  },
  {
   "cell_type": "code",
   "execution_count": 5,
   "metadata": {},
   "outputs": [
    {
     "name": "stdout",
     "output_type": "stream",
     "text": [
      "True\n",
      "Synset('apple.n.01') [Synset('edible_fruit.n.01'), Synset('pome.n.01'), Synset('apple_tree.n.01')]\n",
      "Synset('edible_fruit.n.01') [Synset('fruit.n.01'), Synset('produce.n.01')]\n",
      "Synset('pome.n.01') [Synset('fruit.n.01')]\n",
      "Synset('apple_tree.n.01') [Synset('fruit_tree.n.01')]\n",
      "Synset('fruit.n.01') [Synset('reproductive_structure.n.01')]\n",
      "Synset('produce.n.01') [Synset('food.n.02')]\n",
      "Synset('fruit_tree.n.01') [Synset('angiospermous_tree.n.01')]\n",
      "Synset('reproductive_structure.n.01') [Synset('plant_organ.n.01')]\n",
      "Synset('food.n.02') [Synset('solid.n.01')]\n",
      "Synset('angiospermous_tree.n.01') [Synset('tree.n.01')]\n",
      "Synset('plant_organ.n.01') [Synset('plant_part.n.01')]\n",
      "Synset('solid.n.01') [Synset('matter.n.03')]\n",
      "Synset('tree.n.01') [Synset('woody_plant.n.01')]\n",
      "Synset('plant_part.n.01') [Synset('natural_object.n.01')]\n",
      "Synset('matter.n.03') [Synset('physical_entity.n.01')]\n",
      "Synset('woody_plant.n.01') [Synset('vascular_plant.n.01')]\n",
      "[[Synset('apple.n.01'), Synset('edible_fruit.n.01'), Synset('fruit.n.01'), Synset('reproductive_structure.n.01'), Synset('plant_organ.n.01'), Synset('plant_part.n.01')], [Synset('apple.n.01'), Synset('pome.n.01'), Synset('fruit.n.01')], [Synset('apple.n.01'), Synset('apple_tree.n.01'), Synset('fruit_tree.n.01'), Synset('angiospermous_tree.n.01'), Synset('tree.n.01'), Synset('woody_plant.n.01')], [Synset('apple.n.01'), Synset('edible_fruit.n.01'), Synset('produce.n.01'), Synset('food.n.02'), Synset('solid.n.01'), Synset('matter.n.03')]]\n",
      "\n",
      "Relations hypernyms\n",
      "Synset('apple.n.01') Synset('edible_fruit.n.01')\n",
      "Synset('edible_fruit.n.01') Synset('plant_part.n.01')\n",
      "Synset('apple.n.01') Synset('pome.n.01')\n",
      "Synset('apple.n.01') Synset('apple_tree.n.01')\n",
      "Synset('apple_tree.n.01') Synset('woody_plant.n.01')\n",
      "Synset('edible_fruit.n.01') Synset('matter.n.03')\n",
      "--------------------------------------------------------------\n"
     ]
    },
    {
     "data": {
      "text/plain": [
       "{(0, 0): [Synset('apple.n.01'), Synset('apple.n.02')],\n",
       " (1, 5): [Synset('edible_fruit.n.01'),\n",
       "  Synset('pome.n.01'),\n",
       "  Synset('apple_tree.n.01')],\n",
       " (5, 3): [Synset('plant_part.n.01'),\n",
       "  Synset('matter.n.03'),\n",
       "  Synset('woody_plant.n.01')]}"
      ]
     },
     "execution_count": 5,
     "metadata": {},
     "output_type": "execute_result"
    }
   ],
   "source": [
    "from graphCreation.hypernymsCreation.generateHypernyms import *\n",
    "deleteAll(connect())\n",
    "generateHypernyms([[1,5],[5,3]], \"apple\", connect())"
   ]
  },
  {
   "cell_type": "code",
   "execution_count": 6,
   "metadata": {},
   "outputs": [
    {
     "data": {
      "text/html": [
       "<div id=\"57c0ea1d-7d5a-4441-ab5d-1b8a9eb74c30\" style=\"height: 400px;\"></div>\n",
       "\n",
       "<script type=\"text/javascript\">\n",
       "\n",
       "    var nodes = [{\"id\": 7169, \"label\": \"woody_plant\", \"group\": \"Term\", \"title\": \"(_7169:Term {definition: 'a plant having hard lignified tissues or woody parts especially stems', name: 'woody_plant'})\"}, {\"id\": 7453, \"label\": \"edible_fruit\", \"group\": \"Term\", \"title\": \"(_7453:Term {definition: 'edible reproductive body of a seed plant especially one having sweet flesh', name: 'edible_fruit'})\"}, {\"id\": 7168, \"label\": \"matter\", \"group\": \"Term\", \"title\": \"(_7168:Term {definition: 'a vaguely specified concern', name: 'matter'})\"}, {\"id\": 7161, \"label\": \"plant_part\", \"group\": \"Term\", \"title\": \"(_7161:Term {definition: 'any part of a plant or fungus', name: 'plant_part'})\"}, {\"id\": 7401, \"label\": \"apple\", \"group\": \"Term\", \"title\": \"(_7401:Term {definition: 'fruit with red or yellow or green skin and sweet to tart crisp whitish flesh', name: 'apple'})\"}, {\"id\": 7160, \"label\": \"apple_tree\", \"group\": \"Term\", \"title\": \"(_7160:Term {definition: 'any tree of the genus Malus especially those bearing firm rounded edible fruits', name: 'apple_tree'})\"}, {\"id\": 7454, \"label\": \"pome\", \"group\": \"Term\", \"title\": \"(_7454:Term {definition: 'a fleshy fruit (apple or pear or related fruits) having seed chambers and an outer fleshy part', name: 'pome'})\"}];\n",
       "    var edges = [{\"from\": 7453, \"to\": 7168, \"label\": \"ISA\"}, {\"from\": 7453, \"to\": 7161, \"label\": \"ISA\"}, {\"from\": 7401, \"to\": 7160, \"label\": \"ISA\"}, {\"from\": 7401, \"to\": 7454, \"label\": \"ISA\"}, {\"from\": 7401, \"to\": 7453, \"label\": \"ISA\"}, {\"from\": 7160, \"to\": 7169, \"label\": \"ISA\"}];\n",
       "\n",
       "    var container = document.getElementById(\"57c0ea1d-7d5a-4441-ab5d-1b8a9eb74c30\");\n",
       "\n",
       "    var data = {\n",
       "        nodes: nodes,\n",
       "        edges: edges\n",
       "    };\n",
       "\n",
       "    var options = {\n",
       "    nodes: {\n",
       "        shape: 'dot',\n",
       "        size: 25,\n",
       "        font: {\n",
       "            size: 14\n",
       "        }\n",
       "    },\n",
       "    edges: {\n",
       "        font: {\n",
       "            size: 14,\n",
       "            align: 'middle'\n",
       "        },\n",
       "        color: 'gray',\n",
       "        arrows: {\n",
       "            to: {\n",
       "                enabled: true,\n",
       "                scaleFactor: 0.5\n",
       "            }\n",
       "        },\n",
       "        smooth: {\n",
       "            enabled: false\n",
       "        }\n",
       "    },\n",
       "    physics: {\n",
       "        enabled: true\n",
       "        }\n",
       "    };\n",
       "\n",
       "    var network = new vis.Network(container, data, options);\n",
       "\n",
       "</script>\n"
      ],
      "text/plain": [
       "<IPython.core.display.HTML object>"
      ]
     },
     "execution_count": 6,
     "metadata": {},
     "output_type": "execute_result"
    }
   ],
   "source": [
    "neo4jupyter.draw(connect(), {\"Term\": \"name\"})"
   ]
  },
  {
   "cell_type": "code",
   "execution_count": 7,
   "metadata": {},
   "outputs": [
    {
     "name": "stdout",
     "output_type": "stream",
     "text": [
      "Synset('apple.n.01') [Synset('cooking_apple.n.01'), Synset('crab_apple.n.03'), Synset('eating_apple.n.01')]\n",
      "Synset('cooking_apple.n.01') [Synset('bramley's_seedling.n.01'), Synset('lane's_prince_albert.n.01'), Synset('newtown_wonder.n.01'), Synset('rome_beauty.n.01')]\n",
      "Synset('crab_apple.n.03') []\n",
      "Synset('eating_apple.n.01') [Synset('baldwin.n.03'), Synset('cortland.n.01'), Synset('delicious.n.01'), Synset('empire.n.05'), Synset('granny_smith.n.01'), Synset('grimes'_golden.n.01'), Synset('jonathan.n.01'), Synset('mcintosh.n.01'), Synset('northern_spy.n.01'), Synset('pearmain.n.01'), Synset('pippin.n.01'), Synset('prima.n.01'), Synset('stayman.n.01'), Synset('stayman_winesap.n.01'), Synset('winesap.n.01')]\n",
      "Synset('bramley's_seedling.n.01') []\n",
      "Synset('lane's_prince_albert.n.01') []\n",
      "Synset('newtown_wonder.n.01') []\n",
      "Synset('baldwin.n.03') []\n",
      "Synset('cortland.n.01') []\n",
      "Synset('delicious.n.01') [Synset('golden_delicious.n.01'), Synset('red_delicious.n.01')]\n",
      "Synset('golden_delicious.n.01') []\n",
      "Synset('red_delicious.n.01') []\n",
      "\n",
      "Relations hyponyms\n",
      "Synset('apple.n.01') Synset('cooking_apple.n.01')\n",
      "Synset('cooking_apple.n.01') Synset('bramley's_seedling.n.01')\n",
      "Synset('apple.n.01') Synset('crab_apple.n.03')\n",
      "Synset('apple.n.01') Synset('eating_apple.n.01')\n",
      "Synset('eating_apple.n.01') Synset('baldwin.n.03')\n",
      "Synset('cooking_apple.n.01') Synset('lane's_prince_albert.n.01')\n",
      "Synset('cooking_apple.n.01') Synset('newtown_wonder.n.01')\n",
      "Synset('eating_apple.n.01') Synset('cortland.n.01')\n",
      "Synset('eating_apple.n.01') Synset('delicious.n.01')\n",
      "Synset('delicious.n.01') Synset('golden_delicious.n.01')\n",
      "Synset('delicious.n.01') Synset('red_delicious.n.01')\n"
     ]
    },
    {
     "data": {
      "text/plain": [
       "{(0, 0): [Synset('apple.n.01')],\n",
       " (1, 5): [Synset('cooking_apple.n.01'),\n",
       "  Synset('crab_apple.n.03'),\n",
       "  Synset('eating_apple.n.01')],\n",
       " (2, 3): [Synset('bramley's_seedling.n.01'),\n",
       "  Synset('lane's_prince_albert.n.01'),\n",
       "  Synset('newtown_wonder.n.01'),\n",
       "  Synset('baldwin.n.03'),\n",
       "  Synset('cortland.n.01'),\n",
       "  Synset('delicious.n.01')],\n",
       " (3, 5): [Synset('golden_delicious.n.01'), Synset('red_delicious.n.01')]}"
      ]
     },
     "execution_count": 7,
     "metadata": {},
     "output_type": "execute_result"
    }
   ],
   "source": [
    "from graphCreation.hyponymsCreation.generateHyponyms import *\n",
    "deleteAll(connect())\n",
    "generateHyponyms([[1,5],[2,3],[3,5]], \"apple\", connect())"
   ]
  },
  {
   "cell_type": "code",
   "execution_count": 8,
   "metadata": {},
   "outputs": [
    {
     "data": {
      "text/html": [
       "<div id=\"8fe678e9-e61f-4a3a-bdfd-7857282df7c4\" style=\"height: 400px;\"></div>\n",
       "\n",
       "<script type=\"text/javascript\">\n",
       "\n",
       "    var nodes = [{\"id\": 7455, \"label\": \"apple\", \"group\": \"Term\", \"title\": \"(_7455:Term {definition: 'fruit with red or yellow or green skin and sweet to tart crisp whitish flesh', name: 'apple'})\"}, {\"id\": 7458, \"label\": \"eating_apple\", \"group\": \"Term\", \"title\": \"(_7458:Term {definition: 'an apple used primarily for eating raw without cooking', name: 'eating_apple'})\"}, {\"id\": 7172, \"label\": \"golden_delicious\", \"group\": \"Term\", \"title\": \"(_7172:Term {definition: 'a sweet eating apple with yellow skin', name: 'golden_delicious'})\"}, {\"id\": 7171, \"label\": \"delicious\", \"group\": \"Term\", \"title\": \"(_7171:Term {definition: 'variety of sweet eating apples', name: 'delicious'})\"}, {\"id\": 7459, \"label\": \"red_delicious\", \"group\": \"Term\", \"title\": \"(_7459:Term {definition: 'a sweet eating apple with bright red skin; most widely grown apple worldwide', name: 'red_delicious'})\"}, {\"id\": 7457, \"label\": \"crab_apple\", \"group\": \"Term\", \"title\": \"(_7457:Term {definition: 'any of numerous varieties of crab apples cultivated for their small acidic (usually bright red) fruit used for preserves or as ornamentals for their blossoms', name: 'crab_apple'})\"}, {\"id\": 7456, \"label\": \"cooking_apple\", \"group\": \"Term\", \"title\": \"(_7456:Term {definition: 'an apple used primarily in cooking for pies and applesauce etc', name: 'cooking_apple'})\"}, {\"id\": 7468, \"label\": \"newtown_wonder\", \"group\": \"Term\", \"title\": \"(_7468:Term {definition: 'apple used primarily in cooking', name: 'newtown_wonder'})\"}, {\"id\": 7466, \"label\": \"bramley's_seedling\", \"group\": \"Term\", \"title\": \"(_7466:Term {definition: 'very large cooking apple', name: \\\"bramley's_seedling\\\"})\"}, {\"id\": 7469, \"label\": \"baldwin\", \"group\": \"Term\", \"title\": \"(_7469:Term {definition: 'United States author who was an outspoken critic of racism (1924-1987)', name: 'baldwin'})\"}, {\"id\": 7467, \"label\": \"lane's_prince_albert\", \"group\": \"Term\", \"title\": \"(_7467:Term {definition: 'apple used primarily in cooking', name: \\\"lane's_prince_albert\\\"})\"}, {\"id\": 7170, \"label\": \"cortland\", \"group\": \"Term\", \"title\": \"(_7170:Term {definition: 'large apple with a red skin', name: 'cortland'})\"}];\n",
       "    var edges = [{\"from\": 7458, \"to\": 7455, \"label\": \"ISA\"}, {\"from\": 7172, \"to\": 7171, \"label\": \"ISA\"}, {\"from\": 7459, \"to\": 7171, \"label\": \"ISA\"}, {\"from\": 7457, \"to\": 7455, \"label\": \"ISA\"}, {\"from\": 7456, \"to\": 7455, \"label\": \"ISA\"}, {\"from\": 7468, \"to\": 7456, \"label\": \"ISA\"}, {\"from\": 7171, \"to\": 7458, \"label\": \"ISA\"}, {\"from\": 7466, \"to\": 7456, \"label\": \"ISA\"}, {\"from\": 7469, \"to\": 7458, \"label\": \"ISA\"}, {\"from\": 7467, \"to\": 7456, \"label\": \"ISA\"}, {\"from\": 7170, \"to\": 7458, \"label\": \"ISA\"}];\n",
       "\n",
       "    var container = document.getElementById(\"8fe678e9-e61f-4a3a-bdfd-7857282df7c4\");\n",
       "\n",
       "    var data = {\n",
       "        nodes: nodes,\n",
       "        edges: edges\n",
       "    };\n",
       "\n",
       "    var options = {\n",
       "    nodes: {\n",
       "        shape: 'dot',\n",
       "        size: 25,\n",
       "        font: {\n",
       "            size: 14\n",
       "        }\n",
       "    },\n",
       "    edges: {\n",
       "        font: {\n",
       "            size: 14,\n",
       "            align: 'middle'\n",
       "        },\n",
       "        color: 'gray',\n",
       "        arrows: {\n",
       "            to: {\n",
       "                enabled: true,\n",
       "                scaleFactor: 0.5\n",
       "            }\n",
       "        },\n",
       "        smooth: {\n",
       "            enabled: false\n",
       "        }\n",
       "    },\n",
       "    physics: {\n",
       "        enabled: true\n",
       "        }\n",
       "    };\n",
       "\n",
       "    var network = new vis.Network(container, data, options);\n",
       "\n",
       "</script>\n"
      ],
      "text/plain": [
       "<IPython.core.display.HTML object>"
      ]
     },
     "execution_count": 8,
     "metadata": {},
     "output_type": "execute_result"
    }
   ],
   "source": [
    "neo4jupyter.draw(connect(), {\"Term\": \"name\"})"
   ]
  },
  {
   "cell_type": "code",
   "execution_count": 9,
   "metadata": {},
   "outputs": [
    {
     "name": "stdout",
     "output_type": "stream",
     "text": [
      "True\n",
      "Synset('apple.n.01') [Synset('edible_fruit.n.01'), Synset('pome.n.01'), Synset('apple_tree.n.01')]\n",
      "Synset('edible_fruit.n.01') [Synset('fruit.n.01'), Synset('produce.n.01')]\n",
      "Synset('pome.n.01') [Synset('fruit.n.01')]\n",
      "Synset('apple_tree.n.01') [Synset('fruit_tree.n.01')]\n",
      "Synset('fruit.n.01') [Synset('reproductive_structure.n.01')]\n",
      "Synset('produce.n.01') [Synset('food.n.02')]\n",
      "Synset('fruit_tree.n.01') [Synset('angiospermous_tree.n.01')]\n",
      "[[Synset('apple.n.01'), Synset('edible_fruit.n.01'), Synset('fruit.n.01')], [Synset('apple.n.01'), Synset('pome.n.01'), Synset('fruit.n.01')], [Synset('apple.n.01'), Synset('apple_tree.n.01'), Synset('fruit_tree.n.01')], [Synset('apple.n.01'), Synset('edible_fruit.n.01'), Synset('produce.n.01')]]\n",
      "\n",
      "Relations hypernyms\n",
      "Synset('apple.n.01') Synset('edible_fruit.n.01')\n",
      "Synset('edible_fruit.n.01') Synset('fruit.n.01')\n",
      "Synset('apple.n.01') Synset('pome.n.01')\n",
      "Synset('pome.n.01') Synset('fruit.n.01')\n",
      "Synset('apple.n.01') Synset('apple_tree.n.01')\n",
      "Synset('apple_tree.n.01') Synset('fruit_tree.n.01')\n",
      "Synset('edible_fruit.n.01') Synset('produce.n.01')\n",
      "--------------------------------------------------------------\n",
      "Synset('apple.n.01') [Synset('cooking_apple.n.01'), Synset('crab_apple.n.03'), Synset('eating_apple.n.01')]\n",
      "Synset('cooking_apple.n.01') [Synset('bramley's_seedling.n.01'), Synset('lane's_prince_albert.n.01'), Synset('newtown_wonder.n.01'), Synset('rome_beauty.n.01')]\n",
      "Synset('crab_apple.n.03') []\n",
      "Synset('eating_apple.n.01') [Synset('baldwin.n.03'), Synset('cortland.n.01'), Synset('delicious.n.01'), Synset('empire.n.05'), Synset('granny_smith.n.01'), Synset('grimes'_golden.n.01'), Synset('jonathan.n.01'), Synset('mcintosh.n.01'), Synset('northern_spy.n.01'), Synset('pearmain.n.01'), Synset('pippin.n.01'), Synset('prima.n.01'), Synset('stayman.n.01'), Synset('stayman_winesap.n.01'), Synset('winesap.n.01')]\n",
      "Synset('bramley's_seedling.n.01') []\n",
      "Synset('lane's_prince_albert.n.01') []\n",
      "Synset('newtown_wonder.n.01') []\n",
      "Synset('baldwin.n.03') []\n",
      "Synset('cortland.n.01') []\n",
      "Synset('delicious.n.01') [Synset('golden_delicious.n.01'), Synset('red_delicious.n.01')]\n",
      "\n",
      "Relations hyponyms\n",
      "Synset('apple.n.01') Synset('cooking_apple.n.01')\n",
      "Synset('cooking_apple.n.01') Synset('bramley's_seedling.n.01')\n",
      "Synset('apple.n.01') Synset('crab_apple.n.03')\n",
      "Synset('apple.n.01') Synset('eating_apple.n.01')\n",
      "Synset('eating_apple.n.01') Synset('baldwin.n.03')\n",
      "Synset('cooking_apple.n.01') Synset('lane's_prince_albert.n.01')\n",
      "Synset('cooking_apple.n.01') Synset('newtown_wonder.n.01')\n",
      "Synset('eating_apple.n.01') Synset('cortland.n.01')\n",
      "Synset('eating_apple.n.01') Synset('delicious.n.01')\n",
      "\n",
      "\n",
      "Same\n",
      "edible_fruit [Synset('accessory_fruit.n.01'), Synset('achene.n.01'), Synset('acorn.n.01'), Synset('aggregate_fruit.n.01'), Synset('berry.n.02'), Synset('buckthorn_berry.n.01'), Synset('buffalo_nut.n.01'), Synset('chokecherry.n.01'), Synset('cubeb.n.01'), Synset('drupe.n.01'), Synset('ear.n.05'), Synset('fruitlet.n.01'), Synset('gourd.n.02'), Synset('hagberry.n.01'), Synset('hip.n.05'), Synset('juniper_berry.n.01'), Synset('marasca.n.01'), Synset('may_apple.n.01'), Synset('olive.n.01'), Synset('pod.n.02'), Synset('pome.n.01'), Synset('prairie_gourd.n.01'), Synset('pyxidium.n.01'), Synset('quandong.n.02'), Synset('rowanberry.n.01'), Synset('schizocarp.n.01'), Synset('seed.n.01'), Synset('wild_cherry.n.01'), Synset('eater.n.02'), Synset('vegetable.n.01')]\n",
      "pome [Synset('accessory_fruit.n.01'), Synset('achene.n.01'), Synset('acorn.n.01'), Synset('aggregate_fruit.n.01'), Synset('berry.n.02'), Synset('buckthorn_berry.n.01'), Synset('buffalo_nut.n.01'), Synset('chokecherry.n.01'), Synset('cubeb.n.01'), Synset('drupe.n.01'), Synset('ear.n.05'), Synset('edible_fruit.n.01'), Synset('fruitlet.n.01'), Synset('gourd.n.02'), Synset('hagberry.n.01'), Synset('hip.n.05'), Synset('juniper_berry.n.01'), Synset('marasca.n.01'), Synset('may_apple.n.01'), Synset('olive.n.01'), Synset('pod.n.02'), Synset('prairie_gourd.n.01'), Synset('pyxidium.n.01'), Synset('quandong.n.02'), Synset('rowanberry.n.01'), Synset('schizocarp.n.01'), Synset('seed.n.01'), Synset('wild_cherry.n.01')]\n",
      "apple_tree [Synset('akee.n.01'), Synset('almond_tree.n.01'), Synset('anchovy_pear.n.01'), Synset('apricot.n.01'), Synset('avocado.n.02'), Synset('bilimbi.n.01'), Synset('brazilian_guava.n.01'), Synset('breadfruit.n.01'), Synset('canistel.n.01'), Synset('carambola.n.01'), Synset('cattley_guava.n.01'), Synset('cherry.n.02'), Synset('citrus.n.02'), Synset('coco_plum.n.01'), Synset('custard_apple.n.01'), Synset('durian.n.01'), Synset('genipa.n.01'), Synset('guava.n.01'), Synset('guava.n.02'), Synset('hog_plum.n.01'), Synset('jaboticaba.n.01'), Synset('jackfruit.n.01'), Synset('litchi.n.01'), Synset('longan.n.01'), Synset('loquat.n.01'), Synset('mammee_apple.n.01'), Synset('mango.n.01'), Synset('mangosteen.n.01'), Synset('marang.n.01'), Synset('medlar.n.02'), Synset('mombin.n.01'), Synset('mulberry.n.01'), Synset('nectarine.n.01'), Synset('olive_tree.n.01'), Synset('papaya.n.01'), Synset('peach.n.01'), Synset('pear.n.02'), Synset('persimmon.n.01'), Synset('plum.n.01'), Synset('plumcot.n.01'), Synset('pomegranate.n.01'), Synset('pulasan.n.01'), Synset('quince.n.01'), Synset('rambutan.n.01'), Synset('rose_apple.n.01'), Synset('sapodilla.n.01'), Synset('sour_cherry.n.02'), Synset('spanish_lime.n.01'), Synset('star_apple.n.01'), Synset('surinam_cherry.n.02'), Synset('toothbrush_tree.n.01'), Synset('wild_mango.n.01')]\n",
      "\n",
      "\n",
      "Same\n",
      "bramley's_seedling [Synset('lane's_prince_albert.n.01'), Synset('newtown_wonder.n.01'), Synset('rome_beauty.n.01')]\n",
      "lane's_prince_albert [Synset('bramley's_seedling.n.01'), Synset('newtown_wonder.n.01'), Synset('rome_beauty.n.01')]\n",
      "newtown_wonder [Synset('bramley's_seedling.n.01'), Synset('lane's_prince_albert.n.01'), Synset('rome_beauty.n.01')]\n",
      "baldwin [Synset('cortland.n.01'), Synset('delicious.n.01'), Synset('empire.n.05'), Synset('granny_smith.n.01'), Synset('grimes'_golden.n.01'), Synset('jonathan.n.01'), Synset('mcintosh.n.01'), Synset('northern_spy.n.01'), Synset('pearmain.n.01'), Synset('pippin.n.01'), Synset('prima.n.01'), Synset('stayman.n.01'), Synset('stayman_winesap.n.01'), Synset('winesap.n.01')]\n",
      "cortland [Synset('baldwin.n.03'), Synset('delicious.n.01'), Synset('empire.n.05'), Synset('granny_smith.n.01'), Synset('grimes'_golden.n.01'), Synset('jonathan.n.01'), Synset('mcintosh.n.01'), Synset('northern_spy.n.01'), Synset('pearmain.n.01'), Synset('pippin.n.01'), Synset('prima.n.01'), Synset('stayman.n.01'), Synset('stayman_winesap.n.01'), Synset('winesap.n.01')]\n",
      "delicious [Synset('baldwin.n.03'), Synset('cortland.n.01'), Synset('empire.n.05'), Synset('granny_smith.n.01'), Synset('grimes'_golden.n.01'), Synset('jonathan.n.01'), Synset('mcintosh.n.01'), Synset('northern_spy.n.01'), Synset('pearmain.n.01'), Synset('pippin.n.01'), Synset('prima.n.01'), Synset('stayman.n.01'), Synset('stayman_winesap.n.01'), Synset('winesap.n.01')]\n"
     ]
    }
   ],
   "source": [
    "from graphCreation.sameCreation.generateSame import *\n",
    "deleteAll(connect())\n",
    "generateHypernyms([[1,5],[2,3]], \"apple\", connect())\n",
    "generateHyponyms([[1,5],[2,3]], \"apple\", connect())\n",
    "generateSame(\"apple\", [[1,2],[-2,2]], connect())\n"
   ]
  },
  {
   "cell_type": "code",
   "execution_count": 10,
   "metadata": {},
   "outputs": [
    {
     "data": {
      "text/html": [
       "<div id=\"4a0e00ce-fedc-4d0e-a5af-3bddeaf633a2\" style=\"height: 400px;\"></div>\n",
       "\n",
       "<script type=\"text/javascript\">\n",
       "\n",
       "    var nodes = [{\"id\": 7475, \"label\": \"crab_apple\", \"group\": \"Term\", \"title\": \"(_7475:Term {definition: 'any of numerous varieties of crab apples cultivated for their small acidic (usually bright red) fruit used for preserves or as ornamentals for their blossoms', name: 'crab_apple'})\"}, {\"id\": 7460, \"label\": \"apple\", \"group\": \"Term\", \"title\": \"(_7460:Term {definition: 'fruit with red or yellow or green skin and sweet to tart crisp whitish flesh', name: 'apple'})\"}, {\"id\": 7186, \"label\": \"plumcot\", \"group\": \"Term\", \"title\": \"(_7186:Term {definition: 'hybrid produced by crossing Prunus domestica and Prunus armeniaca', name: 'plumcot'})\"}, {\"id\": 7470, \"label\": \"apple_tree\", \"group\": \"Term\", \"title\": \"(_7470:Term {definition: 'any tree of the genus Malus especially those bearing firm rounded edible fruits', name: 'apple_tree'})\"}, {\"id\": 7529, \"label\": \"pyxidium\", \"group\": \"Term\", \"title\": \"(_7529:Term {definition: 'fruit of such plants as the plantain; a capsule whose upper part falls off when the seeds are released', name: 'pyxidium'})\"}, {\"id\": 7462, \"label\": \"pome\", \"group\": \"Term\", \"title\": \"(_7462:Term {definition: 'a fleshy fruit (apple or pear or related fruits) having seed chambers and an outer fleshy part', name: 'pome'})\"}, {\"id\": 7509, \"label\": \"lane's_prince_albert\", \"group\": \"Term\", \"title\": \"(_7509:Term {definition: 'apple used primarily in cooking', name: \\\"lane's_prince_albert\\\"})\"}, {\"id\": 7510, \"label\": \"newtown_wonder\", \"group\": \"Term\", \"title\": \"(_7510:Term {definition: 'apple used primarily in cooking', name: 'newtown_wonder'})\"}, {\"id\": 7187, \"label\": \"rome_beauty\", \"group\": \"Term\", \"title\": \"(_7187:Term {definition: 'large red apple used primarily for baking', name: 'rome_beauty'})\"}, {\"id\": 7508, \"label\": \"bramley's_seedling\", \"group\": \"Term\", \"title\": \"(_7508:Term {definition: 'very large cooking apple', name: \\\"bramley's_seedling\\\"})\"}, {\"id\": 7474, \"label\": \"cooking_apple\", \"group\": \"Term\", \"title\": \"(_7474:Term {definition: 'an apple used primarily in cooking for pies and applesauce etc', name: 'cooking_apple'})\"}, {\"id\": 7193, \"label\": \"prima\", \"group\": \"Term\", \"title\": \"(_7193:Term {definition: 'used primarily as eating apples', name: 'prima'})\"}, {\"id\": 7511, \"label\": \"baldwin\", \"group\": \"Term\", \"title\": \"(_7511:Term {definition: 'United States author who was an outspoken critic of racism (1924-1987)', name: 'baldwin'})\"}, {\"id\": 7199, \"label\": \"northern_spy\", \"group\": \"Term\", \"title\": \"(_7199:Term {definition: 'large late-ripening apple with skin striped with yellow and red', name: 'northern_spy'})\"}, {\"id\": 7512, \"label\": \"cortland\", \"group\": \"Term\", \"title\": \"(_7512:Term {definition: 'large apple with a red skin', name: 'cortland'})\"}, {\"id\": 7200, \"label\": \"pearmain\", \"group\": \"Term\", \"title\": \"(_7200:Term {definition: 'any of several varieties of apples with red skins', name: 'pearmain'})\"}, {\"id\": 7513, \"label\": \"delicious\", \"group\": \"Term\", \"title\": \"(_7513:Term {definition: 'variety of sweet eating apples', name: 'delicious'})\"}, {\"id\": 7530, \"label\": \"hog_plum\", \"group\": \"Term\", \"title\": \"(_7530:Term {definition: 'tropical American tree having edible yellow fruit', name: 'hog_plum'})\"}, {\"id\": 7461, \"label\": \"edible_fruit\", \"group\": \"Term\", \"title\": \"(_7461:Term {definition: 'edible reproductive body of a seed plant especially one having sweet flesh', name: 'edible_fruit'})\"}, {\"id\": 7514, \"label\": \"hagberry\", \"group\": \"Term\", \"title\": \"(_7514:Term {definition: 'small cherry much liked by birds', name: 'hagberry'})\"}, {\"id\": 7472, \"label\": \"produce\", \"group\": \"Term\", \"title\": \"(_7472:Term {definition: 'fresh fruits and vegetable grown for the market', name: 'produce'})\"}, {\"id\": 7471, \"label\": \"fruit\", \"group\": \"Term\", \"title\": \"(_7471:Term {definition: 'the ripened reproductive body of a seed plant', name: 'fruit'})\"}, {\"id\": 7476, \"label\": \"eating_apple\", \"group\": \"Term\", \"title\": \"(_7476:Term {definition: 'an apple used primarily for eating raw without cooking', name: 'eating_apple'})\"}, {\"id\": 7473, \"label\": \"fruit_tree\", \"group\": \"Term\", \"title\": \"(_7473:Term {definition: 'tree bearing edible fruit', name: 'fruit_tree'})\"}, {\"id\": 7528, \"label\": \"marasca\", \"group\": \"Term\", \"title\": \"(_7528:Term {definition: 'small bitter fruit of the marasca cherry tree from whose juice maraschino liqueur is made', name: 'marasca'})\"}, {\"id\": 7219, \"label\": \"pippin\", \"group\": \"Term\", \"title\": \"(_7219:Term {definition: 'any of numerous superior eating apples with yellow or greenish yellow skin flushed with red', name: 'pippin'})\"}];\n",
       "    var edges = [{\"from\": 7475, \"to\": 7460, \"label\": \"ISA\"}, {\"from\": 7186, \"to\": 7470, \"label\": \"SAME\"}, {\"from\": 7529, \"to\": 7462, \"label\": \"SAME\"}, {\"from\": 7509, \"to\": 7510, \"label\": \"SAME\"}, {\"from\": 7509, \"to\": 7187, \"label\": \"SAME\"}, {\"from\": 7509, \"to\": 7508, \"label\": \"SAME\"}, {\"from\": 7509, \"to\": 7474, \"label\": \"ISA\"}, {\"from\": 7193, \"to\": 7511, \"label\": \"SAME\"}, {\"from\": 7199, \"to\": 7512, \"label\": \"SAME\"}, {\"from\": 7510, \"to\": 7509, \"label\": \"SAME\"}, {\"from\": 7510, \"to\": 7508, \"label\": \"SAME\"}, {\"from\": 7510, \"to\": 7474, \"label\": \"ISA\"}, {\"from\": 7200, \"to\": 7513, \"label\": \"SAME\"}, {\"from\": 7530, \"to\": 7470, \"label\": \"SAME\"}, {\"from\": 7508, \"to\": 7510, \"label\": \"SAME\"}, {\"from\": 7508, \"to\": 7509, \"label\": \"SAME\"}, {\"from\": 7508, \"to\": 7474, \"label\": \"ISA\"}, {\"from\": 7461, \"to\": 7462, \"label\": \"SAME\"}, {\"from\": 7461, \"to\": 7514, \"label\": \"SAME\"}, {\"from\": 7461, \"to\": 7472, \"label\": \"ISA\"}, {\"from\": 7461, \"to\": 7471, \"label\": \"ISA\"}, {\"from\": 7476, \"to\": 7460, \"label\": \"ISA\"}, {\"from\": 7514, \"to\": 7461, \"label\": \"SAME\"}, {\"from\": 7470, \"to\": 7186, \"label\": \"SAME\"}, {\"from\": 7470, \"to\": 7530, \"label\": \"SAME\"}, {\"from\": 7470, \"to\": 7473, \"label\": \"ISA\"}, {\"from\": 7460, \"to\": 7470, \"label\": \"ISA\"}, {\"from\": 7460, \"to\": 7462, \"label\": \"ISA\"}, {\"from\": 7460, \"to\": 7461, \"label\": \"ISA\"}, {\"from\": 7462, \"to\": 7529, \"label\": \"SAME\"}, {\"from\": 7462, \"to\": 7528, \"label\": \"SAME\"}, {\"from\": 7462, \"to\": 7461, \"label\": \"SAME\"}, {\"from\": 7462, \"to\": 7471, \"label\": \"ISA\"}, {\"from\": 7474, \"to\": 7460, \"label\": \"ISA\"}, {\"from\": 7219, \"to\": 7513, \"label\": \"SAME\"}, {\"from\": 7528, \"to\": 7462, \"label\": \"SAME\"}, {\"from\": 7512, \"to\": 7513, \"label\": \"SAME\"}, {\"from\": 7512, \"to\": 7199, \"label\": \"SAME\"}, {\"from\": 7512, \"to\": 7476, \"label\": \"ISA\"}, {\"from\": 7187, \"to\": 7509, \"label\": \"SAME\"}, {\"from\": 7513, \"to\": 7219, \"label\": \"SAME\"}, {\"from\": 7513, \"to\": 7200, \"label\": \"SAME\"}, {\"from\": 7513, \"to\": 7512, \"label\": \"SAME\"}, {\"from\": 7513, \"to\": 7511, \"label\": \"SAME\"}, {\"from\": 7513, \"to\": 7476, \"label\": \"ISA\"}, {\"from\": 7511, \"to\": 7193, \"label\": \"SAME\"}, {\"from\": 7511, \"to\": 7513, \"label\": \"SAME\"}, {\"from\": 7511, \"to\": 7476, \"label\": \"ISA\"}];\n",
       "\n",
       "    var container = document.getElementById(\"4a0e00ce-fedc-4d0e-a5af-3bddeaf633a2\");\n",
       "\n",
       "    var data = {\n",
       "        nodes: nodes,\n",
       "        edges: edges\n",
       "    };\n",
       "\n",
       "    var options = {\n",
       "    nodes: {\n",
       "        shape: 'dot',\n",
       "        size: 25,\n",
       "        font: {\n",
       "            size: 14\n",
       "        }\n",
       "    },\n",
       "    edges: {\n",
       "        font: {\n",
       "            size: 14,\n",
       "            align: 'middle'\n",
       "        },\n",
       "        color: 'gray',\n",
       "        arrows: {\n",
       "            to: {\n",
       "                enabled: true,\n",
       "                scaleFactor: 0.5\n",
       "            }\n",
       "        },\n",
       "        smooth: {\n",
       "            enabled: false\n",
       "        }\n",
       "    },\n",
       "    physics: {\n",
       "        enabled: true\n",
       "        }\n",
       "    };\n",
       "\n",
       "    var network = new vis.Network(container, data, options);\n",
       "\n",
       "</script>\n"
      ],
      "text/plain": [
       "<IPython.core.display.HTML object>"
      ]
     },
     "execution_count": 10,
     "metadata": {},
     "output_type": "execute_result"
    }
   ],
   "source": [
    "neo4jupyter.draw(connect(), {\"Term\": \"name\"})"
   ]
  },
  {
   "cell_type": "code",
   "execution_count": null,
   "metadata": {},
   "outputs": [],
   "source": []
  }
 ],
 "metadata": {
  "kernelspec": {
   "display_name": "Python 3",
   "language": "python",
   "name": "python3"
  },
  "language_info": {
   "codemirror_mode": {
    "name": "ipython",
    "version": 3
   },
   "file_extension": ".py",
   "mimetype": "text/x-python",
   "name": "python",
   "nbconvert_exporter": "python",
   "pygments_lexer": "ipython3",
   "version": "3.7.3"
  }
 },
 "nbformat": 4,
 "nbformat_minor": 4
}
