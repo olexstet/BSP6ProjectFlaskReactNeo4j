{
 "cells": [
  {
   "cell_type": "code",
   "execution_count": 1,
   "metadata": {},
   "outputs": [],
   "source": [
    "import sys\n",
    "sys.path.append('../flask-backend/')"
   ]
  },
  {
   "cell_type": "code",
   "execution_count": 2,
   "metadata": {},
   "outputs": [],
   "source": [
    "import neo4jupyter\n",
    "from graphCreation.graphSetups.commands import *"
   ]
  },
  {
   "cell_type": "code",
   "execution_count": 3,
   "metadata": {
    "scrolled": false
   },
   "outputs": [
    {
     "name": "stdout",
     "output_type": "stream",
     "text": [
      "Synset('apple.n.01') [Synset('edible_fruit.n.01'), Synset('pome.n.01'), Synset('apple_tree.n.01')]\n",
      "Synset('edible_fruit.n.01') [Synset('fruit.n.01'), Synset('produce.n.01')]\n",
      "Synset('pome.n.01') [Synset('fruit.n.01')]\n",
      "Synset('apple_tree.n.01') [Synset('fruit_tree.n.01')]\n",
      "Synset('fruit.n.01') [Synset('reproductive_structure.n.01')]\n",
      "Synset('produce.n.01') [Synset('food.n.02')]\n",
      "Synset('fruit_tree.n.01') [Synset('angiospermous_tree.n.01')]\n",
      "[[Synset('apple.n.01'), Synset('edible_fruit.n.01'), Synset('fruit.n.01')], [Synset('apple.n.01'), Synset('pome.n.01'), Synset('fruit.n.01')], [Synset('apple.n.01'), Synset('apple_tree.n.01'), Synset('fruit_tree.n.01')], [Synset('apple.n.01'), Synset('edible_fruit.n.01'), Synset('produce.n.01')]]\n",
      "\n",
      "Relations hypernyms\n",
      "Synset('apple.n.01') Synset('edible_fruit.n.01')\n",
      "Synset('edible_fruit.n.01') Synset('fruit.n.01')\n",
      "Synset('apple.n.01') Synset('pome.n.01')\n",
      "Synset('pome.n.01') Synset('fruit.n.01')\n",
      "Synset('apple.n.01') Synset('apple_tree.n.01')\n",
      "Synset('apple_tree.n.01') Synset('fruit_tree.n.01')\n",
      "Synset('edible_fruit.n.01') Synset('produce.n.01')\n",
      "--------------------------------------------------------------\n",
      "Synset('apple.n.01') [Synset('cooking_apple.n.01'), Synset('crab_apple.n.03'), Synset('eating_apple.n.01')]\n",
      "Synset('cooking_apple.n.01') [Synset('bramley's_seedling.n.01'), Synset('lane's_prince_albert.n.01'), Synset('newtown_wonder.n.01'), Synset('rome_beauty.n.01')]\n",
      "Synset('crab_apple.n.03') []\n",
      "Synset('eating_apple.n.01') [Synset('baldwin.n.03'), Synset('cortland.n.01'), Synset('delicious.n.01'), Synset('empire.n.05'), Synset('granny_smith.n.01'), Synset('grimes'_golden.n.01'), Synset('jonathan.n.01'), Synset('mcintosh.n.01'), Synset('northern_spy.n.01'), Synset('pearmain.n.01'), Synset('pippin.n.01'), Synset('prima.n.01'), Synset('stayman.n.01'), Synset('stayman_winesap.n.01'), Synset('winesap.n.01')]\n",
      "Synset('bramley's_seedling.n.01') []\n",
      "Synset('lane's_prince_albert.n.01') []\n",
      "Synset('newtown_wonder.n.01') []\n",
      "Synset('baldwin.n.03') []\n",
      "Synset('cortland.n.01') []\n",
      "Synset('delicious.n.01') [Synset('golden_delicious.n.01'), Synset('red_delicious.n.01')]\n",
      "Synset('golden_delicious.n.01') []\n",
      "Synset('red_delicious.n.01') []\n",
      "\n",
      "Relations hyponyms\n",
      "Synset('apple.n.01') Synset('cooking_apple.n.01')\n",
      "Synset('cooking_apple.n.01') Synset('bramley's_seedling.n.01')\n",
      "Synset('apple.n.01') Synset('crab_apple.n.03')\n",
      "Synset('apple.n.01') Synset('eating_apple.n.01')\n",
      "Synset('eating_apple.n.01') Synset('baldwin.n.03')\n",
      "Synset('cooking_apple.n.01') Synset('lane's_prince_albert.n.01')\n",
      "Synset('cooking_apple.n.01') Synset('newtown_wonder.n.01')\n",
      "Synset('eating_apple.n.01') Synset('cortland.n.01')\n",
      "Synset('eating_apple.n.01') Synset('delicious.n.01')\n",
      "Synset('delicious.n.01') Synset('golden_delicious.n.01')\n",
      "Synset('delicious.n.01') Synset('red_delicious.n.01')\n",
      "\n",
      "\n",
      "Same\n",
      "apple [Synset('mombin.n.02'), Synset('pear.n.01'), Synset('papaw.n.02'), Synset('medlar.n.04'), Synset('elderberry.n.02')]\n",
      "\n",
      "\n",
      "Same\n",
      "edible_fruit [Synset('ear.n.05'), Synset('achene.n.01'), Synset('buffalo_nut.n.01'), Synset('prairie_gourd.n.01'), Synset('rowanberry.n.01')]\n",
      "pome [Synset('aggregate_fruit.n.01'), Synset('accessory_fruit.n.01'), Synset('gourd.n.02'), Synset('hagberry.n.01'), Synset('fruitlet.n.01')]\n",
      "apple_tree [Synset('akee.n.01'), Synset('sour_cherry.n.02'), Synset('sapodilla.n.01'), Synset('cherry.n.02'), Synset('mulberry.n.01')]\n",
      "\n",
      "\n",
      "Same\n",
      "bramley's_seedling [Synset('newtown_wonder.n.01'), Synset('lane's_prince_albert.n.01'), Synset('rome_beauty.n.01')]\n",
      "lane's_prince_albert [Synset('newtown_wonder.n.01'), Synset('bramley's_seedling.n.01'), Synset('rome_beauty.n.01')]\n",
      "newtown_wonder [Synset('rome_beauty.n.01'), Synset('lane's_prince_albert.n.01'), Synset('bramley's_seedling.n.01')]\n",
      "baldwin [Synset('cortland.n.01'), Synset('pippin.n.01'), Synset('stayman.n.01')]\n",
      "cortland [Synset('granny_smith.n.01'), Synset('stayman_winesap.n.01'), Synset('northern_spy.n.01')]\n",
      "delicious [Synset('prima.n.01'), Synset('cortland.n.01'), Synset('grimes'_golden.n.01')]\n"
     ]
    }
   ],
   "source": [
    "from graphCreation.main import generateGraph\n",
    "generateGraph(\"apple\",[[1,4],[2,2]], [[1,5],[2,3],[3,5]], [[0,5],[1,5],[-2,3]]) # change same for 30 200 10 "
   ]
  },
  {
   "cell_type": "code",
   "execution_count": 4,
   "metadata": {
    "scrolled": true
   },
   "outputs": [
    {
     "data": {
      "application/javascript": [
       "var link = document.createElement(\"link\");\n",
       "\tlink.ref = \"stylesheet\";\n",
       "\tlink.type = \"text/css\";\n",
       "\tlink.href = \"https://cdnjs.cloudflare.com/ajax/libs/vis/4.8.2/vis.css\";\n",
       "\tdocument.head.appendChild(link);\n",
       "require.config({     paths: {         vis: '//cdnjs.cloudflare.com/ajax/libs/vis/4.8.2/vis.min'     } }); require(['vis'], function(vis) {  window.vis = vis; }); "
      ],
      "text/plain": [
       "<IPython.core.display.Javascript object>"
      ]
     },
     "metadata": {},
     "output_type": "display_data"
    },
    {
     "data": {
      "text/html": [
       "<div id=\"93b26dbd-71de-4f90-9a75-6c42d69e602b\" style=\"height: 400px;\"></div>\n",
       "\n",
       "<script type=\"text/javascript\">\n",
       "\n",
       "    var nodes = [{\"id\": 7517, \"label\": \"red_delicious\", \"group\": \"Term\", \"title\": \"(_7517:Term {definition: 'a sweet eating apple with bright red skin; most widely grown apple worldwide', name: 'red_delicious'})\"}, {\"id\": 7515, \"label\": \"delicious\", \"group\": \"Term\", \"title\": \"(_7515:Term {definition: 'variety of sweet eating apples', name: 'delicious'})\"}, {\"id\": 7421, \"label\": \"newtown_wonder\", \"group\": \"Term\", \"title\": \"(_7421:Term {definition: 'apple used primarily in cooking', name: 'newtown_wonder'})\"}, {\"id\": 7434, \"label\": \"rome_beauty\", \"group\": \"Term\", \"title\": \"(_7434:Term {definition: 'large red apple used primarily for baking', name: 'rome_beauty'})\"}, {\"id\": 7420, \"label\": \"lane's_prince_albert\", \"group\": \"Term\", \"title\": \"(_7420:Term {definition: 'apple used primarily in cooking', name: \\\"lane's_prince_albert\\\"})\"}, {\"id\": 7419, \"label\": \"bramley's_seedling\", \"group\": \"Term\", \"title\": \"(_7419:Term {definition: 'very large cooking apple', name: \\\"bramley's_seedling\\\"})\"}, {\"id\": 7416, \"label\": \"cooking_apple\", \"group\": \"Term\", \"title\": \"(_7416:Term {definition: 'an apple used primarily in cooking for pies and applesauce etc', name: 'cooking_apple'})\"}, {\"id\": 7527, \"label\": \"prima\", \"group\": \"Term\", \"title\": \"(_7527:Term {definition: 'used primarily as eating apples', name: 'prima'})\"}, {\"id\": 7497, \"label\": \"hagberry\", \"group\": \"Term\", \"title\": \"(_7497:Term {definition: 'small cherry much liked by birds', name: 'hagberry'})\"}, {\"id\": 7411, \"label\": \"pome\", \"group\": \"Term\", \"title\": \"(_7411:Term {definition: 'a fleshy fruit (apple or pear or related fruits) having seed chambers and an outer fleshy part', name: 'pome'})\"}, {\"id\": 7493, \"label\": \"rowanberry\", \"group\": \"Term\", \"title\": \"(_7493:Term {definition: 'decorative red berrylike fruit of a rowan tree', name: 'rowanberry'})\"}, {\"id\": 7410, \"label\": \"edible_fruit\", \"group\": \"Term\", \"title\": \"(_7410:Term {definition: 'edible reproductive body of a seed plant especially one having sweet flesh', name: 'edible_fruit'})\"}, {\"id\": 7422, \"label\": \"baldwin\", \"group\": \"Term\", \"title\": \"(_7422:Term {definition: 'United States author who was an outspoken critic of racism (1924-1987)', name: 'baldwin'})\"}, {\"id\": 7436, \"label\": \"stayman\", \"group\": \"Term\", \"title\": \"(_7436:Term {definition: 'apple grown chiefly in the Shenandoah Valley', name: 'stayman'})\"}, {\"id\": 7435, \"label\": \"pippin\", \"group\": \"Term\", \"title\": \"(_7435:Term {definition: 'any of numerous superior eating apples with yellow or greenish yellow skin flushed with red', name: 'pippin'})\"}, {\"id\": 7423, \"label\": \"cortland\", \"group\": \"Term\", \"title\": \"(_7423:Term {definition: 'large apple with a red skin', name: 'cortland'})\"}, {\"id\": 7418, \"label\": \"eating_apple\", \"group\": \"Term\", \"title\": \"(_7418:Term {definition: 'an apple used primarily for eating raw without cooking', name: 'eating_apple'})\"}, {\"id\": 7524, \"label\": \"achene\", \"group\": \"Term\", \"title\": \"(_7524:Term {definition: 'small dry indehiscent fruit with the seed distinct from the fruit wall', name: 'achene'})\"}, {\"id\": 7495, \"label\": \"accessory_fruit\", \"group\": \"Term\", \"title\": \"(_7495:Term {definition: 'fruit containing much fleshy tissue besides that of the ripened ovary; as apple or strawberry', name: 'accessory_fruit'})\"}, {\"id\": 7526, \"label\": \"northern_spy\", \"group\": \"Term\", \"title\": \"(_7526:Term {definition: 'large late-ripening apple with skin striped with yellow and red', name: 'northern_spy'})\"}, {\"id\": 7431, \"label\": \"sapodilla\", \"group\": \"Term\", \"title\": \"(_7431:Term {definition: 'large tropical American evergreen yielding chicle gum and edible fruit; sometimes placed in genus Achras', name: 'sapodilla'})\"}, {\"id\": 7412, \"label\": \"apple_tree\", \"group\": \"Term\", \"title\": \"(_7412:Term {definition: 'any tree of the genus Malus especially those bearing firm rounded edible fruits', name: 'apple_tree'})\"}, {\"id\": 7414, \"label\": \"produce\", \"group\": \"Term\", \"title\": \"(_7414:Term {definition: 'fresh fruits and vegetable grown for the market', name: 'produce'})\"}, {\"id\": 7409, \"label\": \"apple\", \"group\": \"Term\", \"title\": \"(_7409:Term {definition: 'fruit with red or yellow or green skin and sweet to tart crisp whitish flesh', name: 'apple'})\"}, {\"id\": 7522, \"label\": \"elderberry\", \"group\": \"Term\", \"title\": \"(_7522:Term {definition: 'a common shrub with black fruit or a small tree of Europe and Asia; fruit used for wines and jellies', name: 'elderberry'})\"}, {\"id\": 7521, \"label\": \"medlar\", \"group\": \"Term\", \"title\": \"(_7521:Term {definition: 'small deciduous tree of southern Africa having edible fruit', name: 'medlar'})\"}, {\"id\": 7520, \"label\": \"papaw\", \"group\": \"Term\", \"title\": \"(_7520:Term {definition: 'small tree native to the eastern United States having oblong leaves and fleshy fruit', name: 'papaw'})\"}, {\"id\": 7519, \"label\": \"pear\", \"group\": \"Term\", \"title\": \"(_7519:Term {definition: 'sweet juicy gritty-textured fruit available in many varieties', name: 'pear'})\"}, {\"id\": 7518, \"label\": \"mombin\", \"group\": \"Term\", \"title\": \"(_7518:Term {definition: 'common tropical American shrub or small tree with purplish fruit', name: 'mombin'})\"}, {\"id\": 7498, \"label\": \"fruitlet\", \"group\": \"Term\", \"title\": \"(_7498:Term {definition: 'a diminutive fruit, especially one that is part of a multiple fruit', name: 'fruitlet'})\"}, {\"id\": 7160, \"label\": \"grimes'_golden\", \"group\": \"Term\", \"title\": \"(_7160:Term {definition: 'yellow apple that ripens in late autumn; eaten raw', name: \\\"grimes'_golden\\\"})\"}, {\"id\": 7496, \"label\": \"gourd\", \"group\": \"Term\", \"title\": \"(_7496:Term {definition: 'bottle made from the dried shell of a bottle gourd', name: 'gourd'})\"}, {\"id\": 7494, \"label\": \"aggregate_fruit\", \"group\": \"Term\", \"title\": \"(_7494:Term {definition: 'fruit consisting of many individual small fruits or drupes derived from separate ovaries within a common receptacle: e.g. blackberry; raspberry; pineapple', name: 'aggregate_fruit'})\"}, {\"id\": 7413, \"label\": \"fruit\", \"group\": \"Term\", \"title\": \"(_7413:Term {definition: 'the ripened reproductive body of a seed plant', name: 'fruit'})\"}, {\"id\": 7500, \"label\": \"stayman_winesap\", \"group\": \"Term\", \"title\": \"(_7500:Term {definition: 'crisp tart apple; good for eating raw and suitable for cooking', name: 'stayman_winesap'})\"}, {\"id\": 7499, \"label\": \"granny_smith\", \"group\": \"Term\", \"title\": \"(_7499:Term {definition: 'apple with a green skin and hard tart flesh', name: 'granny_smith'})\"}, {\"id\": 7523, \"label\": \"ear\", \"group\": \"Term\", \"title\": \"(_7523:Term {definition: 'the sense organ for hearing and equilibrium', name: 'ear'})\"}, {\"id\": 7492, \"label\": \"prairie_gourd\", \"group\": \"Term\", \"title\": \"(_7492:Term {definition: 'small hard green-and-white inedible fruit of the prairie gourd plant', name: 'prairie_gourd'})\"}, {\"id\": 7525, \"label\": \"buffalo_nut\", \"group\": \"Term\", \"title\": \"(_7525:Term {definition: 'oily drupaceous fruit of rabbitwood', name: 'buffalo_nut'})\"}, {\"id\": 7516, \"label\": \"golden_delicious\", \"group\": \"Term\", \"title\": \"(_7516:Term {definition: 'a sweet eating apple with yellow skin', name: 'golden_delicious'})\"}, {\"id\": 7433, \"label\": \"mulberry\", \"group\": \"Term\", \"title\": \"(_7433:Term {definition: 'any of several trees of the genus Morus having edible fruit that resembles the blackberry', name: 'mulberry'})\"}, {\"id\": 7432, \"label\": \"cherry\", \"group\": \"Term\", \"title\": \"(_7432:Term {definition: 'wood of any of various cherry trees especially the black cherry', name: 'cherry'})\"}, {\"id\": 7430, \"label\": \"sour_cherry\", \"group\": \"Term\", \"title\": \"(_7430:Term {definition: 'rather small Eurasian tree producing red to black acid edible fruit', name: 'sour_cherry'})\"}, {\"id\": 7429, \"label\": \"akee\", \"group\": \"Term\", \"title\": \"(_7429:Term {definition: 'widely cultivated in tropical and subtropical regions for its fragrant flowers and colorful fruits; introduced in Jamaica by William Bligh', name: 'akee'})\"}, {\"id\": 7415, \"label\": \"fruit_tree\", \"group\": \"Term\", \"title\": \"(_7415:Term {definition: 'tree bearing edible fruit', name: 'fruit_tree'})\"}, {\"id\": 7417, \"label\": \"crab_apple\", \"group\": \"Term\", \"title\": \"(_7417:Term {definition: 'any of numerous varieties of crab apples cultivated for their small acidic (usually bright red) fruit used for preserves or as ornamentals for their blossoms', name: 'crab_apple'})\"}];\n",
       "    var edges = [{\"from\": 7517, \"to\": 7515, \"label\": \"ISA\"}, {\"from\": 7421, \"to\": 7434, \"label\": \"SAME\"}, {\"from\": 7421, \"to\": 7420, \"label\": \"SAME\"}, {\"from\": 7421, \"to\": 7419, \"label\": \"SAME\"}, {\"from\": 7421, \"to\": 7416, \"label\": \"ISA\"}, {\"from\": 7527, \"to\": 7515, \"label\": \"SAME\"}, {\"from\": 7497, \"to\": 7411, \"label\": \"SAME\"}, {\"from\": 7493, \"to\": 7410, \"label\": \"SAME\"}, {\"from\": 7422, \"to\": 7436, \"label\": \"SAME\"}, {\"from\": 7422, \"to\": 7435, \"label\": \"SAME\"}, {\"from\": 7422, \"to\": 7423, \"label\": \"SAME\"}, {\"from\": 7422, \"to\": 7418, \"label\": \"ISA\"}, {\"from\": 7524, \"to\": 7410, \"label\": \"SAME\"}, {\"from\": 7495, \"to\": 7411, \"label\": \"SAME\"}, {\"from\": 7526, \"to\": 7423, \"label\": \"SAME\"}, {\"from\": 7431, \"to\": 7412, \"label\": \"SAME\"}, {\"from\": 7420, \"to\": 7434, \"label\": \"SAME\"}, {\"from\": 7420, \"to\": 7421, \"label\": \"SAME\"}, {\"from\": 7420, \"to\": 7419, \"label\": \"SAME\"}, {\"from\": 7420, \"to\": 7416, \"label\": \"ISA\"}, {\"from\": 7409, \"to\": 7522, \"label\": \"SAME\"}, {\"from\": 7409, \"to\": 7521, \"label\": \"SAME\"}, {\"from\": 7409, \"to\": 7520, \"label\": \"SAME\"}, {\"from\": 7409, \"to\": 7519, \"label\": \"SAME\"}, {\"from\": 7409, \"to\": 7518, \"label\": \"SAME\"}, {\"from\": 7409, \"to\": 7412, \"label\": \"ISA\"}, {\"from\": 7409, \"to\": 7411, \"label\": \"ISA\"}, {\"from\": 7409, \"to\": 7410, \"label\": \"ISA\"}, {\"from\": 7498, \"to\": 7411, \"label\": \"SAME\"}, {\"from\": 7419, \"to\": 7434, \"label\": \"SAME\"}, {\"from\": 7419, \"to\": 7420, \"label\": \"SAME\"}, {\"from\": 7419, \"to\": 7421, \"label\": \"SAME\"}, {\"from\": 7419, \"to\": 7416, \"label\": \"ISA\"}, {\"from\": 7160, \"to\": 7515, \"label\": \"SAME\"}, {\"from\": 7411, \"to\": 7498, \"label\": \"SAME\"}, {\"from\": 7411, \"to\": 7497, \"label\": \"SAME\"}, {\"from\": 7411, \"to\": 7496, \"label\": \"SAME\"}, {\"from\": 7411, \"to\": 7495, \"label\": \"SAME\"}, {\"from\": 7411, \"to\": 7494, \"label\": \"SAME\"}, {\"from\": 7411, \"to\": 7413, \"label\": \"ISA\"}, {\"from\": 7494, \"to\": 7411, \"label\": \"SAME\"}, {\"from\": 7518, \"to\": 7409, \"label\": \"SAME\"}, {\"from\": 7423, \"to\": 7515, \"label\": \"SAME\"}, {\"from\": 7423, \"to\": 7526, \"label\": \"SAME\"}, {\"from\": 7423, \"to\": 7500, \"label\": \"SAME\"}, {\"from\": 7423, \"to\": 7499, \"label\": \"SAME\"}, {\"from\": 7423, \"to\": 7422, \"label\": \"SAME\"}, {\"from\": 7423, \"to\": 7418, \"label\": \"ISA\"}, {\"from\": 7523, \"to\": 7410, \"label\": \"SAME\"}, {\"from\": 7519, \"to\": 7409, \"label\": \"SAME\"}, {\"from\": 7410, \"to\": 7493, \"label\": \"SAME\"}, {\"from\": 7410, \"to\": 7492, \"label\": \"SAME\"}, {\"from\": 7410, \"to\": 7525, \"label\": \"SAME\"}, {\"from\": 7410, \"to\": 7524, \"label\": \"SAME\"}, {\"from\": 7410, \"to\": 7523, \"label\": \"SAME\"}, {\"from\": 7410, \"to\": 7414, \"label\": \"ISA\"}, {\"from\": 7410, \"to\": 7413, \"label\": \"ISA\"}, {\"from\": 7516, \"to\": 7515, \"label\": \"ISA\"}, {\"from\": 7433, \"to\": 7412, \"label\": \"SAME\"}, {\"from\": 7500, \"to\": 7423, \"label\": \"SAME\"}, {\"from\": 7416, \"to\": 7409, \"label\": \"ISA\"}, {\"from\": 7492, \"to\": 7410, \"label\": \"SAME\"}, {\"from\": 7515, \"to\": 7160, \"label\": \"SAME\"}, {\"from\": 7515, \"to\": 7423, \"label\": \"SAME\"}, {\"from\": 7515, \"to\": 7527, \"label\": \"SAME\"}, {\"from\": 7515, \"to\": 7418, \"label\": \"ISA\"}, {\"from\": 7436, \"to\": 7422, \"label\": \"SAME\"}, {\"from\": 7496, \"to\": 7411, \"label\": \"SAME\"}, {\"from\": 7499, \"to\": 7423, \"label\": \"SAME\"}, {\"from\": 7521, \"to\": 7409, \"label\": \"SAME\"}, {\"from\": 7412, \"to\": 7433, \"label\": \"SAME\"}, {\"from\": 7412, \"to\": 7432, \"label\": \"SAME\"}, {\"from\": 7412, \"to\": 7431, \"label\": \"SAME\"}, {\"from\": 7412, \"to\": 7430, \"label\": \"SAME\"}, {\"from\": 7412, \"to\": 7429, \"label\": \"SAME\"}, {\"from\": 7412, \"to\": 7415, \"label\": \"ISA\"}, {\"from\": 7418, \"to\": 7409, \"label\": \"ISA\"}, {\"from\": 7522, \"to\": 7409, \"label\": \"SAME\"}, {\"from\": 7525, \"to\": 7410, \"label\": \"SAME\"}, {\"from\": 7417, \"to\": 7409, \"label\": \"ISA\"}, {\"from\": 7520, \"to\": 7409, \"label\": \"SAME\"}, {\"from\": 7429, \"to\": 7412, \"label\": \"SAME\"}, {\"from\": 7435, \"to\": 7422, \"label\": \"SAME\"}, {\"from\": 7432, \"to\": 7412, \"label\": \"SAME\"}, {\"from\": 7434, \"to\": 7421, \"label\": \"SAME\"}, {\"from\": 7434, \"to\": 7420, \"label\": \"SAME\"}, {\"from\": 7434, \"to\": 7419, \"label\": \"SAME\"}, {\"from\": 7430, \"to\": 7412, \"label\": \"SAME\"}];\n",
       "\n",
       "    var container = document.getElementById(\"93b26dbd-71de-4f90-9a75-6c42d69e602b\");\n",
       "\n",
       "    var data = {\n",
       "        nodes: nodes,\n",
       "        edges: edges\n",
       "    };\n",
       "\n",
       "    var options = {\n",
       "    nodes: {\n",
       "        shape: 'dot',\n",
       "        size: 25,\n",
       "        font: {\n",
       "            size: 14\n",
       "        }\n",
       "    },\n",
       "    edges: {\n",
       "        font: {\n",
       "            size: 14,\n",
       "            align: 'middle'\n",
       "        },\n",
       "        color: 'gray',\n",
       "        arrows: {\n",
       "            to: {\n",
       "                enabled: true,\n",
       "                scaleFactor: 0.5\n",
       "            }\n",
       "        },\n",
       "        smooth: {\n",
       "            enabled: false\n",
       "        }\n",
       "    },\n",
       "    physics: {\n",
       "        enabled: true\n",
       "        }\n",
       "    };\n",
       "\n",
       "    var network = new vis.Network(container, data, options);\n",
       "\n",
       "</script>\n"
      ],
      "text/plain": [
       "<IPython.core.display.HTML object>"
      ]
     },
     "execution_count": 4,
     "metadata": {},
     "output_type": "execute_result"
    }
   ],
   "source": [
    "import neo4jupyter\n",
    "neo4jupyter.init_notebook_mode()\n",
    "neo4jupyter.draw(connect(), {\"Term\": \"name\"})"
   ]
  },
  {
   "cell_type": "code",
   "execution_count": 5,
   "metadata": {},
   "outputs": [
    {
     "name": "stdout",
     "output_type": "stream",
     "text": [
      "Synset('apple.n.01') [Synset('edible_fruit.n.01'), Synset('pome.n.01'), Synset('apple_tree.n.01')]\n",
      "Synset('edible_fruit.n.01') [Synset('fruit.n.01'), Synset('produce.n.01')]\n",
      "Synset('pome.n.01') [Synset('fruit.n.01')]\n",
      "Synset('apple_tree.n.01') [Synset('fruit_tree.n.01')]\n",
      "Synset('fruit.n.01') [Synset('reproductive_structure.n.01')]\n",
      "Synset('produce.n.01') [Synset('food.n.02')]\n",
      "Synset('fruit_tree.n.01') [Synset('angiospermous_tree.n.01')]\n",
      "Synset('reproductive_structure.n.01') [Synset('plant_organ.n.01')]\n",
      "Synset('food.n.02') [Synset('solid.n.01')]\n",
      "Synset('angiospermous_tree.n.01') [Synset('tree.n.01')]\n",
      "Synset('plant_organ.n.01') [Synset('plant_part.n.01')]\n",
      "Synset('solid.n.01') [Synset('matter.n.03')]\n",
      "Synset('tree.n.01') [Synset('woody_plant.n.01')]\n",
      "Synset('plant_part.n.01') [Synset('natural_object.n.01')]\n",
      "Synset('matter.n.03') [Synset('physical_entity.n.01')]\n",
      "Synset('woody_plant.n.01') [Synset('vascular_plant.n.01')]\n",
      "[[Synset('apple.n.01'), Synset('edible_fruit.n.01'), Synset('fruit.n.01'), Synset('reproductive_structure.n.01'), Synset('plant_organ.n.01'), Synset('plant_part.n.01')], [Synset('apple.n.01'), Synset('pome.n.01'), Synset('fruit.n.01')], [Synset('apple.n.01'), Synset('apple_tree.n.01'), Synset('fruit_tree.n.01'), Synset('angiospermous_tree.n.01'), Synset('tree.n.01'), Synset('woody_plant.n.01')], [Synset('apple.n.01'), Synset('edible_fruit.n.01'), Synset('produce.n.01'), Synset('food.n.02'), Synset('solid.n.01'), Synset('matter.n.03')]]\n",
      "\n",
      "Relations hypernyms\n",
      "Synset('apple.n.01') Synset('edible_fruit.n.01')\n",
      "Synset('edible_fruit.n.01') Synset('plant_part.n.01')\n",
      "Synset('apple.n.01') Synset('pome.n.01')\n",
      "Synset('apple.n.01') Synset('apple_tree.n.01')\n",
      "Synset('apple_tree.n.01') Synset('woody_plant.n.01')\n",
      "Synset('edible_fruit.n.01') Synset('matter.n.03')\n",
      "--------------------------------------------------------------\n"
     ]
    },
    {
     "data": {
      "text/plain": [
       "{(0, 0): [Synset('apple.n.01'), Synset('apple.n.02')],\n",
       " (1, 5): [Synset('edible_fruit.n.01'),\n",
       "  Synset('pome.n.01'),\n",
       "  Synset('apple_tree.n.01')],\n",
       " (5, 3): [Synset('plant_part.n.01'),\n",
       "  Synset('matter.n.03'),\n",
       "  Synset('woody_plant.n.01')]}"
      ]
     },
     "execution_count": 5,
     "metadata": {},
     "output_type": "execute_result"
    }
   ],
   "source": [
    "from graphCreation.hypernymsCreation.generateHypernyms import *\n",
    "deleteAll(connect())\n",
    "generateHypernyms([[1,5],[5,3]], \"apple\", connect())"
   ]
  },
  {
   "cell_type": "code",
   "execution_count": 6,
   "metadata": {},
   "outputs": [
    {
     "data": {
      "text/html": [
       "<div id=\"6e188667-5c5c-4b28-8b06-a815bd270641\" style=\"height: 400px;\"></div>\n",
       "\n",
       "<script type=\"text/javascript\">\n",
       "\n",
       "    var nodes = [{\"id\": 7171, \"label\": \"plant_part\", \"group\": \"Term\", \"title\": \"(_7171:Term {definition: 'any part of a plant or fungus', name: 'plant_part'})\"}, {\"id\": 7172, \"label\": \"matter\", \"group\": \"Term\", \"title\": \"(_7172:Term {definition: 'a vaguely specified concern', name: 'matter'})\"}, {\"id\": 7186, \"label\": \"woody_plant\", \"group\": \"Term\", \"title\": \"(_7186:Term {definition: 'a plant having hard lignified tissues or woody parts especially stems', name: 'woody_plant'})\"}, {\"id\": 7161, \"label\": \"apple\", \"group\": \"Term\", \"title\": \"(_7161:Term {definition: 'fruit with red or yellow or green skin and sweet to tart crisp whitish flesh', name: 'apple'})\"}, {\"id\": 7170, \"label\": \"apple_tree\", \"group\": \"Term\", \"title\": \"(_7170:Term {definition: 'any tree of the genus Malus especially those bearing firm rounded edible fruits', name: 'apple_tree'})\"}, {\"id\": 7169, \"label\": \"pome\", \"group\": \"Term\", \"title\": \"(_7169:Term {definition: 'a fleshy fruit (apple or pear or related fruits) having seed chambers and an outer fleshy part', name: 'pome'})\"}, {\"id\": 7168, \"label\": \"edible_fruit\", \"group\": \"Term\", \"title\": \"(_7168:Term {definition: 'edible reproductive body of a seed plant especially one having sweet flesh', name: 'edible_fruit'})\"}];\n",
       "    var edges = [{\"from\": 7161, \"to\": 7170, \"label\": \"ISA\"}, {\"from\": 7161, \"to\": 7169, \"label\": \"ISA\"}, {\"from\": 7161, \"to\": 7168, \"label\": \"ISA\"}, {\"from\": 7170, \"to\": 7186, \"label\": \"ISA\"}, {\"from\": 7168, \"to\": 7172, \"label\": \"ISA\"}, {\"from\": 7168, \"to\": 7171, \"label\": \"ISA\"}];\n",
       "\n",
       "    var container = document.getElementById(\"6e188667-5c5c-4b28-8b06-a815bd270641\");\n",
       "\n",
       "    var data = {\n",
       "        nodes: nodes,\n",
       "        edges: edges\n",
       "    };\n",
       "\n",
       "    var options = {\n",
       "    nodes: {\n",
       "        shape: 'dot',\n",
       "        size: 25,\n",
       "        font: {\n",
       "            size: 14\n",
       "        }\n",
       "    },\n",
       "    edges: {\n",
       "        font: {\n",
       "            size: 14,\n",
       "            align: 'middle'\n",
       "        },\n",
       "        color: 'gray',\n",
       "        arrows: {\n",
       "            to: {\n",
       "                enabled: true,\n",
       "                scaleFactor: 0.5\n",
       "            }\n",
       "        },\n",
       "        smooth: {\n",
       "            enabled: false\n",
       "        }\n",
       "    },\n",
       "    physics: {\n",
       "        enabled: true\n",
       "        }\n",
       "    };\n",
       "\n",
       "    var network = new vis.Network(container, data, options);\n",
       "\n",
       "</script>\n"
      ],
      "text/plain": [
       "<IPython.core.display.HTML object>"
      ]
     },
     "execution_count": 6,
     "metadata": {},
     "output_type": "execute_result"
    }
   ],
   "source": [
    "neo4jupyter.draw(connect(), {\"Term\": \"name\"})"
   ]
  },
  {
   "cell_type": "code",
   "execution_count": 7,
   "metadata": {},
   "outputs": [
    {
     "name": "stdout",
     "output_type": "stream",
     "text": [
      "Synset('apple.n.01') [Synset('cooking_apple.n.01'), Synset('crab_apple.n.03'), Synset('eating_apple.n.01')]\n",
      "Synset('cooking_apple.n.01') [Synset('bramley's_seedling.n.01'), Synset('lane's_prince_albert.n.01'), Synset('newtown_wonder.n.01'), Synset('rome_beauty.n.01')]\n",
      "Synset('crab_apple.n.03') []\n",
      "Synset('eating_apple.n.01') [Synset('baldwin.n.03'), Synset('cortland.n.01'), Synset('delicious.n.01'), Synset('empire.n.05'), Synset('granny_smith.n.01'), Synset('grimes'_golden.n.01'), Synset('jonathan.n.01'), Synset('mcintosh.n.01'), Synset('northern_spy.n.01'), Synset('pearmain.n.01'), Synset('pippin.n.01'), Synset('prima.n.01'), Synset('stayman.n.01'), Synset('stayman_winesap.n.01'), Synset('winesap.n.01')]\n",
      "Synset('bramley's_seedling.n.01') []\n",
      "Synset('lane's_prince_albert.n.01') []\n",
      "Synset('newtown_wonder.n.01') []\n",
      "Synset('baldwin.n.03') []\n",
      "Synset('cortland.n.01') []\n",
      "Synset('delicious.n.01') [Synset('golden_delicious.n.01'), Synset('red_delicious.n.01')]\n",
      "Synset('golden_delicious.n.01') []\n",
      "Synset('red_delicious.n.01') []\n",
      "\n",
      "Relations hyponyms\n",
      "Synset('apple.n.01') Synset('cooking_apple.n.01')\n",
      "Synset('cooking_apple.n.01') Synset('bramley's_seedling.n.01')\n",
      "Synset('apple.n.01') Synset('crab_apple.n.03')\n",
      "Synset('apple.n.01') Synset('eating_apple.n.01')\n",
      "Synset('eating_apple.n.01') Synset('baldwin.n.03')\n",
      "Synset('cooking_apple.n.01') Synset('lane's_prince_albert.n.01')\n",
      "Synset('cooking_apple.n.01') Synset('newtown_wonder.n.01')\n",
      "Synset('eating_apple.n.01') Synset('cortland.n.01')\n",
      "Synset('eating_apple.n.01') Synset('delicious.n.01')\n",
      "Synset('delicious.n.01') Synset('golden_delicious.n.01')\n",
      "Synset('delicious.n.01') Synset('red_delicious.n.01')\n"
     ]
    },
    {
     "data": {
      "text/plain": [
       "{(0, 0): [Synset('apple.n.01'), Synset('apple.n.02')],\n",
       " (1, 5): [Synset('cooking_apple.n.01'),\n",
       "  Synset('crab_apple.n.03'),\n",
       "  Synset('eating_apple.n.01')],\n",
       " (2, 3): [Synset('bramley's_seedling.n.01'),\n",
       "  Synset('lane's_prince_albert.n.01'),\n",
       "  Synset('newtown_wonder.n.01'),\n",
       "  Synset('baldwin.n.03'),\n",
       "  Synset('cortland.n.01'),\n",
       "  Synset('delicious.n.01')],\n",
       " (3, 5): [Synset('golden_delicious.n.01'), Synset('red_delicious.n.01')]}"
      ]
     },
     "execution_count": 7,
     "metadata": {},
     "output_type": "execute_result"
    }
   ],
   "source": [
    "from graphCreation.hyponymsCreation.generateHyponyms import *\n",
    "deleteAll(connect())\n",
    "generateHyponyms([[1,5],[2,3],[3,5]], \"apple\", connect())"
   ]
  },
  {
   "cell_type": "code",
   "execution_count": 8,
   "metadata": {},
   "outputs": [
    {
     "data": {
      "text/html": [
       "<div id=\"98d663f9-d910-40fb-8ec9-c455026430a3\" style=\"height: 400px;\"></div>\n",
       "\n",
       "<script type=\"text/javascript\">\n",
       "\n",
       "    var nodes = [{\"id\": 7438, \"label\": \"baldwin\", \"group\": \"Term\", \"title\": \"(_7438:Term {definition: 'United States author who was an outspoken critic of racism (1924-1987)', name: 'baldwin'})\"}, {\"id\": 7200, \"label\": \"eating_apple\", \"group\": \"Term\", \"title\": \"(_7200:Term {definition: 'an apple used primarily for eating raw without cooking', name: 'eating_apple'})\"}, {\"id\": 7401, \"label\": \"lane's_prince_albert\", \"group\": \"Term\", \"title\": \"(_7401:Term {definition: 'apple used primarily in cooking', name: \\\"lane's_prince_albert\\\"})\"}, {\"id\": 7193, \"label\": \"cooking_apple\", \"group\": \"Term\", \"title\": \"(_7193:Term {definition: 'an apple used primarily in cooking for pies and applesauce etc', name: 'cooking_apple'})\"}, {\"id\": 7187, \"label\": \"apple\", \"group\": \"Term\", \"title\": \"(_7187:Term {definition: 'fruit with red or yellow or green skin and sweet to tart crisp whitish flesh', name: 'apple'})\"}, {\"id\": 7437, \"label\": \"newtown_wonder\", \"group\": \"Term\", \"title\": \"(_7437:Term {definition: 'apple used primarily in cooking', name: 'newtown_wonder'})\"}, {\"id\": 7219, \"label\": \"bramley's_seedling\", \"group\": \"Term\", \"title\": \"(_7219:Term {definition: 'very large cooking apple', name: \\\"bramley's_seedling\\\"})\"}, {\"id\": 7441, \"label\": \"golden_delicious\", \"group\": \"Term\", \"title\": \"(_7441:Term {definition: 'a sweet eating apple with yellow skin', name: 'golden_delicious'})\"}, {\"id\": 7440, \"label\": \"delicious\", \"group\": \"Term\", \"title\": \"(_7440:Term {definition: 'variety of sweet eating apples', name: 'delicious'})\"}, {\"id\": 7442, \"label\": \"red_delicious\", \"group\": \"Term\", \"title\": \"(_7442:Term {definition: 'a sweet eating apple with bright red skin; most widely grown apple worldwide', name: 'red_delicious'})\"}, {\"id\": 7199, \"label\": \"crab_apple\", \"group\": \"Term\", \"title\": \"(_7199:Term {definition: 'any of numerous varieties of crab apples cultivated for their small acidic (usually bright red) fruit used for preserves or as ornamentals for their blossoms', name: 'crab_apple'})\"}, {\"id\": 7439, \"label\": \"cortland\", \"group\": \"Term\", \"title\": \"(_7439:Term {definition: 'large apple with a red skin', name: 'cortland'})\"}];\n",
       "    var edges = [{\"from\": 7438, \"to\": 7200, \"label\": \"ISA\"}, {\"from\": 7401, \"to\": 7193, \"label\": \"ISA\"}, {\"from\": 7200, \"to\": 7187, \"label\": \"ISA\"}, {\"from\": 7437, \"to\": 7193, \"label\": \"ISA\"}, {\"from\": 7219, \"to\": 7193, \"label\": \"ISA\"}, {\"from\": 7193, \"to\": 7187, \"label\": \"ISA\"}, {\"from\": 7441, \"to\": 7440, \"label\": \"ISA\"}, {\"from\": 7442, \"to\": 7440, \"label\": \"ISA\"}, {\"from\": 7440, \"to\": 7200, \"label\": \"ISA\"}, {\"from\": 7199, \"to\": 7187, \"label\": \"ISA\"}, {\"from\": 7439, \"to\": 7200, \"label\": \"ISA\"}];\n",
       "\n",
       "    var container = document.getElementById(\"98d663f9-d910-40fb-8ec9-c455026430a3\");\n",
       "\n",
       "    var data = {\n",
       "        nodes: nodes,\n",
       "        edges: edges\n",
       "    };\n",
       "\n",
       "    var options = {\n",
       "    nodes: {\n",
       "        shape: 'dot',\n",
       "        size: 25,\n",
       "        font: {\n",
       "            size: 14\n",
       "        }\n",
       "    },\n",
       "    edges: {\n",
       "        font: {\n",
       "            size: 14,\n",
       "            align: 'middle'\n",
       "        },\n",
       "        color: 'gray',\n",
       "        arrows: {\n",
       "            to: {\n",
       "                enabled: true,\n",
       "                scaleFactor: 0.5\n",
       "            }\n",
       "        },\n",
       "        smooth: {\n",
       "            enabled: false\n",
       "        }\n",
       "    },\n",
       "    physics: {\n",
       "        enabled: true\n",
       "        }\n",
       "    };\n",
       "\n",
       "    var network = new vis.Network(container, data, options);\n",
       "\n",
       "</script>\n"
      ],
      "text/plain": [
       "<IPython.core.display.HTML object>"
      ]
     },
     "execution_count": 8,
     "metadata": {},
     "output_type": "execute_result"
    }
   ],
   "source": [
    "neo4jupyter.draw(connect(), {\"Term\": \"name\"})"
   ]
  },
  {
   "cell_type": "code",
   "execution_count": 9,
   "metadata": {},
   "outputs": [
    {
     "name": "stdout",
     "output_type": "stream",
     "text": [
      "Synset('apple.n.01') [Synset('edible_fruit.n.01'), Synset('pome.n.01'), Synset('apple_tree.n.01')]\n",
      "Synset('edible_fruit.n.01') [Synset('fruit.n.01'), Synset('produce.n.01')]\n",
      "Synset('pome.n.01') [Synset('fruit.n.01')]\n",
      "Synset('apple_tree.n.01') [Synset('fruit_tree.n.01')]\n",
      "Synset('fruit.n.01') [Synset('reproductive_structure.n.01')]\n",
      "Synset('produce.n.01') [Synset('food.n.02')]\n",
      "Synset('fruit_tree.n.01') [Synset('angiospermous_tree.n.01')]\n",
      "[[Synset('apple.n.01'), Synset('edible_fruit.n.01'), Synset('fruit.n.01')], [Synset('apple.n.01'), Synset('pome.n.01'), Synset('fruit.n.01')], [Synset('apple.n.01'), Synset('apple_tree.n.01'), Synset('fruit_tree.n.01')], [Synset('apple.n.01'), Synset('edible_fruit.n.01'), Synset('produce.n.01')]]\n",
      "\n",
      "Relations hypernyms\n",
      "Synset('apple.n.01') Synset('edible_fruit.n.01')\n",
      "Synset('edible_fruit.n.01') Synset('fruit.n.01')\n",
      "Synset('apple.n.01') Synset('pome.n.01')\n",
      "Synset('pome.n.01') Synset('fruit.n.01')\n",
      "Synset('apple.n.01') Synset('apple_tree.n.01')\n",
      "Synset('apple_tree.n.01') Synset('fruit_tree.n.01')\n",
      "Synset('edible_fruit.n.01') Synset('produce.n.01')\n",
      "--------------------------------------------------------------\n",
      "Synset('apple.n.01') [Synset('cooking_apple.n.01'), Synset('crab_apple.n.03'), Synset('eating_apple.n.01')]\n",
      "Synset('cooking_apple.n.01') [Synset('bramley's_seedling.n.01'), Synset('lane's_prince_albert.n.01'), Synset('newtown_wonder.n.01'), Synset('rome_beauty.n.01')]\n",
      "Synset('crab_apple.n.03') []\n",
      "Synset('eating_apple.n.01') [Synset('baldwin.n.03'), Synset('cortland.n.01'), Synset('delicious.n.01'), Synset('empire.n.05'), Synset('granny_smith.n.01'), Synset('grimes'_golden.n.01'), Synset('jonathan.n.01'), Synset('mcintosh.n.01'), Synset('northern_spy.n.01'), Synset('pearmain.n.01'), Synset('pippin.n.01'), Synset('prima.n.01'), Synset('stayman.n.01'), Synset('stayman_winesap.n.01'), Synset('winesap.n.01')]\n",
      "Synset('bramley's_seedling.n.01') []\n",
      "Synset('lane's_prince_albert.n.01') []\n",
      "Synset('newtown_wonder.n.01') []\n",
      "Synset('baldwin.n.03') []\n",
      "Synset('cortland.n.01') []\n",
      "Synset('delicious.n.01') [Synset('golden_delicious.n.01'), Synset('red_delicious.n.01')]\n",
      "\n",
      "Relations hyponyms\n",
      "Synset('apple.n.01') Synset('cooking_apple.n.01')\n",
      "Synset('cooking_apple.n.01') Synset('bramley's_seedling.n.01')\n",
      "Synset('apple.n.01') Synset('crab_apple.n.03')\n",
      "Synset('apple.n.01') Synset('eating_apple.n.01')\n",
      "Synset('eating_apple.n.01') Synset('baldwin.n.03')\n",
      "Synset('cooking_apple.n.01') Synset('lane's_prince_albert.n.01')\n",
      "Synset('cooking_apple.n.01') Synset('newtown_wonder.n.01')\n",
      "Synset('eating_apple.n.01') Synset('cortland.n.01')\n",
      "Synset('eating_apple.n.01') Synset('delicious.n.01')\n",
      "\n",
      "\n",
      "Same\n",
      "edible_fruit [Synset('accessory_fruit.n.01'), Synset('juniper_berry.n.01')]\n",
      "pome [Synset('seed.n.01'), Synset('berry.n.02')]\n",
      "apple_tree [Synset('jaboticaba.n.01'), Synset('hog_plum.n.01')]\n",
      "\n",
      "\n",
      "Same\n",
      "bramley's_seedling [Synset('rome_beauty.n.01'), Synset('lane's_prince_albert.n.01')]\n",
      "lane's_prince_albert [Synset('rome_beauty.n.01'), Synset('bramley's_seedling.n.01')]\n",
      "newtown_wonder [Synset('rome_beauty.n.01'), Synset('bramley's_seedling.n.01')]\n",
      "baldwin [Synset('cortland.n.01'), Synset('prima.n.01')]\n",
      "cortland [Synset('mcintosh.n.01'), Synset('stayman_winesap.n.01')]\n",
      "delicious [Synset('stayman.n.01'), Synset('grimes'_golden.n.01')]\n"
     ]
    }
   ],
   "source": [
    "from graphCreation.sameCreation.generateSame import *\n",
    "deleteAll(connect())\n",
    "generateHypernyms([[1,5],[2,3]], \"apple\", connect())\n",
    "generateHyponyms([[1,5],[2,3]], \"apple\", connect())\n",
    "generateSame(\"apple\", [[1,2],[-2,2]], connect())\n"
   ]
  },
  {
   "cell_type": "code",
   "execution_count": 10,
   "metadata": {},
   "outputs": [
    {
     "data": {
      "text/html": [
       "<div id=\"f2cf400e-8e68-4f95-84db-fe945354959b\" style=\"height: 400px;\"></div>\n",
       "\n",
       "<script type=\"text/javascript\">\n",
       "\n",
       "    var nodes = [{\"id\": 7456, \"label\": \"rome_beauty\", \"group\": \"Term\", \"title\": \"(_7456:Term {definition: 'large red apple used primarily for baking', name: 'rome_beauty'})\"}, {\"id\": 7317, \"label\": \"newtown_wonder\", \"group\": \"Term\", \"title\": \"(_7317:Term {definition: 'apple used primarily in cooking', name: 'newtown_wonder'})\"}, {\"id\": 7307, \"label\": \"lane's_prince_albert\", \"group\": \"Term\", \"title\": \"(_7307:Term {definition: 'apple used primarily in cooking', name: \\\"lane's_prince_albert\\\"})\"}, {\"id\": 7164, \"label\": \"bramley's_seedling\", \"group\": \"Term\", \"title\": \"(_7164:Term {definition: 'very large cooking apple', name: \\\"bramley's_seedling\\\"})\"}, {\"id\": 7443, \"label\": \"apple\", \"group\": \"Term\", \"title\": \"(_7443:Term {definition: 'fruit with red or yellow or green skin and sweet to tart crisp whitish flesh', name: 'apple'})\"}, {\"id\": 7446, \"label\": \"apple_tree\", \"group\": \"Term\", \"title\": \"(_7446:Term {definition: 'any tree of the genus Malus especially those bearing firm rounded edible fruits', name: 'apple_tree'})\"}, {\"id\": 7445, \"label\": \"pome\", \"group\": \"Term\", \"title\": \"(_7445:Term {definition: 'a fleshy fruit (apple or pear or related fruits) having seed chambers and an outer fleshy part', name: 'pome'})\"}, {\"id\": 7444, \"label\": \"edible_fruit\", \"group\": \"Term\", \"title\": \"(_7444:Term {definition: 'edible reproductive body of a seed plant especially one having sweet flesh', name: 'edible_fruit'})\"}, {\"id\": 7461, \"label\": \"grimes'_golden\", \"group\": \"Term\", \"title\": \"(_7461:Term {definition: 'yellow apple that ripens in late autumn; eaten raw', name: \\\"grimes'_golden\\\"})\"}, {\"id\": 7398, \"label\": \"delicious\", \"group\": \"Term\", \"title\": \"(_7398:Term {definition: 'variety of sweet eating apples', name: 'delicious'})\"}, {\"id\": 7457, \"label\": \"prima\", \"group\": \"Term\", \"title\": \"(_7457:Term {definition: 'used primarily as eating apples', name: 'prima'})\"}, {\"id\": 7396, \"label\": \"baldwin\", \"group\": \"Term\", \"title\": \"(_7396:Term {definition: 'United States author who was an outspoken critic of racism (1924-1987)', name: 'baldwin'})\"}, {\"id\": 7453, \"label\": \"berry\", \"group\": \"Term\", \"title\": \"(_7453:Term {definition: 'any of numerous small and pulpy edible fruits; used as desserts or in making jams and jellies and preserves', name: 'berry'})\"}, {\"id\": 7452, \"label\": \"seed\", \"group\": \"Term\", \"title\": \"(_7452:Term {definition: 'a small hard fruit', name: 'seed'})\"}, {\"id\": 7447, \"label\": \"fruit\", \"group\": \"Term\", \"title\": \"(_7447:Term {definition: 'the ripened reproductive body of a seed plant', name: 'fruit'})\"}, {\"id\": 7459, \"label\": \"stayman_winesap\", \"group\": \"Term\", \"title\": \"(_7459:Term {definition: 'crisp tart apple; good for eating raw and suitable for cooking', name: 'stayman_winesap'})\"}, {\"id\": 7397, \"label\": \"cortland\", \"group\": \"Term\", \"title\": \"(_7397:Term {definition: 'large apple with a red skin', name: 'cortland'})\"}, {\"id\": 7455, \"label\": \"hog_plum\", \"group\": \"Term\", \"title\": \"(_7455:Term {definition: 'tropical American tree having edible yellow fruit', name: 'hog_plum'})\"}, {\"id\": 7454, \"label\": \"jaboticaba\", \"group\": \"Term\", \"title\": \"(_7454:Term {definition: 'small evergreen tropical tree native to Brazil and West Indies but introduced into southern United States; grown in Brazil for its edible tough-skinned purple grapelike fruit that grows all along the branches', name: 'jaboticaba'})\"}, {\"id\": 7449, \"label\": \"fruit_tree\", \"group\": \"Term\", \"title\": \"(_7449:Term {definition: 'tree bearing edible fruit', name: 'fruit_tree'})\"}, {\"id\": 7450, \"label\": \"cooking_apple\", \"group\": \"Term\", \"title\": \"(_7450:Term {definition: 'an apple used primarily in cooking for pies and applesauce etc', name: 'cooking_apple'})\"}, {\"id\": 7458, \"label\": \"mcintosh\", \"group\": \"Term\", \"title\": \"(_7458:Term {definition: 'early-ripening apple popular in the northeastern United States; primarily eaten raw but suitable for applesauce', name: 'mcintosh'})\"}, {\"id\": 7163, \"label\": \"eating_apple\", \"group\": \"Term\", \"title\": \"(_7163:Term {definition: 'an apple used primarily for eating raw without cooking', name: 'eating_apple'})\"}, {\"id\": 7448, \"label\": \"produce\", \"group\": \"Term\", \"title\": \"(_7448:Term {definition: 'fresh fruits and vegetable grown for the market', name: 'produce'})\"}, {\"id\": 7451, \"label\": \"juniper_berry\", \"group\": \"Term\", \"title\": \"(_7451:Term {definition: 'berrylike fruit of a plant of the genus Juniperus especially the berrylike cone of the common juniper', name: 'juniper_berry'})\"}, {\"id\": 7399, \"label\": \"accessory_fruit\", \"group\": \"Term\", \"title\": \"(_7399:Term {definition: 'fruit containing much fleshy tissue besides that of the ripened ovary; as apple or strawberry', name: 'accessory_fruit'})\"}, {\"id\": 7460, \"label\": \"stayman\", \"group\": \"Term\", \"title\": \"(_7460:Term {definition: 'apple grown chiefly in the Shenandoah Valley', name: 'stayman'})\"}, {\"id\": 7162, \"label\": \"crab_apple\", \"group\": \"Term\", \"title\": \"(_7162:Term {definition: 'any of numerous varieties of crab apples cultivated for their small acidic (usually bright red) fruit used for preserves or as ornamentals for their blossoms', name: 'crab_apple'})\"}];\n",
       "    var edges = [{\"from\": 7456, \"to\": 7317, \"label\": \"SAME\"}, {\"from\": 7456, \"to\": 7307, \"label\": \"SAME\"}, {\"from\": 7456, \"to\": 7164, \"label\": \"SAME\"}, {\"from\": 7443, \"to\": 7446, \"label\": \"ISA\"}, {\"from\": 7443, \"to\": 7445, \"label\": \"ISA\"}, {\"from\": 7443, \"to\": 7444, \"label\": \"ISA\"}, {\"from\": 7461, \"to\": 7398, \"label\": \"SAME\"}, {\"from\": 7457, \"to\": 7396, \"label\": \"SAME\"}, {\"from\": 7445, \"to\": 7453, \"label\": \"SAME\"}, {\"from\": 7445, \"to\": 7452, \"label\": \"SAME\"}, {\"from\": 7445, \"to\": 7447, \"label\": \"ISA\"}, {\"from\": 7459, \"to\": 7397, \"label\": \"SAME\"}, {\"from\": 7446, \"to\": 7455, \"label\": \"SAME\"}, {\"from\": 7446, \"to\": 7454, \"label\": \"SAME\"}, {\"from\": 7446, \"to\": 7449, \"label\": \"ISA\"}, {\"from\": 7450, \"to\": 7443, \"label\": \"ISA\"}, {\"from\": 7397, \"to\": 7459, \"label\": \"SAME\"}, {\"from\": 7397, \"to\": 7458, \"label\": \"SAME\"}, {\"from\": 7397, \"to\": 7396, \"label\": \"SAME\"}, {\"from\": 7397, \"to\": 7163, \"label\": \"ISA\"}, {\"from\": 7452, \"to\": 7445, \"label\": \"SAME\"}, {\"from\": 7444, \"to\": 7451, \"label\": \"SAME\"}, {\"from\": 7444, \"to\": 7399, \"label\": \"SAME\"}, {\"from\": 7444, \"to\": 7448, \"label\": \"ISA\"}, {\"from\": 7444, \"to\": 7447, \"label\": \"ISA\"}, {\"from\": 7317, \"to\": 7164, \"label\": \"SAME\"}, {\"from\": 7317, \"to\": 7456, \"label\": \"SAME\"}, {\"from\": 7317, \"to\": 7450, \"label\": \"ISA\"}, {\"from\": 7454, \"to\": 7446, \"label\": \"SAME\"}, {\"from\": 7398, \"to\": 7461, \"label\": \"SAME\"}, {\"from\": 7398, \"to\": 7460, \"label\": \"SAME\"}, {\"from\": 7398, \"to\": 7163, \"label\": \"ISA\"}, {\"from\": 7396, \"to\": 7457, \"label\": \"SAME\"}, {\"from\": 7396, \"to\": 7397, \"label\": \"SAME\"}, {\"from\": 7396, \"to\": 7163, \"label\": \"ISA\"}, {\"from\": 7162, \"to\": 7443, \"label\": \"ISA\"}, {\"from\": 7460, \"to\": 7398, \"label\": \"SAME\"}, {\"from\": 7451, \"to\": 7444, \"label\": \"SAME\"}, {\"from\": 7453, \"to\": 7445, \"label\": \"SAME\"}, {\"from\": 7455, \"to\": 7446, \"label\": \"SAME\"}, {\"from\": 7399, \"to\": 7444, \"label\": \"SAME\"}, {\"from\": 7164, \"to\": 7317, \"label\": \"SAME\"}, {\"from\": 7164, \"to\": 7307, \"label\": \"SAME\"}, {\"from\": 7164, \"to\": 7456, \"label\": \"SAME\"}, {\"from\": 7164, \"to\": 7450, \"label\": \"ISA\"}, {\"from\": 7458, \"to\": 7397, \"label\": \"SAME\"}, {\"from\": 7163, \"to\": 7443, \"label\": \"ISA\"}, {\"from\": 7307, \"to\": 7456, \"label\": \"SAME\"}, {\"from\": 7307, \"to\": 7164, \"label\": \"SAME\"}, {\"from\": 7307, \"to\": 7450, \"label\": \"ISA\"}];\n",
       "\n",
       "    var container = document.getElementById(\"f2cf400e-8e68-4f95-84db-fe945354959b\");\n",
       "\n",
       "    var data = {\n",
       "        nodes: nodes,\n",
       "        edges: edges\n",
       "    };\n",
       "\n",
       "    var options = {\n",
       "    nodes: {\n",
       "        shape: 'dot',\n",
       "        size: 25,\n",
       "        font: {\n",
       "            size: 14\n",
       "        }\n",
       "    },\n",
       "    edges: {\n",
       "        font: {\n",
       "            size: 14,\n",
       "            align: 'middle'\n",
       "        },\n",
       "        color: 'gray',\n",
       "        arrows: {\n",
       "            to: {\n",
       "                enabled: true,\n",
       "                scaleFactor: 0.5\n",
       "            }\n",
       "        },\n",
       "        smooth: {\n",
       "            enabled: false\n",
       "        }\n",
       "    },\n",
       "    physics: {\n",
       "        enabled: true\n",
       "        }\n",
       "    };\n",
       "\n",
       "    var network = new vis.Network(container, data, options);\n",
       "\n",
       "</script>\n"
      ],
      "text/plain": [
       "<IPython.core.display.HTML object>"
      ]
     },
     "execution_count": 10,
     "metadata": {},
     "output_type": "execute_result"
    }
   ],
   "source": [
    "neo4jupyter.draw(connect(), {\"Term\": \"name\"})"
   ]
  },
  {
   "cell_type": "code",
   "execution_count": null,
   "metadata": {},
   "outputs": [],
   "source": []
  }
 ],
 "metadata": {
  "kernelspec": {
   "display_name": "Python 3",
   "language": "python",
   "name": "python3"
  },
  "language_info": {
   "codemirror_mode": {
    "name": "ipython",
    "version": 3
   },
   "file_extension": ".py",
   "mimetype": "text/x-python",
   "name": "python",
   "nbconvert_exporter": "python",
   "pygments_lexer": "ipython3",
   "version": "3.7.3"
  }
 },
 "nbformat": 4,
 "nbformat_minor": 4
}
