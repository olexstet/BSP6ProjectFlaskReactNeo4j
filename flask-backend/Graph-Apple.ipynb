{
 "cells": [
  {
   "cell_type": "code",
   "execution_count": 1,
   "metadata": {},
   "outputs": [],
   "source": [
    "import sys\n",
    "sys.path.append('../flask-backend/')"
   ]
  },
  {
   "cell_type": "code",
   "execution_count": 2,
   "metadata": {},
   "outputs": [],
   "source": [
    "import neo4jupyter\n",
    "from graphCreation.graphSetups.commands import *"
   ]
  },
  {
   "cell_type": "code",
   "execution_count": 3,
   "metadata": {
    "scrolled": false
   },
   "outputs": [
    {
     "name": "stdout",
     "output_type": "stream",
     "text": [
      "Synset('apple.n.01') [Synset('edible_fruit.n.01'), Synset('pome.n.01')]\n",
      "Synset('edible_fruit.n.01') [Synset('fruit.n.01'), Synset('produce.n.01')]\n",
      "Synset('pome.n.01') [Synset('fruit.n.01')]\n",
      "Synset('fruit.n.01') [Synset('reproductive_structure.n.01')]\n",
      "Synset('produce.n.01') [Synset('food.n.02')]\n",
      "[[Synset('apple.n.01'), Synset('edible_fruit.n.01'), Synset('fruit.n.01')], [Synset('apple.n.01'), Synset('pome.n.01'), Synset('fruit.n.01')], [Synset('apple.n.01'), Synset('edible_fruit.n.01'), Synset('produce.n.01')]]\n",
      "\n",
      "Relations hypernyms\n",
      "Synset('apple.n.01') Synset('edible_fruit.n.01')\n",
      "Synset('edible_fruit.n.01') Synset('fruit.n.01')\n",
      "Synset('apple.n.01') Synset('pome.n.01')\n",
      "Synset('pome.n.01') Synset('fruit.n.01')\n",
      "Synset('edible_fruit.n.01') Synset('produce.n.01')\n",
      "--------------------------------------------------------------\n",
      "Synset('apple.n.01') [Synset('cooking_apple.n.01'), Synset('crab_apple.n.03'), Synset('eating_apple.n.01')]\n",
      "Synset('cooking_apple.n.01') [Synset('bramley's_seedling.n.01'), Synset('lane's_prince_albert.n.01'), Synset('newtown_wonder.n.01'), Synset('rome_beauty.n.01')]\n",
      "Synset('crab_apple.n.03') []\n",
      "Synset('eating_apple.n.01') [Synset('baldwin.n.03'), Synset('cortland.n.01'), Synset('delicious.n.01'), Synset('empire.n.05'), Synset('granny_smith.n.01'), Synset('grimes'_golden.n.01'), Synset('jonathan.n.01'), Synset('mcintosh.n.01'), Synset('northern_spy.n.01'), Synset('pearmain.n.01'), Synset('pippin.n.01'), Synset('prima.n.01'), Synset('stayman.n.01'), Synset('stayman_winesap.n.01'), Synset('winesap.n.01')]\n",
      "Synset('bramley's_seedling.n.01') []\n",
      "Synset('lane's_prince_albert.n.01') []\n",
      "Synset('newtown_wonder.n.01') []\n",
      "Synset('baldwin.n.03') []\n",
      "Synset('cortland.n.01') []\n",
      "Synset('delicious.n.01') [Synset('golden_delicious.n.01'), Synset('red_delicious.n.01')]\n",
      "Synset('golden_delicious.n.01') []\n",
      "Synset('red_delicious.n.01') []\n",
      "\n",
      "Relations hyponyms\n",
      "Synset('apple.n.01') Synset('cooking_apple.n.01')\n",
      "Synset('cooking_apple.n.01') Synset('bramley's_seedling.n.01')\n",
      "Synset('apple.n.01') Synset('crab_apple.n.03')\n",
      "Synset('apple.n.01') Synset('eating_apple.n.01')\n",
      "Synset('eating_apple.n.01') Synset('baldwin.n.03')\n",
      "Synset('cooking_apple.n.01') Synset('lane's_prince_albert.n.01')\n",
      "Synset('cooking_apple.n.01') Synset('newtown_wonder.n.01')\n",
      "Synset('eating_apple.n.01') Synset('cortland.n.01')\n",
      "Synset('eating_apple.n.01') Synset('delicious.n.01')\n",
      "Synset('delicious.n.01') Synset('golden_delicious.n.01')\n",
      "Synset('delicious.n.01') Synset('red_delicious.n.01')\n",
      "\n",
      "\n",
      "Same\n",
      "apple [Synset('quince.n.02'), Synset('sorb.n.01'), Synset('jackfruit.n.02'), Synset('cocoa_plum.n.02'), Synset('loquat.n.02')]\n",
      "\n",
      "\n",
      "Same\n",
      "edible_fruit [Synset('hagberry.n.01'), Synset('prairie_gourd.n.01'), Synset('rowanberry.n.01'), Synset('berry.n.02'), Synset('pod.n.02')]\n",
      "pome [Synset('pod.n.02'), Synset('seed.n.01'), Synset('accessory_fruit.n.01'), Synset('hip.n.05'), Synset('acorn.n.01')]\n",
      "\n",
      "\n",
      "Same\n",
      "bramley's_seedling [Synset('newtown_wonder.n.01'), Synset('lane's_prince_albert.n.01'), Synset('rome_beauty.n.01')]\n",
      "lane's_prince_albert [Synset('rome_beauty.n.01'), Synset('newtown_wonder.n.01'), Synset('bramley's_seedling.n.01')]\n",
      "newtown_wonder [Synset('bramley's_seedling.n.01'), Synset('rome_beauty.n.01'), Synset('lane's_prince_albert.n.01')]\n",
      "baldwin [Synset('mcintosh.n.01'), Synset('delicious.n.01'), Synset('stayman.n.01')]\n",
      "cortland [Synset('mcintosh.n.01'), Synset('stayman.n.01'), Synset('prima.n.01')]\n",
      "delicious [Synset('jonathan.n.01'), Synset('winesap.n.01'), Synset('baldwin.n.03')]\n"
     ]
    }
   ],
   "source": [
    "from graphCreation.main import generateGraph\n",
    "generateGraph(\"apple\",[[1,4],[2,2]], [[1,5],[2,3],[3,5]], [[0,5],[1,5],[-2,3]]) # change same for 30 200 10 "
   ]
  },
  {
   "cell_type": "code",
   "execution_count": 4,
   "metadata": {
    "scrolled": true
   },
   "outputs": [
    {
     "data": {
      "application/javascript": [
       "var link = document.createElement(\"link\");\n",
       "\tlink.ref = \"stylesheet\";\n",
       "\tlink.type = \"text/css\";\n",
       "\tlink.href = \"https://cdnjs.cloudflare.com/ajax/libs/vis/4.8.2/vis.css\";\n",
       "\tdocument.head.appendChild(link);\n",
       "require.config({     paths: {         vis: '//cdnjs.cloudflare.com/ajax/libs/vis/4.8.2/vis.min'     } }); require(['vis'], function(vis) {  window.vis = vis; }); "
      ],
      "text/plain": [
       "<IPython.core.display.Javascript object>"
      ]
     },
     "metadata": {},
     "output_type": "display_data"
    },
    {
     "data": {
      "text/html": [
       "<div id=\"c6314f95-801d-4832-ad9a-6c52f81ef67b\" style=\"height: 400px;\"></div>\n",
       "\n",
       "<script type=\"text/javascript\">\n",
       "\n",
       "    var nodes = [{\"id\": 7452, \"label\": \"rowanberry::Name\", \"group\": \"Term\", \"title\": \"(_7452:Term {definition: 'decorative red berrylike fruit of a rowan tree', label: 'rowanberry::Name', name: 'rowanberry', type: 'Name'})\"}, {\"id\": 7423, \"label\": \"edible_fruit::Name\", \"group\": \"Term\", \"title\": \"(_7423:Term {definition: 'edible reproductive body of a seed plant especially one having sweet flesh', label: 'edible_fruit::Name', name: 'edible_fruit', type: 'Name'})\"}, {\"id\": 7447, \"label\": \"jackfruit::Name\", \"group\": \"Term\", \"title\": \"(_7447:Term {definition: 'East Indian tree cultivated for its immense edible fruit and seeds', label: 'jackfruit::Name', name: 'jackfruit', type: 'Name'})\"}, {\"id\": 7422, \"label\": \"apple::Name\", \"group\": \"Term\", \"title\": \"(_7422:Term {definition: 'fruit with red or yellow or green skin and sweet to tart crisp whitish flesh', label: 'apple::Name', name: 'apple', type: 'Name'})\"}, {\"id\": 7472, \"label\": \"pod::Name\", \"group\": \"Term\", \"title\": \"(_7472:Term {definition: 'the vessel that contains the seeds of a plant (not the seeds themselves)', label: 'pod::Name', name: 'pod', type: 'Name'})\"}, {\"id\": 7424, \"label\": \"pome::Name\", \"group\": \"Term\", \"title\": \"(_7424:Term {definition: 'a fleshy fruit (apple or pear or related fruits) having seed chambers and an outer fleshy part', label: 'pome::Name', name: 'pome', type: 'Name'})\"}, {\"id\": 7473, \"label\": \"seed::Name\", \"group\": \"Term\", \"title\": \"(_7473:Term {definition: 'a small hard fruit', label: 'seed::Name', name: 'seed', type: 'Name'})\"}, {\"id\": 7443, \"label\": \"golden_delicious::Name\", \"group\": \"Term\", \"title\": \"(_7443:Term {definition: 'a sweet eating apple with yellow skin', label: 'golden_delicious::Name', name: 'golden_delicious', type: 'Name'})\"}, {\"id\": 7442, \"label\": \"delicious::Name\", \"group\": \"Term\", \"title\": \"(_7442:Term {definition: 'variety of sweet eating apples', label: 'delicious::Name', name: 'delicious', type: 'Name'})\"}, {\"id\": 7449, \"label\": \"loquat::Name\", \"group\": \"Term\", \"title\": \"(_7449:Term {definition: 'evergreen tree of warm regions having fuzzy yellow olive-sized fruit with a large free stone; native to China and Japan', label: 'loquat::Name', name: 'loquat', type: 'Name'})\"}, {\"id\": 7448, \"label\": \"cocoa_plum::Name\", \"group\": \"Term\", \"title\": \"(_7448:Term {definition: 'small tropical American tree bearing edible plumlike fruit', label: 'cocoa_plum::Name', name: 'cocoa_plum', type: 'Name'})\"}, {\"id\": 7446, \"label\": \"sorb::Name\", \"group\": \"Term\", \"title\": \"(_7446:Term {definition: 'acid gritty-textured fruit', label: 'sorb::Name', name: 'sorb', type: 'Name'})\"}, {\"id\": 7445, \"label\": \"quince::Name\", \"group\": \"Term\", \"title\": \"(_7445:Term {definition: 'small Asian tree with pinkish flowers and pear-shaped fruit; widely cultivated', label: 'quince::Name', name: 'quince', type: 'Name'})\"}, {\"id\": 7451, \"label\": \"prairie_gourd::Name\", \"group\": \"Term\", \"title\": \"(_7451:Term {definition: 'small hard green-and-white inedible fruit of the prairie gourd plant', label: 'prairie_gourd::Name', name: 'prairie_gourd', type: 'Name'})\"}, {\"id\": 7433, \"label\": \"produce::Name\", \"group\": \"Term\", \"title\": \"(_7433:Term {definition: 'fresh fruits and vegetable grown for the market', label: 'produce::Name', name: 'produce', type: 'Name'})\"}, {\"id\": 7583, \"label\": \"stayman::Name\", \"group\": \"Term\", \"title\": \"(_7583:Term {definition: 'apple grown chiefly in the Shenandoah Valley', label: 'stayman::Name', name: 'stayman', type: 'Name'})\"}, {\"id\": 7441, \"label\": \"cortland::Name\", \"group\": \"Term\", \"title\": \"(_7441:Term {definition: 'large apple with a red skin', label: 'cortland::Name', name: 'cortland', type: 'Name'})\"}, {\"id\": 7440, \"label\": \"baldwin::Name\", \"group\": \"Term\", \"title\": \"(_7440:Term {definition: 'United States author who was an outspoken critic of racism (1924-1987)', label: 'baldwin::Name', name: 'baldwin', type: 'Name'})\"}, {\"id\": 7586, \"label\": \"winesap::Name\", \"group\": \"Term\", \"title\": \"(_7586:Term {definition: 'crisp apple with dark red skin', label: 'winesap::Name', name: 'winesap', type: 'Name'})\"}, {\"id\": 7437, \"label\": \"bramley's_seedling::Name\", \"group\": \"Term\", \"title\": \"(_7437:Term {definition: 'very large cooking apple', label: \\\"bramley's_seedling::Name\\\", name: \\\"bramley's_seedling\\\", type: 'Name'})\"}, {\"id\": 7581, \"label\": \"rome_beauty::Name\", \"group\": \"Term\", \"title\": \"(_7581:Term {definition: 'large red apple used primarily for baking', label: 'rome_beauty::Name', name: 'rome_beauty', type: 'Name'})\"}, {\"id\": 7438, \"label\": \"lane's_prince_albert::Name\", \"group\": \"Term\", \"title\": \"(_7438:Term {definition: 'apple used primarily in cooking', label: \\\"lane's_prince_albert::Name\\\", name: \\\"lane's_prince_albert\\\", type: 'Name'})\"}, {\"id\": 7439, \"label\": \"newtown_wonder::Name\", \"group\": \"Term\", \"title\": \"(_7439:Term {definition: 'apple used primarily in cooking', label: 'newtown_wonder::Name', name: 'newtown_wonder', type: 'Name'})\"}, {\"id\": 7434, \"label\": \"cooking_apple::Name\", \"group\": \"Term\", \"title\": \"(_7434:Term {definition: 'an apple used primarily in cooking for pies and applesauce etc', label: 'cooking_apple::Name', name: 'cooking_apple', type: 'Name'})\"}, {\"id\": 7582, \"label\": \"mcintosh::Name\", \"group\": \"Term\", \"title\": \"(_7582:Term {definition: 'early-ripening apple popular in the northeastern United States; primarily eaten raw but suitable for applesauce', label: 'mcintosh::Name', name: 'mcintosh', type: 'Name'})\"}, {\"id\": 7580, \"label\": \"acorn::Name\", \"group\": \"Term\", \"title\": \"(_7580:Term {definition: 'fruit of the oak tree: a smooth thin-walled nut in a woody cup-shaped base', label: 'acorn::Name', name: 'acorn', type: 'Name'})\"}, {\"id\": 7579, \"label\": \"hip::Name\", \"group\": \"Term\", \"title\": \"(_7579:Term {definition: 'either side of the body below the waist and above the thigh', label: 'hip::Name', name: 'hip', type: 'Name'})\"}, {\"id\": 7578, \"label\": \"accessory_fruit::Name\", \"group\": \"Term\", \"title\": \"(_7578:Term {definition: 'fruit containing much fleshy tissue besides that of the ripened ovary; as apple or strawberry', label: 'accessory_fruit::Name', name: 'accessory_fruit', type: 'Name'})\"}, {\"id\": 7429, \"label\": \"fruit::Name\", \"group\": \"Term\", \"title\": \"(_7429:Term {definition: 'the ripened reproductive body of a seed plant', label: 'fruit::Name', name: 'fruit', type: 'Name'})\"}, {\"id\": 7585, \"label\": \"jonathan::Name\", \"group\": \"Term\", \"title\": \"(_7585:Term {definition: 'red late-ripening apple; primarily eaten raw', label: 'jonathan::Name', name: 'jonathan', type: 'Name'})\"}, {\"id\": 7436, \"label\": \"eating_apple::Name\", \"group\": \"Term\", \"title\": \"(_7436:Term {definition: 'an apple used primarily for eating raw without cooking', label: 'eating_apple::Name', name: 'eating_apple', type: 'Name'})\"}, {\"id\": 7444, \"label\": \"red_delicious::Name\", \"group\": \"Term\", \"title\": \"(_7444:Term {definition: 'a sweet eating apple with bright red skin; most widely grown apple worldwide', label: 'red_delicious::Name', name: 'red_delicious', type: 'Name'})\"}, {\"id\": 7584, \"label\": \"prima::Name\", \"group\": \"Term\", \"title\": \"(_7584:Term {definition: 'used primarily as eating apples', label: 'prima::Name', name: 'prima', type: 'Name'})\"}, {\"id\": 7453, \"label\": \"berry::Name\", \"group\": \"Term\", \"title\": \"(_7453:Term {definition: 'any of numerous small and pulpy edible fruits; used as desserts or in making jams and jellies and preserves', label: 'berry::Name', name: 'berry', type: 'Name'})\"}, {\"id\": 7450, \"label\": \"hagberry::Name\", \"group\": \"Term\", \"title\": \"(_7450:Term {definition: 'small cherry much liked by birds', label: 'hagberry::Name', name: 'hagberry', type: 'Name'})\"}, {\"id\": 7435, \"label\": \"crab_apple::Name\", \"group\": \"Term\", \"title\": \"(_7435:Term {definition: 'any of numerous varieties of crab apples cultivated for their small acidic (usually bright red) fruit used for preserves or as ornamentals for their blossoms', label: 'crab_apple::Name', name: 'crab_apple', type: 'Name'})\"}];\n",
       "    var edges = [{\"from\": 7452, \"to\": 7423, \"label\": \"SAME\"}, {\"from\": 7447, \"to\": 7422, \"label\": \"SAME\"}, {\"from\": 7472, \"to\": 7424, \"label\": \"SAME\"}, {\"from\": 7472, \"to\": 7423, \"label\": \"SAME\"}, {\"from\": 7473, \"to\": 7424, \"label\": \"SAME\"}, {\"from\": 7443, \"to\": 7442, \"label\": \"ISA\"}, {\"from\": 7422, \"to\": 7449, \"label\": \"SAME\"}, {\"from\": 7422, \"to\": 7448, \"label\": \"SAME\"}, {\"from\": 7422, \"to\": 7447, \"label\": \"SAME\"}, {\"from\": 7422, \"to\": 7446, \"label\": \"SAME\"}, {\"from\": 7422, \"to\": 7445, \"label\": \"SAME\"}, {\"from\": 7422, \"to\": 7424, \"label\": \"ISA\"}, {\"from\": 7422, \"to\": 7423, \"label\": \"ISA\"}, {\"from\": 7451, \"to\": 7423, \"label\": \"SAME\"}, {\"from\": 7583, \"to\": 7441, \"label\": \"SAME\"}, {\"from\": 7583, \"to\": 7440, \"label\": \"SAME\"}, {\"from\": 7586, \"to\": 7442, \"label\": \"SAME\"}, {\"from\": 7437, \"to\": 7581, \"label\": \"SAME\"}, {\"from\": 7437, \"to\": 7438, \"label\": \"SAME\"}, {\"from\": 7437, \"to\": 7439, \"label\": \"SAME\"}, {\"from\": 7437, \"to\": 7434, \"label\": \"ISA\"}, {\"from\": 7582, \"to\": 7441, \"label\": \"SAME\"}, {\"from\": 7582, \"to\": 7440, \"label\": \"SAME\"}, {\"from\": 7434, \"to\": 7422, \"label\": \"ISA\"}, {\"from\": 7424, \"to\": 7580, \"label\": \"SAME\"}, {\"from\": 7424, \"to\": 7579, \"label\": \"SAME\"}, {\"from\": 7424, \"to\": 7578, \"label\": \"SAME\"}, {\"from\": 7424, \"to\": 7473, \"label\": \"SAME\"}, {\"from\": 7424, \"to\": 7472, \"label\": \"SAME\"}, {\"from\": 7424, \"to\": 7429, \"label\": \"ISA\"}, {\"from\": 7580, \"to\": 7424, \"label\": \"SAME\"}, {\"from\": 7442, \"to\": 7586, \"label\": \"SAME\"}, {\"from\": 7442, \"to\": 7585, \"label\": \"SAME\"}, {\"from\": 7442, \"to\": 7440, \"label\": \"SAME\"}, {\"from\": 7442, \"to\": 7436, \"label\": \"ISA\"}, {\"from\": 7579, \"to\": 7424, \"label\": \"SAME\"}, {\"from\": 7440, \"to\": 7583, \"label\": \"SAME\"}, {\"from\": 7440, \"to\": 7442, \"label\": \"SAME\"}, {\"from\": 7440, \"to\": 7582, \"label\": \"SAME\"}, {\"from\": 7440, \"to\": 7436, \"label\": \"ISA\"}, {\"from\": 7449, \"to\": 7422, \"label\": \"SAME\"}, {\"from\": 7448, \"to\": 7422, \"label\": \"SAME\"}, {\"from\": 7578, \"to\": 7424, \"label\": \"SAME\"}, {\"from\": 7444, \"to\": 7442, \"label\": \"ISA\"}, {\"from\": 7436, \"to\": 7422, \"label\": \"ISA\"}, {\"from\": 7584, \"to\": 7441, \"label\": \"SAME\"}, {\"from\": 7445, \"to\": 7422, \"label\": \"SAME\"}, {\"from\": 7439, \"to\": 7581, \"label\": \"SAME\"}, {\"from\": 7439, \"to\": 7438, \"label\": \"SAME\"}, {\"from\": 7439, \"to\": 7437, \"label\": \"SAME\"}, {\"from\": 7439, \"to\": 7434, \"label\": \"ISA\"}, {\"from\": 7453, \"to\": 7423, \"label\": \"SAME\"}, {\"from\": 7450, \"to\": 7423, \"label\": \"SAME\"}, {\"from\": 7581, \"to\": 7439, \"label\": \"SAME\"}, {\"from\": 7581, \"to\": 7438, \"label\": \"SAME\"}, {\"from\": 7581, \"to\": 7437, \"label\": \"SAME\"}, {\"from\": 7441, \"to\": 7584, \"label\": \"SAME\"}, {\"from\": 7441, \"to\": 7583, \"label\": \"SAME\"}, {\"from\": 7441, \"to\": 7582, \"label\": \"SAME\"}, {\"from\": 7441, \"to\": 7436, \"label\": \"ISA\"}, {\"from\": 7585, \"to\": 7442, \"label\": \"SAME\"}, {\"from\": 7423, \"to\": 7472, \"label\": \"SAME\"}, {\"from\": 7423, \"to\": 7453, \"label\": \"SAME\"}, {\"from\": 7423, \"to\": 7452, \"label\": \"SAME\"}, {\"from\": 7423, \"to\": 7451, \"label\": \"SAME\"}, {\"from\": 7423, \"to\": 7450, \"label\": \"SAME\"}, {\"from\": 7423, \"to\": 7433, \"label\": \"ISA\"}, {\"from\": 7423, \"to\": 7429, \"label\": \"ISA\"}, {\"from\": 7446, \"to\": 7422, \"label\": \"SAME\"}, {\"from\": 7435, \"to\": 7422, \"label\": \"ISA\"}, {\"from\": 7438, \"to\": 7439, \"label\": \"SAME\"}, {\"from\": 7438, \"to\": 7581, \"label\": \"SAME\"}, {\"from\": 7438, \"to\": 7437, \"label\": \"SAME\"}, {\"from\": 7438, \"to\": 7434, \"label\": \"ISA\"}];\n",
       "\n",
       "    var container = document.getElementById(\"c6314f95-801d-4832-ad9a-6c52f81ef67b\");\n",
       "\n",
       "    var data = {\n",
       "        nodes: nodes,\n",
       "        edges: edges\n",
       "    };\n",
       "\n",
       "    var options = {\n",
       "    nodes: {\n",
       "        shape: 'dot',\n",
       "        size: 25,\n",
       "        font: {\n",
       "            size: 14\n",
       "        }\n",
       "    },\n",
       "    edges: {\n",
       "        font: {\n",
       "            size: 14,\n",
       "            align: 'middle'\n",
       "        },\n",
       "        color: 'gray',\n",
       "        arrows: {\n",
       "            to: {\n",
       "                enabled: true,\n",
       "                scaleFactor: 0.5\n",
       "            }\n",
       "        },\n",
       "        smooth: {\n",
       "            enabled: false\n",
       "        }\n",
       "    },\n",
       "    physics: {\n",
       "        enabled: true\n",
       "        }\n",
       "    };\n",
       "\n",
       "    var network = new vis.Network(container, data, options);\n",
       "\n",
       "</script>\n"
      ],
      "text/plain": [
       "<IPython.core.display.HTML object>"
      ]
     },
     "execution_count": 4,
     "metadata": {},
     "output_type": "execute_result"
    }
   ],
   "source": [
    "import neo4jupyter\n",
    "neo4jupyter.init_notebook_mode()\n",
    "neo4jupyter.draw(connect(), {\"Term\": \"label\"})"
   ]
  },
  {
   "cell_type": "code",
   "execution_count": 5,
   "metadata": {},
   "outputs": [
    {
     "name": "stdout",
     "output_type": "stream",
     "text": [
      "Synset('apple.n.01') [Synset('edible_fruit.n.01'), Synset('pome.n.01')]\n",
      "Synset('edible_fruit.n.01') [Synset('fruit.n.01'), Synset('produce.n.01')]\n",
      "Synset('pome.n.01') [Synset('fruit.n.01')]\n",
      "Synset('fruit.n.01') [Synset('reproductive_structure.n.01')]\n",
      "Synset('produce.n.01') [Synset('food.n.02')]\n",
      "Synset('reproductive_structure.n.01') [Synset('plant_organ.n.01')]\n",
      "Synset('food.n.02') [Synset('solid.n.01')]\n",
      "Synset('plant_organ.n.01') [Synset('plant_part.n.01')]\n",
      "Synset('solid.n.01') [Synset('matter.n.03')]\n",
      "Synset('plant_part.n.01') [Synset('natural_object.n.01')]\n",
      "Synset('matter.n.03') [Synset('physical_entity.n.01')]\n",
      "[[Synset('apple.n.01'), Synset('edible_fruit.n.01'), Synset('fruit.n.01'), Synset('reproductive_structure.n.01'), Synset('plant_organ.n.01'), Synset('plant_part.n.01')], [Synset('apple.n.01'), Synset('pome.n.01'), Synset('fruit.n.01')], [Synset('apple.n.01'), Synset('edible_fruit.n.01'), Synset('produce.n.01'), Synset('food.n.02'), Synset('solid.n.01'), Synset('matter.n.03')]]\n",
      "\n",
      "Relations hypernyms\n",
      "Synset('apple.n.01') Synset('edible_fruit.n.01')\n",
      "Synset('edible_fruit.n.01') Synset('plant_part.n.01')\n",
      "Synset('apple.n.01') Synset('pome.n.01')\n",
      "Synset('edible_fruit.n.01') Synset('matter.n.03')\n",
      "--------------------------------------------------------------\n"
     ]
    },
    {
     "data": {
      "text/plain": [
       "{(0, 0): [Synset('apple.n.01')],\n",
       " (1, 5): [Synset('edible_fruit.n.01'), Synset('pome.n.01')],\n",
       " (5, 3): [Synset('plant_part.n.01'), Synset('matter.n.03')]}"
      ]
     },
     "execution_count": 5,
     "metadata": {},
     "output_type": "execute_result"
    }
   ],
   "source": [
    "from graphCreation.hypernymsCreation.generateHypernyms import *\n",
    "deleteAll(connect())\n",
    "generateHypernyms([[1,5],[5,3]], \"apple\", connect())"
   ]
  },
  {
   "cell_type": "code",
   "execution_count": 6,
   "metadata": {},
   "outputs": [
    {
     "data": {
      "text/html": [
       "<div id=\"3ebc724e-65b8-4b50-b2d8-9519c60f2e8d\" style=\"height: 400px;\"></div>\n",
       "\n",
       "<script type=\"text/javascript\">\n",
       "\n",
       "    var nodes = [{\"id\": 7590, \"label\": \"plant_part\", \"group\": \"Term\", \"title\": \"(_7590:Term {definition: 'any part of a plant or fungus', label: 'plant_part::Name', name: 'plant_part', type: 'Name'})\"}, {\"id\": 7588, \"label\": \"edible_fruit\", \"group\": \"Term\", \"title\": \"(_7588:Term {definition: 'edible reproductive body of a seed plant especially one having sweet flesh', label: 'edible_fruit::Name', name: 'edible_fruit', type: 'Name'})\"}, {\"id\": 7591, \"label\": \"matter\", \"group\": \"Term\", \"title\": \"(_7591:Term {definition: 'a vaguely specified concern', label: 'matter::Name', name: 'matter', type: 'Name'})\"}, {\"id\": 7587, \"label\": \"apple\", \"group\": \"Term\", \"title\": \"(_7587:Term {definition: 'fruit with red or yellow or green skin and sweet to tart crisp whitish flesh', label: 'apple::Name', name: 'apple', type: 'Name'})\"}, {\"id\": 7589, \"label\": \"pome\", \"group\": \"Term\", \"title\": \"(_7589:Term {definition: 'a fleshy fruit (apple or pear or related fruits) having seed chambers and an outer fleshy part', label: 'pome::Name', name: 'pome', type: 'Name'})\"}];\n",
       "    var edges = [{\"from\": 7588, \"to\": 7591, \"label\": \"ISA\"}, {\"from\": 7588, \"to\": 7590, \"label\": \"ISA\"}, {\"from\": 7587, \"to\": 7589, \"label\": \"ISA\"}, {\"from\": 7587, \"to\": 7588, \"label\": \"ISA\"}];\n",
       "\n",
       "    var container = document.getElementById(\"3ebc724e-65b8-4b50-b2d8-9519c60f2e8d\");\n",
       "\n",
       "    var data = {\n",
       "        nodes: nodes,\n",
       "        edges: edges\n",
       "    };\n",
       "\n",
       "    var options = {\n",
       "    nodes: {\n",
       "        shape: 'dot',\n",
       "        size: 25,\n",
       "        font: {\n",
       "            size: 14\n",
       "        }\n",
       "    },\n",
       "    edges: {\n",
       "        font: {\n",
       "            size: 14,\n",
       "            align: 'middle'\n",
       "        },\n",
       "        color: 'gray',\n",
       "        arrows: {\n",
       "            to: {\n",
       "                enabled: true,\n",
       "                scaleFactor: 0.5\n",
       "            }\n",
       "        },\n",
       "        smooth: {\n",
       "            enabled: false\n",
       "        }\n",
       "    },\n",
       "    physics: {\n",
       "        enabled: true\n",
       "        }\n",
       "    };\n",
       "\n",
       "    var network = new vis.Network(container, data, options);\n",
       "\n",
       "</script>\n"
      ],
      "text/plain": [
       "<IPython.core.display.HTML object>"
      ]
     },
     "execution_count": 6,
     "metadata": {},
     "output_type": "execute_result"
    }
   ],
   "source": [
    "neo4jupyter.draw(connect(), {\"Term\": \"name\"})"
   ]
  },
  {
   "cell_type": "code",
   "execution_count": 7,
   "metadata": {},
   "outputs": [
    {
     "name": "stdout",
     "output_type": "stream",
     "text": [
      "Synset('apple.n.01') [Synset('cooking_apple.n.01'), Synset('crab_apple.n.03'), Synset('eating_apple.n.01')]\n",
      "Synset('cooking_apple.n.01') [Synset('bramley's_seedling.n.01'), Synset('lane's_prince_albert.n.01'), Synset('newtown_wonder.n.01'), Synset('rome_beauty.n.01')]\n",
      "Synset('crab_apple.n.03') []\n",
      "Synset('eating_apple.n.01') [Synset('baldwin.n.03'), Synset('cortland.n.01'), Synset('delicious.n.01'), Synset('empire.n.05'), Synset('granny_smith.n.01'), Synset('grimes'_golden.n.01'), Synset('jonathan.n.01'), Synset('mcintosh.n.01'), Synset('northern_spy.n.01'), Synset('pearmain.n.01'), Synset('pippin.n.01'), Synset('prima.n.01'), Synset('stayman.n.01'), Synset('stayman_winesap.n.01'), Synset('winesap.n.01')]\n",
      "Synset('bramley's_seedling.n.01') []\n",
      "Synset('lane's_prince_albert.n.01') []\n",
      "Synset('newtown_wonder.n.01') []\n",
      "Synset('baldwin.n.03') []\n",
      "Synset('cortland.n.01') []\n",
      "Synset('delicious.n.01') [Synset('golden_delicious.n.01'), Synset('red_delicious.n.01')]\n",
      "Synset('golden_delicious.n.01') []\n",
      "Synset('red_delicious.n.01') []\n",
      "\n",
      "Relations hyponyms\n",
      "Synset('apple.n.01') Synset('cooking_apple.n.01')\n",
      "Synset('cooking_apple.n.01') Synset('bramley's_seedling.n.01')\n",
      "Synset('apple.n.01') Synset('crab_apple.n.03')\n",
      "Synset('apple.n.01') Synset('eating_apple.n.01')\n",
      "Synset('eating_apple.n.01') Synset('baldwin.n.03')\n",
      "Synset('cooking_apple.n.01') Synset('lane's_prince_albert.n.01')\n",
      "Synset('cooking_apple.n.01') Synset('newtown_wonder.n.01')\n",
      "Synset('eating_apple.n.01') Synset('cortland.n.01')\n",
      "Synset('eating_apple.n.01') Synset('delicious.n.01')\n",
      "Synset('delicious.n.01') Synset('golden_delicious.n.01')\n",
      "Synset('delicious.n.01') Synset('red_delicious.n.01')\n"
     ]
    },
    {
     "data": {
      "text/plain": [
       "{(0, 0): [Synset('apple.n.01')],\n",
       " (1, 5): [Synset('cooking_apple.n.01'),\n",
       "  Synset('crab_apple.n.03'),\n",
       "  Synset('eating_apple.n.01')],\n",
       " (2, 3): [Synset('bramley's_seedling.n.01'),\n",
       "  Synset('lane's_prince_albert.n.01'),\n",
       "  Synset('newtown_wonder.n.01'),\n",
       "  Synset('baldwin.n.03'),\n",
       "  Synset('cortland.n.01'),\n",
       "  Synset('delicious.n.01')],\n",
       " (3, 5): [Synset('golden_delicious.n.01'), Synset('red_delicious.n.01')]}"
      ]
     },
     "execution_count": 7,
     "metadata": {},
     "output_type": "execute_result"
    }
   ],
   "source": [
    "from graphCreation.hyponymsCreation.generateHyponyms import *\n",
    "deleteAll(connect())\n",
    "generateHyponyms([[1,5],[2,3],[3,5]], \"apple\", connect())"
   ]
  },
  {
   "cell_type": "code",
   "execution_count": 8,
   "metadata": {},
   "outputs": [
    {
     "data": {
      "text/html": [
       "<div id=\"cd9e393f-659e-4f6f-9d36-09e4cc244dae\" style=\"height: 400px;\"></div>\n",
       "\n",
       "<script type=\"text/javascript\">\n",
       "\n",
       "    var nodes = [{\"id\": 7634, \"label\": \"bramley's_seedling\", \"group\": \"Term\", \"title\": \"(_7634:Term {definition: 'very large cooking apple', label: \\\"bramley's_seedling::Name\\\", name: \\\"bramley's_seedling\\\", type: 'Name'})\"}, {\"id\": 7593, \"label\": \"cooking_apple\", \"group\": \"Term\", \"title\": \"(_7593:Term {definition: 'an apple used primarily in cooking for pies and applesauce etc', label: 'cooking_apple::Name', name: 'cooking_apple', type: 'Name'})\"}, {\"id\": 7639, \"label\": \"delicious\", \"group\": \"Term\", \"title\": \"(_7639:Term {definition: 'variety of sweet eating apples', label: 'delicious::Name', name: 'delicious', type: 'Name'})\"}, {\"id\": 7633, \"label\": \"eating_apple\", \"group\": \"Term\", \"title\": \"(_7633:Term {definition: 'an apple used primarily for eating raw without cooking', label: 'eating_apple::Name', name: 'eating_apple', type: 'Name'})\"}, {\"id\": 7637, \"label\": \"baldwin\", \"group\": \"Term\", \"title\": \"(_7637:Term {definition: 'United States author who was an outspoken critic of racism (1924-1987)', label: 'baldwin::Name', name: 'baldwin', type: 'Name'})\"}, {\"id\": 7592, \"label\": \"apple\", \"group\": \"Term\", \"title\": \"(_7592:Term {definition: 'fruit with red or yellow or green skin and sweet to tart crisp whitish flesh', label: 'apple::Name', name: 'apple', type: 'Name'})\"}, {\"id\": 7640, \"label\": \"golden_delicious\", \"group\": \"Term\", \"title\": \"(_7640:Term {definition: 'a sweet eating apple with yellow skin', label: 'golden_delicious::Name', name: 'golden_delicious', type: 'Name'})\"}, {\"id\": 7635, \"label\": \"lane's_prince_albert\", \"group\": \"Term\", \"title\": \"(_7635:Term {definition: 'apple used primarily in cooking', label: \\\"lane's_prince_albert::Name\\\", name: \\\"lane's_prince_albert\\\", type: 'Name'})\"}, {\"id\": 7638, \"label\": \"cortland\", \"group\": \"Term\", \"title\": \"(_7638:Term {definition: 'large apple with a red skin', label: 'cortland::Name', name: 'cortland', type: 'Name'})\"}, {\"id\": 7636, \"label\": \"newtown_wonder\", \"group\": \"Term\", \"title\": \"(_7636:Term {definition: 'apple used primarily in cooking', label: 'newtown_wonder::Name', name: 'newtown_wonder', type: 'Name'})\"}, {\"id\": 7632, \"label\": \"crab_apple\", \"group\": \"Term\", \"title\": \"(_7632:Term {definition: 'any of numerous varieties of crab apples cultivated for their small acidic (usually bright red) fruit used for preserves or as ornamentals for their blossoms', label: 'crab_apple::Name', name: 'crab_apple', type: 'Name'})\"}, {\"id\": 7641, \"label\": \"red_delicious\", \"group\": \"Term\", \"title\": \"(_7641:Term {definition: 'a sweet eating apple with bright red skin; most widely grown apple worldwide', label: 'red_delicious::Name', name: 'red_delicious', type: 'Name'})\"}];\n",
       "    var edges = [{\"from\": 7634, \"to\": 7593, \"label\": \"ISA\"}, {\"from\": 7639, \"to\": 7633, \"label\": \"ISA\"}, {\"from\": 7637, \"to\": 7633, \"label\": \"ISA\"}, {\"from\": 7593, \"to\": 7592, \"label\": \"ISA\"}, {\"from\": 7640, \"to\": 7639, \"label\": \"ISA\"}, {\"from\": 7635, \"to\": 7593, \"label\": \"ISA\"}, {\"from\": 7633, \"to\": 7592, \"label\": \"ISA\"}, {\"from\": 7638, \"to\": 7633, \"label\": \"ISA\"}, {\"from\": 7636, \"to\": 7593, \"label\": \"ISA\"}, {\"from\": 7632, \"to\": 7592, \"label\": \"ISA\"}, {\"from\": 7641, \"to\": 7639, \"label\": \"ISA\"}];\n",
       "\n",
       "    var container = document.getElementById(\"cd9e393f-659e-4f6f-9d36-09e4cc244dae\");\n",
       "\n",
       "    var data = {\n",
       "        nodes: nodes,\n",
       "        edges: edges\n",
       "    };\n",
       "\n",
       "    var options = {\n",
       "    nodes: {\n",
       "        shape: 'dot',\n",
       "        size: 25,\n",
       "        font: {\n",
       "            size: 14\n",
       "        }\n",
       "    },\n",
       "    edges: {\n",
       "        font: {\n",
       "            size: 14,\n",
       "            align: 'middle'\n",
       "        },\n",
       "        color: 'gray',\n",
       "        arrows: {\n",
       "            to: {\n",
       "                enabled: true,\n",
       "                scaleFactor: 0.5\n",
       "            }\n",
       "        },\n",
       "        smooth: {\n",
       "            enabled: false\n",
       "        }\n",
       "    },\n",
       "    physics: {\n",
       "        enabled: true\n",
       "        }\n",
       "    };\n",
       "\n",
       "    var network = new vis.Network(container, data, options);\n",
       "\n",
       "</script>\n"
      ],
      "text/plain": [
       "<IPython.core.display.HTML object>"
      ]
     },
     "execution_count": 8,
     "metadata": {},
     "output_type": "execute_result"
    }
   ],
   "source": [
    "neo4jupyter.draw(connect(), {\"Term\": \"name\"})"
   ]
  },
  {
   "cell_type": "code",
   "execution_count": 9,
   "metadata": {},
   "outputs": [
    {
     "name": "stdout",
     "output_type": "stream",
     "text": [
      "Synset('apple.n.01') [Synset('edible_fruit.n.01'), Synset('pome.n.01')]\n",
      "Synset('edible_fruit.n.01') [Synset('fruit.n.01'), Synset('produce.n.01')]\n",
      "Synset('pome.n.01') [Synset('fruit.n.01')]\n",
      "Synset('fruit.n.01') [Synset('reproductive_structure.n.01')]\n",
      "Synset('produce.n.01') [Synset('food.n.02')]\n",
      "[[Synset('apple.n.01'), Synset('edible_fruit.n.01'), Synset('fruit.n.01')], [Synset('apple.n.01'), Synset('pome.n.01'), Synset('fruit.n.01')], [Synset('apple.n.01'), Synset('edible_fruit.n.01'), Synset('produce.n.01')]]\n",
      "\n",
      "Relations hypernyms\n",
      "Synset('apple.n.01') Synset('edible_fruit.n.01')\n",
      "Synset('edible_fruit.n.01') Synset('fruit.n.01')\n",
      "Synset('apple.n.01') Synset('pome.n.01')\n",
      "Synset('pome.n.01') Synset('fruit.n.01')\n",
      "Synset('edible_fruit.n.01') Synset('produce.n.01')\n",
      "--------------------------------------------------------------\n",
      "Synset('apple.n.01') [Synset('cooking_apple.n.01'), Synset('crab_apple.n.03'), Synset('eating_apple.n.01')]\n",
      "Synset('cooking_apple.n.01') [Synset('bramley's_seedling.n.01'), Synset('lane's_prince_albert.n.01'), Synset('newtown_wonder.n.01'), Synset('rome_beauty.n.01')]\n",
      "Synset('crab_apple.n.03') []\n",
      "Synset('eating_apple.n.01') [Synset('baldwin.n.03'), Synset('cortland.n.01'), Synset('delicious.n.01'), Synset('empire.n.05'), Synset('granny_smith.n.01'), Synset('grimes'_golden.n.01'), Synset('jonathan.n.01'), Synset('mcintosh.n.01'), Synset('northern_spy.n.01'), Synset('pearmain.n.01'), Synset('pippin.n.01'), Synset('prima.n.01'), Synset('stayman.n.01'), Synset('stayman_winesap.n.01'), Synset('winesap.n.01')]\n",
      "Synset('bramley's_seedling.n.01') []\n",
      "Synset('lane's_prince_albert.n.01') []\n",
      "Synset('newtown_wonder.n.01') []\n",
      "Synset('baldwin.n.03') []\n",
      "Synset('cortland.n.01') []\n",
      "Synset('delicious.n.01') [Synset('golden_delicious.n.01'), Synset('red_delicious.n.01')]\n",
      "\n",
      "Relations hyponyms\n",
      "Synset('apple.n.01') Synset('cooking_apple.n.01')\n",
      "Synset('cooking_apple.n.01') Synset('bramley's_seedling.n.01')\n",
      "Synset('apple.n.01') Synset('crab_apple.n.03')\n",
      "Synset('apple.n.01') Synset('eating_apple.n.01')\n",
      "Synset('eating_apple.n.01') Synset('baldwin.n.03')\n",
      "Synset('cooking_apple.n.01') Synset('lane's_prince_albert.n.01')\n",
      "Synset('cooking_apple.n.01') Synset('newtown_wonder.n.01')\n",
      "Synset('eating_apple.n.01') Synset('cortland.n.01')\n",
      "Synset('eating_apple.n.01') Synset('delicious.n.01')\n",
      "\n",
      "\n",
      "Same\n",
      "edible_fruit [Synset('aggregate_fruit.n.01'), Synset('schizocarp.n.01')]\n",
      "pome [Synset('acorn.n.01'), Synset('wild_cherry.n.01')]\n",
      "\n",
      "\n",
      "Same\n",
      "bramley's_seedling [Synset('lane's_prince_albert.n.01'), Synset('newtown_wonder.n.01')]\n",
      "lane's_prince_albert [Synset('newtown_wonder.n.01'), Synset('rome_beauty.n.01')]\n",
      "newtown_wonder [Synset('bramley's_seedling.n.01'), Synset('lane's_prince_albert.n.01')]\n",
      "baldwin [Synset('delicious.n.01'), Synset('winesap.n.01')]\n",
      "cortland [Synset('pearmain.n.01'), Synset('stayman.n.01')]\n",
      "delicious [Synset('mcintosh.n.01'), Synset('winesap.n.01')]\n"
     ]
    }
   ],
   "source": [
    "from graphCreation.sameCreation.generateSame import *\n",
    "deleteAll(connect())\n",
    "generateHypernyms([[1,5],[2,3]], \"apple\", connect())\n",
    "generateHyponyms([[1,5],[2,3]], \"apple\", connect())\n",
    "generateSame(\"apple\", [[1,2],[-2,2]], connect())\n"
   ]
  },
  {
   "cell_type": "code",
   "execution_count": 10,
   "metadata": {},
   "outputs": [
    {
     "data": {
      "text/html": [
       "<div id=\"a5b868b3-8b41-4337-a73b-650b9883553b\" style=\"height: 400px;\"></div>\n",
       "\n",
       "<script type=\"text/javascript\">\n",
       "\n",
       "    var nodes = [{\"id\": 7643, \"label\": \"edible_fruit\", \"group\": \"Term\", \"title\": \"(_7643:Term {definition: 'edible reproductive body of a seed plant especially one having sweet flesh', label: 'edible_fruit::Name', name: 'edible_fruit', type: 'Name'})\"}, {\"id\": 7193, \"label\": \"schizocarp\", \"group\": \"Term\", \"title\": \"(_7193:Term {definition: 'a dry dehiscent fruit that at maturity splits into two or more parts each with a single seed', label: 'schizocarp::Name', name: 'schizocarp', type: 'Name'})\"}, {\"id\": 7187, \"label\": \"aggregate_fruit\", \"group\": \"Term\", \"title\": \"(_7187:Term {definition: 'fruit consisting of many individual small fruits or drupes derived from separate ovaries within a common receptacle: e.g. blackberry; raspberry; pineapple', label: 'aggregate_fruit::Name', name: 'aggregate_fruit', type: 'Name'})\"}, {\"id\": 7646, \"label\": \"produce\", \"group\": \"Term\", \"title\": \"(_7646:Term {definition: 'fresh fruits and vegetable grown for the market', label: 'produce::Name', name: 'produce', type: 'Name'})\"}, {\"id\": 7645, \"label\": \"fruit\", \"group\": \"Term\", \"title\": \"(_7645:Term {definition: 'the ripened reproductive body of a seed plant', label: 'fruit::Name', name: 'fruit', type: 'Name'})\"}, {\"id\": 7172, \"label\": \"cortland\", \"group\": \"Term\", \"title\": \"(_7172:Term {definition: 'large apple with a red skin', label: 'cortland::Name', name: 'cortland', type: 'Name'})\"}, {\"id\": 7199, \"label\": \"stayman\", \"group\": \"Term\", \"title\": \"(_7199:Term {definition: 'apple grown chiefly in the Shenandoah Valley', label: 'stayman::Name', name: 'stayman', type: 'Name'})\"}, {\"id\": 7198, \"label\": \"pearmain\", \"group\": \"Term\", \"title\": \"(_7198:Term {definition: 'any of several varieties of apples with red skins', label: 'pearmain::Name', name: 'pearmain', type: 'Name'})\"}, {\"id\": 7160, \"label\": \"eating_apple\", \"group\": \"Term\", \"title\": \"(_7160:Term {definition: 'an apple used primarily for eating raw without cooking', label: 'eating_apple::Name', name: 'eating_apple', type: 'Name'})\"}, {\"id\": 7162, \"label\": \"lane's_prince_albert\", \"group\": \"Term\", \"title\": \"(_7162:Term {definition: 'apple used primarily in cooking', label: \\\"lane's_prince_albert::Name\\\", name: \\\"lane's_prince_albert\\\", type: 'Name'})\"}, {\"id\": 7196, \"label\": \"rome_beauty\", \"group\": \"Term\", \"title\": \"(_7196:Term {definition: 'large red apple used primarily for baking', label: 'rome_beauty::Name', name: 'rome_beauty', type: 'Name'})\"}, {\"id\": 7170, \"label\": \"newtown_wonder\", \"group\": \"Term\", \"title\": \"(_7170:Term {definition: 'apple used primarily in cooking', label: 'newtown_wonder::Name', name: 'newtown_wonder', type: 'Name'})\"}, {\"id\": 7161, \"label\": \"bramley's_seedling\", \"group\": \"Term\", \"title\": \"(_7161:Term {definition: 'very large cooking apple', label: \\\"bramley's_seedling::Name\\\", name: \\\"bramley's_seedling\\\", type: 'Name'})\"}, {\"id\": 7647, \"label\": \"cooking_apple\", \"group\": \"Term\", \"title\": \"(_7647:Term {definition: 'an apple used primarily in cooking for pies and applesauce etc', label: 'cooking_apple::Name', name: 'cooking_apple', type: 'Name'})\"}, {\"id\": 7648, \"label\": \"crab_apple\", \"group\": \"Term\", \"title\": \"(_7648:Term {definition: 'any of numerous varieties of crab apples cultivated for their small acidic (usually bright red) fruit used for preserves or as ornamentals for their blossoms', label: 'crab_apple::Name', name: 'crab_apple', type: 'Name'})\"}, {\"id\": 7642, \"label\": \"apple\", \"group\": \"Term\", \"title\": \"(_7642:Term {definition: 'fruit with red or yellow or green skin and sweet to tart crisp whitish flesh', label: 'apple::Name', name: 'apple', type: 'Name'})\"}, {\"id\": 7171, \"label\": \"baldwin\", \"group\": \"Term\", \"title\": \"(_7171:Term {definition: 'United States author who was an outspoken critic of racism (1924-1987)', label: 'baldwin::Name', name: 'baldwin', type: 'Name'})\"}, {\"id\": 7197, \"label\": \"winesap\", \"group\": \"Term\", \"title\": \"(_7197:Term {definition: 'crisp apple with dark red skin', label: 'winesap::Name', name: 'winesap', type: 'Name'})\"}, {\"id\": 7186, \"label\": \"delicious\", \"group\": \"Term\", \"title\": \"(_7186:Term {definition: 'variety of sweet eating apples', label: 'delicious::Name', name: 'delicious', type: 'Name'})\"}, {\"id\": 7195, \"label\": \"wild_cherry\", \"group\": \"Term\", \"title\": \"(_7195:Term {definition: 'the fruit of the wild cherry tree', label: 'wild_cherry::Name', name: 'wild_cherry', type: 'Name'})\"}, {\"id\": 7644, \"label\": \"pome\", \"group\": \"Term\", \"title\": \"(_7644:Term {definition: 'a fleshy fruit (apple or pear or related fruits) having seed chambers and an outer fleshy part', label: 'pome::Name', name: 'pome', type: 'Name'})\"}, {\"id\": 7200, \"label\": \"mcintosh\", \"group\": \"Term\", \"title\": \"(_7200:Term {definition: 'early-ripening apple popular in the northeastern United States; primarily eaten raw but suitable for applesauce', label: 'mcintosh::Name', name: 'mcintosh', type: 'Name'})\"}, {\"id\": 7194, \"label\": \"acorn\", \"group\": \"Term\", \"title\": \"(_7194:Term {definition: 'fruit of the oak tree: a smooth thin-walled nut in a woody cup-shaped base', label: 'acorn::Name', name: 'acorn', type: 'Name'})\"}];\n",
       "    var edges = [{\"from\": 7643, \"to\": 7193, \"label\": \"SAME\"}, {\"from\": 7643, \"to\": 7187, \"label\": \"SAME\"}, {\"from\": 7643, \"to\": 7646, \"label\": \"ISA\"}, {\"from\": 7643, \"to\": 7645, \"label\": \"ISA\"}, {\"from\": 7172, \"to\": 7199, \"label\": \"SAME\"}, {\"from\": 7172, \"to\": 7198, \"label\": \"SAME\"}, {\"from\": 7172, \"to\": 7160, \"label\": \"ISA\"}, {\"from\": 7198, \"to\": 7172, \"label\": \"SAME\"}, {\"from\": 7199, \"to\": 7172, \"label\": \"SAME\"}, {\"from\": 7187, \"to\": 7643, \"label\": \"SAME\"}, {\"from\": 7162, \"to\": 7196, \"label\": \"SAME\"}, {\"from\": 7162, \"to\": 7170, \"label\": \"SAME\"}, {\"from\": 7162, \"to\": 7161, \"label\": \"SAME\"}, {\"from\": 7162, \"to\": 7647, \"label\": \"ISA\"}, {\"from\": 7648, \"to\": 7642, \"label\": \"ISA\"}, {\"from\": 7171, \"to\": 7197, \"label\": \"SAME\"}, {\"from\": 7171, \"to\": 7186, \"label\": \"SAME\"}, {\"from\": 7171, \"to\": 7160, \"label\": \"ISA\"}, {\"from\": 7161, \"to\": 7170, \"label\": \"SAME\"}, {\"from\": 7161, \"to\": 7162, \"label\": \"SAME\"}, {\"from\": 7161, \"to\": 7647, \"label\": \"ISA\"}, {\"from\": 7193, \"to\": 7643, \"label\": \"SAME\"}, {\"from\": 7195, \"to\": 7644, \"label\": \"SAME\"}, {\"from\": 7200, \"to\": 7186, \"label\": \"SAME\"}, {\"from\": 7160, \"to\": 7642, \"label\": \"ISA\"}, {\"from\": 7186, \"to\": 7197, \"label\": \"SAME\"}, {\"from\": 7186, \"to\": 7200, \"label\": \"SAME\"}, {\"from\": 7186, \"to\": 7171, \"label\": \"SAME\"}, {\"from\": 7186, \"to\": 7160, \"label\": \"ISA\"}, {\"from\": 7642, \"to\": 7644, \"label\": \"ISA\"}, {\"from\": 7642, \"to\": 7643, \"label\": \"ISA\"}, {\"from\": 7196, \"to\": 7162, \"label\": \"SAME\"}, {\"from\": 7647, \"to\": 7642, \"label\": \"ISA\"}, {\"from\": 7170, \"to\": 7162, \"label\": \"SAME\"}, {\"from\": 7170, \"to\": 7161, \"label\": \"SAME\"}, {\"from\": 7170, \"to\": 7647, \"label\": \"ISA\"}, {\"from\": 7197, \"to\": 7186, \"label\": \"SAME\"}, {\"from\": 7197, \"to\": 7171, \"label\": \"SAME\"}, {\"from\": 7644, \"to\": 7195, \"label\": \"SAME\"}, {\"from\": 7644, \"to\": 7194, \"label\": \"SAME\"}, {\"from\": 7644, \"to\": 7645, \"label\": \"ISA\"}, {\"from\": 7194, \"to\": 7644, \"label\": \"SAME\"}];\n",
       "\n",
       "    var container = document.getElementById(\"a5b868b3-8b41-4337-a73b-650b9883553b\");\n",
       "\n",
       "    var data = {\n",
       "        nodes: nodes,\n",
       "        edges: edges\n",
       "    };\n",
       "\n",
       "    var options = {\n",
       "    nodes: {\n",
       "        shape: 'dot',\n",
       "        size: 25,\n",
       "        font: {\n",
       "            size: 14\n",
       "        }\n",
       "    },\n",
       "    edges: {\n",
       "        font: {\n",
       "            size: 14,\n",
       "            align: 'middle'\n",
       "        },\n",
       "        color: 'gray',\n",
       "        arrows: {\n",
       "            to: {\n",
       "                enabled: true,\n",
       "                scaleFactor: 0.5\n",
       "            }\n",
       "        },\n",
       "        smooth: {\n",
       "            enabled: false\n",
       "        }\n",
       "    },\n",
       "    physics: {\n",
       "        enabled: true\n",
       "        }\n",
       "    };\n",
       "\n",
       "    var network = new vis.Network(container, data, options);\n",
       "\n",
       "</script>\n"
      ],
      "text/plain": [
       "<IPython.core.display.HTML object>"
      ]
     },
     "execution_count": 10,
     "metadata": {},
     "output_type": "execute_result"
    }
   ],
   "source": [
    "neo4jupyter.draw(connect(), {\"Term\": \"name\"})"
   ]
  },
  {
   "cell_type": "code",
   "execution_count": null,
   "metadata": {},
   "outputs": [],
   "source": []
  }
 ],
 "metadata": {
  "kernelspec": {
   "display_name": "Python 3",
   "language": "python",
   "name": "python3"
  },
  "language_info": {
   "codemirror_mode": {
    "name": "ipython",
    "version": 3
   },
   "file_extension": ".py",
   "mimetype": "text/x-python",
   "name": "python",
   "nbconvert_exporter": "python",
   "pygments_lexer": "ipython3",
   "version": "3.7.3"
  }
 },
 "nbformat": 4,
 "nbformat_minor": 4
}
